{
 "cells": [
  {
   "cell_type": "code",
   "execution_count": 1,
   "metadata": {},
   "outputs": [
    {
     "name": "stdout",
     "output_type": "stream",
     "text": [
      "The history saving thread hit an unexpected error (DatabaseError('database disk image is malformed')).History will not be written to the database.\n"
     ]
    },
    {
     "name": "stderr",
     "output_type": "stream",
     "text": [
      "/cellar/users/aklie/opt/miniconda3/envs/scverse-lite-py39/lib/python3.9/site-packages/tqdm/auto.py:21: TqdmWarning: IProgress not found. Please update jupyter and ipywidgets. See https://ipywidgets.readthedocs.io/en/stable/user_install.html\n",
      "  from .autonotebook import tqdm as notebook_tqdm\n",
      "/cellar/users/aklie/.local/lib/python3.9/site-packages/numba/np/ufunc/parallel.py:371: NumbaWarning: \u001b[1mThe TBB threading layer requires TBB version 2021 update 6 or later i.e., TBB_INTERFACE_VERSION >= 12060. Found TBB_INTERFACE_VERSION = 12050. The TBB threading layer is disabled.\u001b[0m\n",
      "  warnings.warn(problem)\n"
     ]
    }
   ],
   "source": [
    "import os\n",
    "import glob\n",
    "import pickle\n",
    "import pandas as pd\n",
    "import numpy as np\n",
    "import matplotlib.pyplot as plt\n",
    "import seaborn as sns\n",
    "import scipy.stats as stats\n",
    "from collections.abc import Iterable\n",
    "from tqdm.auto import tqdm\n",
    "import muon as mu\n",
    "import scanpy as sc\n",
    "import decoupler as dc\n",
    "import snapatac2 as snap\n",
    "\n",
    "%matplotlib inline"
   ]
  },
  {
   "cell_type": "code",
   "execution_count": 2,
   "metadata": {},
   "outputs": [],
   "source": [
    "# Paths\n",
    "sample_metadata_path = \"/cellar/users/aklie/data/datasets/igvf_sc-islet_10X-Multiome/metadata/sample_metadata.tsv\"\n",
    "cellranger_path = \"/cellar/users/aklie/data/datasets/igvf_sc-islet_10X-Multiome/processed/*/cellranger/\"\n",
    "cellcommander_path = \"/cellar/users/aklie/data/datasets/igvf_sc-islet_10X-Multiome/results/sample_annotation\"\n",
    "\n",
    "outpath = \"/cellar/users/aklie/data/datasets/igvf_sc-islet_10X-Multiome/results/sample_annotation/sample_annotation_metadata_2024_07_20.tsv\""
   ]
  },
  {
   "cell_type": "markdown",
   "metadata": {},
   "source": [
    "# Metadata"
   ]
  },
  {
   "cell_type": "code",
   "execution_count": 3,
   "metadata": {},
   "outputs": [
    {
     "data": {
      "text/html": [
       "<div>\n",
       "<style scoped>\n",
       "    .dataframe tbody tr th:only-of-type {\n",
       "        vertical-align: middle;\n",
       "    }\n",
       "\n",
       "    .dataframe tbody tr th {\n",
       "        vertical-align: top;\n",
       "    }\n",
       "\n",
       "    .dataframe thead th {\n",
       "        text-align: right;\n",
       "    }\n",
       "</style>\n",
       "<table border=\"1\" class=\"dataframe\">\n",
       "  <thead>\n",
       "    <tr style=\"text-align: right;\">\n",
       "      <th></th>\n",
       "      <th>condition</th>\n",
       "      <th>timepoint</th>\n",
       "      <th>rep</th>\n",
       "      <th>harmonized_sample_id</th>\n",
       "      <th>year</th>\n",
       "      <th>cell_line</th>\n",
       "      <th>differentiation_batch</th>\n",
       "      <th>sequencing_batch</th>\n",
       "      <th>multiome_stage</th>\n",
       "      <th>multiome_qc_status</th>\n",
       "      <th>notes</th>\n",
       "    </tr>\n",
       "    <tr>\n",
       "      <th>sample_id</th>\n",
       "      <th></th>\n",
       "      <th></th>\n",
       "      <th></th>\n",
       "      <th></th>\n",
       "      <th></th>\n",
       "      <th></th>\n",
       "      <th></th>\n",
       "      <th></th>\n",
       "      <th></th>\n",
       "      <th></th>\n",
       "      <th></th>\n",
       "    </tr>\n",
       "  </thead>\n",
       "  <tbody>\n",
       "    <tr>\n",
       "      <th>mo1</th>\n",
       "      <td>control</td>\n",
       "      <td>0</td>\n",
       "      <td>fail</td>\n",
       "      <td>NaN</td>\n",
       "      <td>1.0</td>\n",
       "      <td>H1</td>\n",
       "      <td>DM023</td>\n",
       "      <td>NaN</td>\n",
       "      <td>annotated</td>\n",
       "      <td>fail</td>\n",
       "      <td>not using H1 samples</td>\n",
       "    </tr>\n",
       "    <tr>\n",
       "      <th>mo3</th>\n",
       "      <td>control</td>\n",
       "      <td>0</td>\n",
       "      <td>fail</td>\n",
       "      <td>NaN</td>\n",
       "      <td>1.0</td>\n",
       "      <td>H1</td>\n",
       "      <td>DM023</td>\n",
       "      <td>NaN</td>\n",
       "      <td>annotated</td>\n",
       "      <td>fail</td>\n",
       "      <td>not using H1 samples</td>\n",
       "    </tr>\n",
       "    <tr>\n",
       "      <th>dm0b</th>\n",
       "      <td>control</td>\n",
       "      <td>0</td>\n",
       "      <td>fail</td>\n",
       "      <td>NaN</td>\n",
       "      <td>2.0</td>\n",
       "      <td>A2</td>\n",
       "      <td>DM041</td>\n",
       "      <td>NaN</td>\n",
       "      <td>annotated</td>\n",
       "      <td>fail</td>\n",
       "      <td>clustered separately in integration, still has...</td>\n",
       "    </tr>\n",
       "    <tr>\n",
       "      <th>0-2</th>\n",
       "      <td>control</td>\n",
       "      <td>0</td>\n",
       "      <td>1</td>\n",
       "      <td>control_0_1</td>\n",
       "      <td>3.0</td>\n",
       "      <td>A2</td>\n",
       "      <td>JE002</td>\n",
       "      <td>NaN</td>\n",
       "      <td>annotated</td>\n",
       "      <td>pass</td>\n",
       "      <td>0-1 wasn't sequenced due to not enough cells</td>\n",
       "    </tr>\n",
       "    <tr>\n",
       "      <th>0-3</th>\n",
       "      <td>control</td>\n",
       "      <td>0</td>\n",
       "      <td>2</td>\n",
       "      <td>control_0_2</td>\n",
       "      <td>3.0</td>\n",
       "      <td>A2</td>\n",
       "      <td>JE002</td>\n",
       "      <td>NaN</td>\n",
       "      <td>not generated</td>\n",
       "      <td>NaN</td>\n",
       "      <td>NaN</td>\n",
       "    </tr>\n",
       "  </tbody>\n",
       "</table>\n",
       "</div>"
      ],
      "text/plain": [
       "          condition  timepoint   rep harmonized_sample_id  year cell_line  \\\n",
       "sample_id                                                                   \n",
       "mo1         control          0  fail                  NaN   1.0        H1   \n",
       "mo3         control          0  fail                  NaN   1.0        H1   \n",
       "dm0b        control          0  fail                  NaN   2.0        A2   \n",
       "0-2         control          0     1          control_0_1   3.0        A2   \n",
       "0-3         control          0     2          control_0_2   3.0        A2   \n",
       "\n",
       "          differentiation_batch  sequencing_batch multiome_stage  \\\n",
       "sample_id                                                          \n",
       "mo1                       DM023               NaN      annotated   \n",
       "mo3                       DM023               NaN      annotated   \n",
       "dm0b                      DM041               NaN      annotated   \n",
       "0-2                       JE002               NaN      annotated   \n",
       "0-3                       JE002               NaN  not generated   \n",
       "\n",
       "          multiome_qc_status  \\\n",
       "sample_id                      \n",
       "mo1                     fail   \n",
       "mo3                     fail   \n",
       "dm0b                    fail   \n",
       "0-2                     pass   \n",
       "0-3                      NaN   \n",
       "\n",
       "                                                       notes  \n",
       "sample_id                                                     \n",
       "mo1                                     not using H1 samples  \n",
       "mo3                                     not using H1 samples  \n",
       "dm0b       clustered separately in integration, still has...  \n",
       "0-2             0-1 wasn't sequenced due to not enough cells  \n",
       "0-3                                                      NaN  "
      ]
     },
     "execution_count": 3,
     "metadata": {},
     "output_type": "execute_result"
    }
   ],
   "source": [
    "# Load\n",
    "sample_metadata_df = pd.read_csv(sample_metadata_path, sep=\"\\t\", index_col=0)\n",
    "sample_metadata_df.head()"
   ]
  },
  {
   "cell_type": "markdown",
   "metadata": {},
   "source": [
    "# Add initial number of barcodes detected"
   ]
  },
  {
   "cell_type": "code",
   "execution_count": 4,
   "metadata": {},
   "outputs": [
    {
     "data": {
      "text/plain": [
       "38"
      ]
     },
     "execution_count": 4,
     "metadata": {},
     "output_type": "execute_result"
    }
   ],
   "source": [
    "# Grab all files in the cellranger directory called \"per_barcode_bc_metrics.csv\"\n",
    "bc_metrics_paths = sorted(glob.glob(os.path.join(cellranger_path, \"*\", \"outs\", \"per_barcode_metrics.csv\")))\n",
    "len(bc_metrics_paths)"
   ]
  },
  {
   "cell_type": "code",
   "execution_count": 5,
   "metadata": {},
   "outputs": [
    {
     "name": "stderr",
     "output_type": "stream",
     "text": [
      "  0%|          | 0/38 [00:00<?, ?it/s]"
     ]
    },
    {
     "name": "stderr",
     "output_type": "stream",
     "text": [
      "  0%|          | 0/38 [00:01<?, ?it/s]\n"
     ]
    },
    {
     "ename": "KeyboardInterrupt",
     "evalue": "",
     "output_type": "error",
     "traceback": [
      "\u001b[0;31m---------------------------------------------------------------------------\u001b[0m",
      "\u001b[0;31mKeyboardInterrupt\u001b[0m                         Traceback (most recent call last)",
      "Cell \u001b[0;32mIn[5], line 5\u001b[0m\n\u001b[1;32m      3\u001b[0m \u001b[38;5;28;01mfor\u001b[39;00m bc_metrics_path \u001b[38;5;129;01min\u001b[39;00m tqdm(bc_metrics_paths):\n\u001b[1;32m      4\u001b[0m     sample_id \u001b[38;5;241m=\u001b[39m bc_metrics_path\u001b[38;5;241m.\u001b[39msplit(\u001b[38;5;124m\"\u001b[39m\u001b[38;5;124m/\u001b[39m\u001b[38;5;124m\"\u001b[39m)[\u001b[38;5;241m-\u001b[39m\u001b[38;5;241m3\u001b[39m]\u001b[38;5;241m.\u001b[39msplit(\u001b[38;5;124m\"\u001b[39m\u001b[38;5;124m_\u001b[39m\u001b[38;5;124m\"\u001b[39m)[\u001b[38;5;241m1\u001b[39m]\n\u001b[0;32m----> 5\u001b[0m     bc_metrics_df \u001b[38;5;241m=\u001b[39m \u001b[43mpd\u001b[49m\u001b[38;5;241;43m.\u001b[39;49m\u001b[43mread_csv\u001b[49m\u001b[43m(\u001b[49m\u001b[43mbc_metrics_path\u001b[49m\u001b[43m)\u001b[49m\n\u001b[1;32m      6\u001b[0m     initial_bcs\u001b[38;5;241m.\u001b[39mappend(bc_metrics_df\u001b[38;5;241m.\u001b[39mshape[\u001b[38;5;241m0\u001b[39m])\n\u001b[1;32m      7\u001b[0m     \u001b[38;5;28;01mif\u001b[39;00m sample_id \u001b[38;5;129;01min\u001b[39;00m sample_metadata_df\u001b[38;5;241m.\u001b[39mindex:\n",
      "File \u001b[0;32m~/opt/miniconda3/envs/scverse-lite-py39/lib/python3.9/site-packages/pandas/util/_decorators.py:311\u001b[0m, in \u001b[0;36mdeprecate_nonkeyword_arguments.<locals>.decorate.<locals>.wrapper\u001b[0;34m(*args, **kwargs)\u001b[0m\n\u001b[1;32m    305\u001b[0m \u001b[38;5;28;01mif\u001b[39;00m \u001b[38;5;28mlen\u001b[39m(args) \u001b[38;5;241m>\u001b[39m num_allow_args:\n\u001b[1;32m    306\u001b[0m     warnings\u001b[38;5;241m.\u001b[39mwarn(\n\u001b[1;32m    307\u001b[0m         msg\u001b[38;5;241m.\u001b[39mformat(arguments\u001b[38;5;241m=\u001b[39marguments),\n\u001b[1;32m    308\u001b[0m         \u001b[38;5;167;01mFutureWarning\u001b[39;00m,\n\u001b[1;32m    309\u001b[0m         stacklevel\u001b[38;5;241m=\u001b[39mstacklevel,\n\u001b[1;32m    310\u001b[0m     )\n\u001b[0;32m--> 311\u001b[0m \u001b[38;5;28;01mreturn\u001b[39;00m \u001b[43mfunc\u001b[49m\u001b[43m(\u001b[49m\u001b[38;5;241;43m*\u001b[39;49m\u001b[43margs\u001b[49m\u001b[43m,\u001b[49m\u001b[43m \u001b[49m\u001b[38;5;241;43m*\u001b[39;49m\u001b[38;5;241;43m*\u001b[39;49m\u001b[43mkwargs\u001b[49m\u001b[43m)\u001b[49m\n",
      "File \u001b[0;32m~/opt/miniconda3/envs/scverse-lite-py39/lib/python3.9/site-packages/pandas/io/parsers/readers.py:680\u001b[0m, in \u001b[0;36mread_csv\u001b[0;34m(filepath_or_buffer, sep, delimiter, header, names, index_col, usecols, squeeze, prefix, mangle_dupe_cols, dtype, engine, converters, true_values, false_values, skipinitialspace, skiprows, skipfooter, nrows, na_values, keep_default_na, na_filter, verbose, skip_blank_lines, parse_dates, infer_datetime_format, keep_date_col, date_parser, dayfirst, cache_dates, iterator, chunksize, compression, thousands, decimal, lineterminator, quotechar, quoting, doublequote, escapechar, comment, encoding, encoding_errors, dialect, error_bad_lines, warn_bad_lines, on_bad_lines, delim_whitespace, low_memory, memory_map, float_precision, storage_options)\u001b[0m\n\u001b[1;32m    665\u001b[0m kwds_defaults \u001b[38;5;241m=\u001b[39m _refine_defaults_read(\n\u001b[1;32m    666\u001b[0m     dialect,\n\u001b[1;32m    667\u001b[0m     delimiter,\n\u001b[0;32m   (...)\u001b[0m\n\u001b[1;32m    676\u001b[0m     defaults\u001b[38;5;241m=\u001b[39m{\u001b[38;5;124m\"\u001b[39m\u001b[38;5;124mdelimiter\u001b[39m\u001b[38;5;124m\"\u001b[39m: \u001b[38;5;124m\"\u001b[39m\u001b[38;5;124m,\u001b[39m\u001b[38;5;124m\"\u001b[39m},\n\u001b[1;32m    677\u001b[0m )\n\u001b[1;32m    678\u001b[0m kwds\u001b[38;5;241m.\u001b[39mupdate(kwds_defaults)\n\u001b[0;32m--> 680\u001b[0m \u001b[38;5;28;01mreturn\u001b[39;00m \u001b[43m_read\u001b[49m\u001b[43m(\u001b[49m\u001b[43mfilepath_or_buffer\u001b[49m\u001b[43m,\u001b[49m\u001b[43m \u001b[49m\u001b[43mkwds\u001b[49m\u001b[43m)\u001b[49m\n",
      "File \u001b[0;32m~/opt/miniconda3/envs/scverse-lite-py39/lib/python3.9/site-packages/pandas/io/parsers/readers.py:581\u001b[0m, in \u001b[0;36m_read\u001b[0;34m(filepath_or_buffer, kwds)\u001b[0m\n\u001b[1;32m    578\u001b[0m     \u001b[38;5;28;01mreturn\u001b[39;00m parser\n\u001b[1;32m    580\u001b[0m \u001b[38;5;28;01mwith\u001b[39;00m parser:\n\u001b[0;32m--> 581\u001b[0m     \u001b[38;5;28;01mreturn\u001b[39;00m \u001b[43mparser\u001b[49m\u001b[38;5;241;43m.\u001b[39;49m\u001b[43mread\u001b[49m\u001b[43m(\u001b[49m\u001b[43mnrows\u001b[49m\u001b[43m)\u001b[49m\n",
      "File \u001b[0;32m~/opt/miniconda3/envs/scverse-lite-py39/lib/python3.9/site-packages/pandas/io/parsers/readers.py:1254\u001b[0m, in \u001b[0;36mTextFileReader.read\u001b[0;34m(self, nrows)\u001b[0m\n\u001b[1;32m   1252\u001b[0m nrows \u001b[38;5;241m=\u001b[39m validate_integer(\u001b[38;5;124m\"\u001b[39m\u001b[38;5;124mnrows\u001b[39m\u001b[38;5;124m\"\u001b[39m, nrows)\n\u001b[1;32m   1253\u001b[0m \u001b[38;5;28;01mtry\u001b[39;00m:\n\u001b[0;32m-> 1254\u001b[0m     index, columns, col_dict \u001b[38;5;241m=\u001b[39m \u001b[38;5;28;43mself\u001b[39;49m\u001b[38;5;241;43m.\u001b[39;49m\u001b[43m_engine\u001b[49m\u001b[38;5;241;43m.\u001b[39;49m\u001b[43mread\u001b[49m\u001b[43m(\u001b[49m\u001b[43mnrows\u001b[49m\u001b[43m)\u001b[49m\n\u001b[1;32m   1255\u001b[0m \u001b[38;5;28;01mexcept\u001b[39;00m \u001b[38;5;167;01mException\u001b[39;00m:\n\u001b[1;32m   1256\u001b[0m     \u001b[38;5;28mself\u001b[39m\u001b[38;5;241m.\u001b[39mclose()\n",
      "File \u001b[0;32m~/opt/miniconda3/envs/scverse-lite-py39/lib/python3.9/site-packages/pandas/io/parsers/c_parser_wrapper.py:225\u001b[0m, in \u001b[0;36mCParserWrapper.read\u001b[0;34m(self, nrows)\u001b[0m\n\u001b[1;32m    223\u001b[0m \u001b[38;5;28;01mtry\u001b[39;00m:\n\u001b[1;32m    224\u001b[0m     \u001b[38;5;28;01mif\u001b[39;00m \u001b[38;5;28mself\u001b[39m\u001b[38;5;241m.\u001b[39mlow_memory:\n\u001b[0;32m--> 225\u001b[0m         chunks \u001b[38;5;241m=\u001b[39m \u001b[38;5;28;43mself\u001b[39;49m\u001b[38;5;241;43m.\u001b[39;49m\u001b[43m_reader\u001b[49m\u001b[38;5;241;43m.\u001b[39;49m\u001b[43mread_low_memory\u001b[49m\u001b[43m(\u001b[49m\u001b[43mnrows\u001b[49m\u001b[43m)\u001b[49m\n\u001b[1;32m    226\u001b[0m         \u001b[38;5;66;03m# destructive to chunks\u001b[39;00m\n\u001b[1;32m    227\u001b[0m         data \u001b[38;5;241m=\u001b[39m _concatenate_chunks(chunks)\n",
      "File \u001b[0;32m~/opt/miniconda3/envs/scverse-lite-py39/lib/python3.9/site-packages/pandas/_libs/parsers.pyx:805\u001b[0m, in \u001b[0;36mpandas._libs.parsers.TextReader.read_low_memory\u001b[0;34m()\u001b[0m\n",
      "File \u001b[0;32m~/opt/miniconda3/envs/scverse-lite-py39/lib/python3.9/site-packages/pandas/_libs/parsers.pyx:883\u001b[0m, in \u001b[0;36mpandas._libs.parsers.TextReader._read_rows\u001b[0;34m()\u001b[0m\n",
      "File \u001b[0;32m~/opt/miniconda3/envs/scverse-lite-py39/lib/python3.9/site-packages/pandas/_libs/parsers.pyx:1026\u001b[0m, in \u001b[0;36mpandas._libs.parsers.TextReader._convert_column_data\u001b[0;34m()\u001b[0m\n",
      "File \u001b[0;32m~/opt/miniconda3/envs/scverse-lite-py39/lib/python3.9/site-packages/pandas/_libs/parsers.pyx:1072\u001b[0m, in \u001b[0;36mpandas._libs.parsers.TextReader._convert_tokens\u001b[0;34m()\u001b[0m\n",
      "File \u001b[0;32m~/opt/miniconda3/envs/scverse-lite-py39/lib/python3.9/site-packages/pandas/_libs/parsers.pyx:1147\u001b[0m, in \u001b[0;36mpandas._libs.parsers.TextReader._convert_with_dtype\u001b[0;34m()\u001b[0m\n",
      "File \u001b[0;32m~/opt/miniconda3/envs/scverse-lite-py39/lib/python3.9/site-packages/pandas/core/dtypes/common.py:1429\u001b[0m, in \u001b[0;36mis_extension_array_dtype\u001b[0;34m(arr_or_dtype)\u001b[0m\n\u001b[1;32m   1420\u001b[0m     \u001b[38;5;66;03m# Note: if other EA dtypes are ever held in HybridBlock, exclude those\u001b[39;00m\n\u001b[1;32m   1421\u001b[0m     \u001b[38;5;66;03m#  here too.\u001b[39;00m\n\u001b[1;32m   1422\u001b[0m     \u001b[38;5;66;03m# NB: need to check DatetimeTZDtype and not is_datetime64tz_dtype\u001b[39;00m\n\u001b[1;32m   1423\u001b[0m     \u001b[38;5;66;03m#  to exclude ArrowTimestampUSDtype\u001b[39;00m\n\u001b[1;32m   1424\u001b[0m     \u001b[38;5;28;01mreturn\u001b[39;00m \u001b[38;5;28misinstance\u001b[39m(dtype, ExtensionDtype) \u001b[38;5;129;01mand\u001b[39;00m \u001b[38;5;129;01mnot\u001b[39;00m \u001b[38;5;28misinstance\u001b[39m(\n\u001b[1;32m   1425\u001b[0m         dtype, (DatetimeTZDtype, PeriodDtype)\n\u001b[1;32m   1426\u001b[0m     )\n\u001b[0;32m-> 1429\u001b[0m \u001b[38;5;28;01mdef\u001b[39;00m \u001b[38;5;21mis_extension_array_dtype\u001b[39m(arr_or_dtype) \u001b[38;5;241m-\u001b[39m\u001b[38;5;241m>\u001b[39m \u001b[38;5;28mbool\u001b[39m:\n\u001b[1;32m   1430\u001b[0m \u001b[38;5;250m    \u001b[39m\u001b[38;5;124;03m\"\"\"\u001b[39;00m\n\u001b[1;32m   1431\u001b[0m \u001b[38;5;124;03m    Check if an object is a pandas extension array type.\u001b[39;00m\n\u001b[1;32m   1432\u001b[0m \n\u001b[0;32m   (...)\u001b[0m\n\u001b[1;32m   1472\u001b[0m \u001b[38;5;124;03m    False\u001b[39;00m\n\u001b[1;32m   1473\u001b[0m \u001b[38;5;124;03m    \"\"\"\u001b[39;00m\n\u001b[1;32m   1474\u001b[0m     dtype \u001b[38;5;241m=\u001b[39m \u001b[38;5;28mgetattr\u001b[39m(arr_or_dtype, \u001b[38;5;124m\"\u001b[39m\u001b[38;5;124mdtype\u001b[39m\u001b[38;5;124m\"\u001b[39m, arr_or_dtype)\n",
      "\u001b[0;31mKeyboardInterrupt\u001b[0m: "
     ]
    }
   ],
   "source": [
    "# For every file, read it and\n",
    "initial_bcs = []\n",
    "for bc_metrics_path in tqdm(bc_metrics_paths):\n",
    "    sample_id = bc_metrics_path.split(\"/\")[-3].split(\"_\")[1]\n",
    "    bc_metrics_df = pd.read_csv(bc_metrics_path)\n",
    "    initial_bcs.append(bc_metrics_df.shape[0])\n",
    "    if sample_id in sample_metadata_df.index:\n",
    "        sample_metadata_df.loc[sample_id, \"cellranger:initial_bcs_detected\"] = bc_metrics_df.shape[0]\n",
    "    else:\n",
    "        print(f\"Sample {sample_id} not in metadata\")"
   ]
  },
  {
   "cell_type": "code",
   "execution_count": null,
   "metadata": {},
   "outputs": [],
   "source": []
  },
  {
   "cell_type": "markdown",
   "metadata": {},
   "source": [
    "# Add expected cell number from CellRanger"
   ]
  },
  {
   "cell_type": "code",
   "execution_count": 6,
   "metadata": {},
   "outputs": [
    {
     "data": {
      "text/plain": [
       "38"
      ]
     },
     "execution_count": 6,
     "metadata": {},
     "output_type": "execute_result"
    }
   ],
   "source": [
    "#\n",
    "sample_metrics_paths = sorted(glob.glob(os.path.join(cellranger_path, \"*\", \"outs\", \"summary.csv\")))\n",
    "len(sample_metrics_paths)"
   ]
  },
  {
   "cell_type": "code",
   "execution_count": 7,
   "metadata": {},
   "outputs": [],
   "source": [
    "# For every file, read it and\n",
    "expected_cells = []\n",
    "for sample_metrics_path in sample_metrics_paths:\n",
    "    sample_id = sample_metrics_path.split(\"/\")[-3].split(\"_\")[1]\n",
    "    sample_metrics_df = pd.read_csv(sample_metrics_path)\n",
    "    expected_cells.append(sample_metrics_df[\"Estimated number of cells\"].values[0])\n",
    "    if sample_id in sample_metadata_df.index:\n",
    "        sample_metadata_df.loc[sample_id, \"cellranger:expected_cells_cellranger\"] = sample_metrics_df[\"Estimated number of cells\"].values[0]\n",
    "    else:\n",
    "        print(f\"Sample {sample_id} not in metadata\")"
   ]
  },
  {
   "cell_type": "markdown",
   "metadata": {},
   "source": [
    "# RNA"
   ]
  },
  {
   "cell_type": "markdown",
   "metadata": {},
   "source": [
    "## Barcodes filtered by RNA thresholds"
   ]
  },
  {
   "cell_type": "code",
   "execution_count": 8,
   "metadata": {},
   "outputs": [
    {
     "data": {
      "text/plain": [
       "38"
      ]
     },
     "execution_count": 8,
     "metadata": {},
     "output_type": "execute_result"
    }
   ],
   "source": [
    "filtered_bc_paths = sorted(glob.glob(os.path.join(cellcommander_path, \"*\", \"rna/threshold_qc\", \"filtered_barcodes.txt\")))\n",
    "len(filtered_bc_paths)"
   ]
  },
  {
   "cell_type": "code",
   "execution_count": 9,
   "metadata": {},
   "outputs": [],
   "source": [
    "filtered_bcs = []\n",
    "for filtered_bc_path in filtered_bc_paths:\n",
    "    sample_id = filtered_bc_path.split(\"/\")[-4]\n",
    "    filtered_bcs_df = pd.read_csv(filtered_bc_path, header=None)\n",
    "    filtered_bcs.append(filtered_bcs_df.shape[0])\n",
    "    if sample_id in sample_metadata_df.index:\n",
    "        sample_metadata_df.loc[sample_id, \"rna:filtered_bcs\"] = filtered_bcs_df.shape[0]\n",
    "    else:\n",
    "        print(f\"Sample {sample_id} not in metadata\")"
   ]
  },
  {
   "cell_type": "markdown",
   "metadata": {},
   "source": [
    "## Remaining RNA barcodes"
   ]
  },
  {
   "cell_type": "code",
   "execution_count": 10,
   "metadata": {},
   "outputs": [
    {
     "data": {
      "text/plain": [
       "38"
      ]
     },
     "execution_count": 10,
     "metadata": {},
     "output_type": "execute_result"
    }
   ],
   "source": [
    "threshold_h5ad_paths = sorted(glob.glob(os.path.join(cellcommander_path, \"*\", \"rna/threshold_qc\", \"threshold_qc.h5ad\")))\n",
    "len(threshold_h5ad_paths)"
   ]
  },
  {
   "cell_type": "code",
   "execution_count": 11,
   "metadata": {},
   "outputs": [
    {
     "name": "stderr",
     "output_type": "stream",
     "text": [
      "100%|██████████| 38/38 [00:52<00:00,  1.37s/it]\n"
     ]
    }
   ],
   "source": [
    "# Number of remaining cells after filtering\n",
    "remaining_bcs = []\n",
    "for threshold_h5ad_path in tqdm(threshold_h5ad_paths):\n",
    "    sample_id = threshold_h5ad_path.split(\"/\")[-4]\n",
    "    threshold_adata = sc.read_h5ad(threshold_h5ad_path)\n",
    "    remaining_bcs.append(threshold_adata.shape[0])\n",
    "    if sample_id in sample_metadata_df.index:\n",
    "        sample_metadata_df.loc[sample_id, \"rna:remaining_bcs\"] = threshold_adata.shape[0]\n",
    "    else:\n",
    "        print(f\"Sample {sample_id} not in metadata\")"
   ]
  },
  {
   "cell_type": "markdown",
   "metadata": {},
   "source": [
    "## RNA initial filtered barcodes (before thresholds, less than 20 genes detected)"
   ]
  },
  {
   "cell_type": "code",
   "execution_count": 12,
   "metadata": {},
   "outputs": [],
   "source": [
    "# Add in the initial filtered barcodes\n",
    "sample_metadata_df[\"rna:initial_filtered_bcs\"] = sample_metadata_df[\"cellranger:initial_bcs_detected\"] - sample_metadata_df[\"rna:filtered_bcs\"] - sample_metadata_df[\"rna:remaining_bcs\"]"
   ]
  },
  {
   "cell_type": "markdown",
   "metadata": {},
   "source": [
    "## Metrics post QC (pre soupx)"
   ]
  },
  {
   "cell_type": "code",
   "execution_count": 13,
   "metadata": {},
   "outputs": [
    {
     "data": {
      "text/plain": [
       "38"
      ]
     },
     "execution_count": 13,
     "metadata": {},
     "output_type": "execute_result"
    }
   ],
   "source": [
    "sample_metrics_paths = sorted(glob.glob(os.path.join(cellcommander_path, \"*\", \"rna/threshold_qc\", \"sample_metrics.tsv\")))\n",
    "len(sample_metrics_paths)"
   ]
  },
  {
   "cell_type": "code",
   "execution_count": 14,
   "metadata": {},
   "outputs": [],
   "source": [
    "# For every file, read it and\n",
    "for sample_metrics_path in sample_metrics_paths:\n",
    "    sample_id = sample_metrics_path.split(\"/\")[-4]\n",
    "    sample_metrics_df = pd.read_csv(sample_metrics_path, sep=\"\\t\", index_col=0).T\n",
    "    if sample_id in sample_metadata_df.index:\n",
    "        cols = sample_metrics_df.columns\n",
    "        new_cols = [f\"rna:{col}_pre_soupx\" for col in cols]\n",
    "        sample_metadata_df.loc[sample_id, new_cols] = sample_metrics_df[cols].values[0]\n",
    "    else:\n",
    "        print(f\"Sample {sample_id} not in metadata\")"
   ]
  },
  {
   "cell_type": "markdown",
   "metadata": {},
   "source": [
    "## SoupX"
   ]
  },
  {
   "cell_type": "code",
   "execution_count": 15,
   "metadata": {},
   "outputs": [
    {
     "data": {
      "text/plain": [
       "38"
      ]
     },
     "execution_count": 15,
     "metadata": {},
     "output_type": "execute_result"
    }
   ],
   "source": [
    "soupx_stats_paths = sorted(glob.glob(os.path.join(cellcommander_path, \"*\", \"rna/remove_background\", \"soupx_stats.pickle\")))\n",
    "len(soupx_stats_paths)"
   ]
  },
  {
   "cell_type": "code",
   "execution_count": 16,
   "metadata": {},
   "outputs": [
    {
     "data": {
      "text/html": [
       "<div>\n",
       "<style scoped>\n",
       "    .dataframe tbody tr th:only-of-type {\n",
       "        vertical-align: middle;\n",
       "    }\n",
       "\n",
       "    .dataframe tbody tr th {\n",
       "        vertical-align: top;\n",
       "    }\n",
       "\n",
       "    .dataframe thead th {\n",
       "        text-align: right;\n",
       "    }\n",
       "</style>\n",
       "<table border=\"1\" class=\"dataframe\">\n",
       "  <thead>\n",
       "    <tr style=\"text-align: right;\">\n",
       "      <th></th>\n",
       "      <th>rna:soupx#gene_markers_used</th>\n",
       "      <th>rna:soupx#cluster_groups_for_markers</th>\n",
       "      <th>rna:soupx#soup_contamination_fraction</th>\n",
       "      <th>rna:soupx#soup_total_counts_removed</th>\n",
       "      <th>rna:soupx#top_10_genes</th>\n",
       "    </tr>\n",
       "  </thead>\n",
       "  <tbody>\n",
       "    <tr>\n",
       "      <th>0-2</th>\n",
       "      <td>INS, GCG, SST, TPH1</td>\n",
       "      <td>SC-Beta, SC-Alpha, SC-Delta, SC-EC</td>\n",
       "      <td>7.49</td>\n",
       "      <td>2679628.0</td>\n",
       "      <td>MALAT1, INS, TTR, CHGA, CCSER1, PDE4D, GCG, CA...</td>\n",
       "    </tr>\n",
       "    <tr>\n",
       "      <th>11-1</th>\n",
       "      <td>INS, GCG, SST, TPH1</td>\n",
       "      <td>SC-Beta, SC-Alpha, SC-Delta, SC-EC</td>\n",
       "      <td>8.40</td>\n",
       "      <td>588586.0</td>\n",
       "      <td>TTR, INS, MALAT1, CHGA, FTL, IAPP, MT-ND4, MT-...</td>\n",
       "    </tr>\n",
       "    <tr>\n",
       "      <th>12-1</th>\n",
       "      <td>INS, GCG, SST, TPH1</td>\n",
       "      <td>SC-Beta, SC-Alpha, SC-Delta, SC-EC</td>\n",
       "      <td>25.41</td>\n",
       "      <td>3462642.0</td>\n",
       "      <td>MALAT1, INS, TTR, MT-ND4, MT-CO2, MT-ATP6, MT-...</td>\n",
       "    </tr>\n",
       "    <tr>\n",
       "      <th>14-2</th>\n",
       "      <td>INS, GCG, SST, TPH1</td>\n",
       "      <td>SC-Beta, SC-Alpha, SC-Delta, SC-EC</td>\n",
       "      <td>9.15</td>\n",
       "      <td>3009841.0</td>\n",
       "      <td>MALAT1, TTR, INS, PDE4D, HS6ST3, CCSER1, CHGA,...</td>\n",
       "    </tr>\n",
       "    <tr>\n",
       "      <th>21-1</th>\n",
       "      <td>INS, GCG, SST, TPH1</td>\n",
       "      <td>SC-Beta, SC-Alpha, SC-Delta, SC-EC</td>\n",
       "      <td>9.74</td>\n",
       "      <td>925455.0</td>\n",
       "      <td>TTR, INS, MALAT1, CHGA, FTL, MT-ND4, MT-CO2, B...</td>\n",
       "    </tr>\n",
       "  </tbody>\n",
       "</table>\n",
       "</div>"
      ],
      "text/plain": [
       "     rna:soupx#gene_markers_used rna:soupx#cluster_groups_for_markers  \\\n",
       "0-2          INS, GCG, SST, TPH1   SC-Beta, SC-Alpha, SC-Delta, SC-EC   \n",
       "11-1         INS, GCG, SST, TPH1   SC-Beta, SC-Alpha, SC-Delta, SC-EC   \n",
       "12-1         INS, GCG, SST, TPH1   SC-Beta, SC-Alpha, SC-Delta, SC-EC   \n",
       "14-2         INS, GCG, SST, TPH1   SC-Beta, SC-Alpha, SC-Delta, SC-EC   \n",
       "21-1         INS, GCG, SST, TPH1   SC-Beta, SC-Alpha, SC-Delta, SC-EC   \n",
       "\n",
       "      rna:soupx#soup_contamination_fraction  \\\n",
       "0-2                                    7.49   \n",
       "11-1                                   8.40   \n",
       "12-1                                  25.41   \n",
       "14-2                                   9.15   \n",
       "21-1                                   9.74   \n",
       "\n",
       "      rna:soupx#soup_total_counts_removed  \\\n",
       "0-2                             2679628.0   \n",
       "11-1                             588586.0   \n",
       "12-1                            3462642.0   \n",
       "14-2                            3009841.0   \n",
       "21-1                             925455.0   \n",
       "\n",
       "                                 rna:soupx#top_10_genes  \n",
       "0-2   MALAT1, INS, TTR, CHGA, CCSER1, PDE4D, GCG, CA...  \n",
       "11-1  TTR, INS, MALAT1, CHGA, FTL, IAPP, MT-ND4, MT-...  \n",
       "12-1  MALAT1, INS, TTR, MT-ND4, MT-CO2, MT-ATP6, MT-...  \n",
       "14-2  MALAT1, TTR, INS, PDE4D, HS6ST3, CCSER1, CHGA,...  \n",
       "21-1  TTR, INS, MALAT1, CHGA, FTL, MT-ND4, MT-CO2, B...  "
      ]
     },
     "execution_count": 16,
     "metadata": {},
     "output_type": "execute_result"
    }
   ],
   "source": [
    "#\n",
    "soupx_stats = {}\n",
    "for soupx_stats_path in soupx_stats_paths:\n",
    "    sample_id = soupx_stats_path.split(\"/\")[-4]\n",
    "    # Turn into dataframe\n",
    "    with open(soupx_stats_path, \"rb\") as f:\n",
    "        soupx_stats_dict = pickle.load(f)\n",
    "    # Turn any Iterable into a comma-separated string\n",
    "    for key in soupx_stats_dict:\n",
    "        if isinstance(soupx_stats_dict[key], Iterable):\n",
    "            soupx_stats_dict[key] = \", \".join(map(str, soupx_stats_dict[key]))\n",
    "    soupx_stats[sample_id] = soupx_stats_dict\n",
    "soupx_stats_df = pd.DataFrame.from_dict(soupx_stats, orient=\"index\")\n",
    "soupx_stats_df.columns = [f\"rna:soupx#{col}\" for col in soupx_stats_df.columns]\n",
    "soupx_stats_df.head()"
   ]
  },
  {
   "cell_type": "code",
   "execution_count": 17,
   "metadata": {},
   "outputs": [
    {
     "data": {
      "text/html": [
       "<div>\n",
       "<style scoped>\n",
       "    .dataframe tbody tr th:only-of-type {\n",
       "        vertical-align: middle;\n",
       "    }\n",
       "\n",
       "    .dataframe tbody tr th {\n",
       "        vertical-align: top;\n",
       "    }\n",
       "\n",
       "    .dataframe thead th {\n",
       "        text-align: right;\n",
       "    }\n",
       "</style>\n",
       "<table border=\"1\" class=\"dataframe\">\n",
       "  <thead>\n",
       "    <tr style=\"text-align: right;\">\n",
       "      <th></th>\n",
       "      <th>condition</th>\n",
       "      <th>timepoint</th>\n",
       "      <th>rep</th>\n",
       "      <th>harmonized_sample_id</th>\n",
       "      <th>year</th>\n",
       "      <th>cell_line</th>\n",
       "      <th>differentiation_batch</th>\n",
       "      <th>sequencing_batch</th>\n",
       "      <th>multiome_stage</th>\n",
       "      <th>multiome_qc_status</th>\n",
       "      <th>...</th>\n",
       "      <th>rna:initial_filtered_bcs</th>\n",
       "      <th>rna:median_n_genes_by_counts_pre_soupx</th>\n",
       "      <th>rna:median_total_counts_pre_soupx</th>\n",
       "      <th>rna:median_pct_counts_mt_pre_soupx</th>\n",
       "      <th>rna:median_pct_counts_ribo_pre_soupx</th>\n",
       "      <th>rna:soupx#gene_markers_used</th>\n",
       "      <th>rna:soupx#cluster_groups_for_markers</th>\n",
       "      <th>rna:soupx#soup_contamination_fraction</th>\n",
       "      <th>rna:soupx#soup_total_counts_removed</th>\n",
       "      <th>rna:soupx#top_10_genes</th>\n",
       "    </tr>\n",
       "  </thead>\n",
       "  <tbody>\n",
       "    <tr>\n",
       "      <th>0-2</th>\n",
       "      <td>control</td>\n",
       "      <td>0</td>\n",
       "      <td>1</td>\n",
       "      <td>control_0_1</td>\n",
       "      <td>3.0</td>\n",
       "      <td>A2</td>\n",
       "      <td>JE002</td>\n",
       "      <td>NaN</td>\n",
       "      <td>annotated</td>\n",
       "      <td>pass</td>\n",
       "      <td>...</td>\n",
       "      <td>694779.0</td>\n",
       "      <td>1550.0</td>\n",
       "      <td>2485.0</td>\n",
       "      <td>0.116110</td>\n",
       "      <td>0.431897</td>\n",
       "      <td>INS, GCG, SST, TPH1</td>\n",
       "      <td>SC-Beta, SC-Alpha, SC-Delta, SC-EC</td>\n",
       "      <td>7.49</td>\n",
       "      <td>2679628.0</td>\n",
       "      <td>MALAT1, INS, TTR, CHGA, CCSER1, PDE4D, GCG, CA...</td>\n",
       "    </tr>\n",
       "    <tr>\n",
       "      <th>11-1</th>\n",
       "      <td>3-cyt</td>\n",
       "      <td>6</td>\n",
       "      <td>2</td>\n",
       "      <td>3-cyt_6_2</td>\n",
       "      <td>3.0</td>\n",
       "      <td>A2</td>\n",
       "      <td>JE002</td>\n",
       "      <td>NaN</td>\n",
       "      <td>annotated</td>\n",
       "      <td>pass</td>\n",
       "      <td>...</td>\n",
       "      <td>580889.0</td>\n",
       "      <td>1902.0</td>\n",
       "      <td>3314.5</td>\n",
       "      <td>0.059462</td>\n",
       "      <td>0.482934</td>\n",
       "      <td>INS, GCG, SST, TPH1</td>\n",
       "      <td>SC-Beta, SC-Alpha, SC-Delta, SC-EC</td>\n",
       "      <td>8.40</td>\n",
       "      <td>588586.0</td>\n",
       "      <td>TTR, INS, MALAT1, CHGA, FTL, IAPP, MT-ND4, MT-...</td>\n",
       "    </tr>\n",
       "    <tr>\n",
       "      <th>12-1</th>\n",
       "      <td>IFNg</td>\n",
       "      <td>6</td>\n",
       "      <td>2</td>\n",
       "      <td>IFNg_6_2</td>\n",
       "      <td>3.0</td>\n",
       "      <td>A2</td>\n",
       "      <td>JE002</td>\n",
       "      <td>NaN</td>\n",
       "      <td>annotated</td>\n",
       "      <td>flagged</td>\n",
       "      <td>...</td>\n",
       "      <td>608351.0</td>\n",
       "      <td>800.0</td>\n",
       "      <td>975.0</td>\n",
       "      <td>0.803682</td>\n",
       "      <td>0.458015</td>\n",
       "      <td>INS, GCG, SST, TPH1</td>\n",
       "      <td>SC-Beta, SC-Alpha, SC-Delta, SC-EC</td>\n",
       "      <td>25.41</td>\n",
       "      <td>3462642.0</td>\n",
       "      <td>MALAT1, INS, TTR, MT-ND4, MT-CO2, MT-ATP6, MT-...</td>\n",
       "    </tr>\n",
       "    <tr>\n",
       "      <th>14-2</th>\n",
       "      <td>palmitate</td>\n",
       "      <td>6</td>\n",
       "      <td>2</td>\n",
       "      <td>palmitate_6_2</td>\n",
       "      <td>3.0</td>\n",
       "      <td>A2</td>\n",
       "      <td>JE002</td>\n",
       "      <td>NaN</td>\n",
       "      <td>annotated</td>\n",
       "      <td>pass</td>\n",
       "      <td>...</td>\n",
       "      <td>681390.0</td>\n",
       "      <td>1722.0</td>\n",
       "      <td>3070.0</td>\n",
       "      <td>0.053562</td>\n",
       "      <td>0.368098</td>\n",
       "      <td>INS, GCG, SST, TPH1</td>\n",
       "      <td>SC-Beta, SC-Alpha, SC-Delta, SC-EC</td>\n",
       "      <td>9.15</td>\n",
       "      <td>3009841.0</td>\n",
       "      <td>MALAT1, TTR, INS, PDE4D, HS6ST3, CCSER1, CHGA,...</td>\n",
       "    </tr>\n",
       "    <tr>\n",
       "      <th>21-1</th>\n",
       "      <td>3-cyt</td>\n",
       "      <td>24</td>\n",
       "      <td>2</td>\n",
       "      <td>3-cyt_24_2</td>\n",
       "      <td>3.0</td>\n",
       "      <td>A2</td>\n",
       "      <td>JE002</td>\n",
       "      <td>NaN</td>\n",
       "      <td>annotated</td>\n",
       "      <td>pass</td>\n",
       "      <td>...</td>\n",
       "      <td>639741.0</td>\n",
       "      <td>1503.0</td>\n",
       "      <td>2359.0</td>\n",
       "      <td>0.121888</td>\n",
       "      <td>0.492967</td>\n",
       "      <td>INS, GCG, SST, TPH1</td>\n",
       "      <td>SC-Beta, SC-Alpha, SC-Delta, SC-EC</td>\n",
       "      <td>9.74</td>\n",
       "      <td>925455.0</td>\n",
       "      <td>TTR, INS, MALAT1, CHGA, FTL, MT-ND4, MT-CO2, B...</td>\n",
       "    </tr>\n",
       "  </tbody>\n",
       "</table>\n",
       "<p>5 rows × 25 columns</p>\n",
       "</div>"
      ],
      "text/plain": [
       "      condition  timepoint rep harmonized_sample_id  year cell_line  \\\n",
       "0-2     control          0   1          control_0_1   3.0        A2   \n",
       "11-1      3-cyt          6   2            3-cyt_6_2   3.0        A2   \n",
       "12-1       IFNg          6   2             IFNg_6_2   3.0        A2   \n",
       "14-2  palmitate          6   2        palmitate_6_2   3.0        A2   \n",
       "21-1      3-cyt         24   2           3-cyt_24_2   3.0        A2   \n",
       "\n",
       "     differentiation_batch  sequencing_batch multiome_stage  \\\n",
       "0-2                  JE002               NaN      annotated   \n",
       "11-1                 JE002               NaN      annotated   \n",
       "12-1                 JE002               NaN      annotated   \n",
       "14-2                 JE002               NaN      annotated   \n",
       "21-1                 JE002               NaN      annotated   \n",
       "\n",
       "     multiome_qc_status  ... rna:initial_filtered_bcs  \\\n",
       "0-2                pass  ...                 694779.0   \n",
       "11-1               pass  ...                 580889.0   \n",
       "12-1            flagged  ...                 608351.0   \n",
       "14-2               pass  ...                 681390.0   \n",
       "21-1               pass  ...                 639741.0   \n",
       "\n",
       "      rna:median_n_genes_by_counts_pre_soupx  \\\n",
       "0-2                                   1550.0   \n",
       "11-1                                  1902.0   \n",
       "12-1                                   800.0   \n",
       "14-2                                  1722.0   \n",
       "21-1                                  1503.0   \n",
       "\n",
       "      rna:median_total_counts_pre_soupx  rna:median_pct_counts_mt_pre_soupx  \\\n",
       "0-2                              2485.0                            0.116110   \n",
       "11-1                             3314.5                            0.059462   \n",
       "12-1                              975.0                            0.803682   \n",
       "14-2                             3070.0                            0.053562   \n",
       "21-1                             2359.0                            0.121888   \n",
       "\n",
       "      rna:median_pct_counts_ribo_pre_soupx  rna:soupx#gene_markers_used  \\\n",
       "0-2                               0.431897          INS, GCG, SST, TPH1   \n",
       "11-1                              0.482934          INS, GCG, SST, TPH1   \n",
       "12-1                              0.458015          INS, GCG, SST, TPH1   \n",
       "14-2                              0.368098          INS, GCG, SST, TPH1   \n",
       "21-1                              0.492967          INS, GCG, SST, TPH1   \n",
       "\n",
       "      rna:soupx#cluster_groups_for_markers  \\\n",
       "0-2     SC-Beta, SC-Alpha, SC-Delta, SC-EC   \n",
       "11-1    SC-Beta, SC-Alpha, SC-Delta, SC-EC   \n",
       "12-1    SC-Beta, SC-Alpha, SC-Delta, SC-EC   \n",
       "14-2    SC-Beta, SC-Alpha, SC-Delta, SC-EC   \n",
       "21-1    SC-Beta, SC-Alpha, SC-Delta, SC-EC   \n",
       "\n",
       "      rna:soupx#soup_contamination_fraction  \\\n",
       "0-2                                    7.49   \n",
       "11-1                                   8.40   \n",
       "12-1                                  25.41   \n",
       "14-2                                   9.15   \n",
       "21-1                                   9.74   \n",
       "\n",
       "      rna:soupx#soup_total_counts_removed  \\\n",
       "0-2                             2679628.0   \n",
       "11-1                             588586.0   \n",
       "12-1                            3462642.0   \n",
       "14-2                            3009841.0   \n",
       "21-1                             925455.0   \n",
       "\n",
       "                                 rna:soupx#top_10_genes  \n",
       "0-2   MALAT1, INS, TTR, CHGA, CCSER1, PDE4D, GCG, CA...  \n",
       "11-1  TTR, INS, MALAT1, CHGA, FTL, IAPP, MT-ND4, MT-...  \n",
       "12-1  MALAT1, INS, TTR, MT-ND4, MT-CO2, MT-ATP6, MT-...  \n",
       "14-2  MALAT1, TTR, INS, PDE4D, HS6ST3, CCSER1, CHGA,...  \n",
       "21-1  TTR, INS, MALAT1, CHGA, FTL, MT-ND4, MT-CO2, B...  \n",
       "\n",
       "[5 rows x 25 columns]"
      ]
     },
     "execution_count": 17,
     "metadata": {},
     "output_type": "execute_result"
    }
   ],
   "source": [
    "sample_metadata_df = sample_metadata_df.merge(soupx_stats_df, left_index=True, right_index=True)\n",
    "sample_metadata_df.head()"
   ]
  },
  {
   "cell_type": "markdown",
   "metadata": {},
   "source": [
    "## Doublets"
   ]
  },
  {
   "cell_type": "code",
   "execution_count": 18,
   "metadata": {},
   "outputs": [
    {
     "data": {
      "text/plain": [
       "38"
      ]
     },
     "execution_count": 18,
     "metadata": {},
     "output_type": "execute_result"
    }
   ],
   "source": [
    "doublet_bc_paths = sorted(glob.glob(os.path.join(cellcommander_path, \"*\", \"rna/detect_doublets\", \"doublet_barcodes.txt\")))\n",
    "len(doublet_bc_paths)"
   ]
  },
  {
   "cell_type": "code",
   "execution_count": 19,
   "metadata": {},
   "outputs": [],
   "source": [
    "doublet_bcs = []\n",
    "for doublet_bc_path in doublet_bc_paths:\n",
    "    sample_id = doublet_bc_path.split(\"/\")[-4]\n",
    "    doublet_bcs_df = pd.read_csv(doublet_bc_path, header=None)\n",
    "    doublet_bcs.append(doublet_bcs_df.shape[0])\n",
    "    if sample_id in sample_metadata_df.index:\n",
    "        sample_metadata_df.loc[sample_id, \"rna:consensus#doublet_bcs\"] = doublet_bcs_df.shape[0]\n",
    "    else:\n",
    "        print(f\"Sample {sample_id} not in metadata\")"
   ]
  },
  {
   "cell_type": "markdown",
   "metadata": {},
   "source": [
    "## Remaining RNA barcodes after doublet removal"
   ]
  },
  {
   "cell_type": "code",
   "execution_count": 20,
   "metadata": {},
   "outputs": [
    {
     "data": {
      "text/plain": [
       "38"
      ]
     },
     "execution_count": 20,
     "metadata": {},
     "output_type": "execute_result"
    }
   ],
   "source": [
    "rna_metadata_paths = sorted(glob.glob(os.path.join(cellcommander_path, \"*\", \"rna/reduce_dimensions/cell_metadata.tsv\")))\n",
    "len(rna_metadata_paths)"
   ]
  },
  {
   "cell_type": "code",
   "execution_count": 21,
   "metadata": {},
   "outputs": [
    {
     "name": "stderr",
     "output_type": "stream",
     "text": [
      "100%|██████████| 38/38 [00:01<00:00, 24.59it/s]\n"
     ]
    }
   ],
   "source": [
    "# Number of remaining cells after filtering\n",
    "for rna_metadata_path in tqdm(rna_metadata_paths):\n",
    "    sample_id = rna_metadata_path.split(\"/\")[-4]\n",
    "    rna_metadata_df = pd.read_csv(rna_metadata_path, sep=\"\\t\")\n",
    "    if sample_id in sample_metadata_df.index:\n",
    "        num_bcs_remaining = rna_metadata_df.shape[0]\n",
    "        num_clusters = rna_metadata_df[\"leiden_1\"].nunique()\n",
    "        sample_metadata_df.loc[sample_id, \"rna:final_bcs\"] = num_bcs_remaining\n",
    "        sample_metadata_df.loc[sample_id, \"rna:n_clusters_leiden_1\"] = num_clusters\n",
    "    else:\n",
    "        print(f\"Sample {sample_id} not in metadata\")"
   ]
  },
  {
   "cell_type": "markdown",
   "metadata": {},
   "source": [
    "# ATAC"
   ]
  },
  {
   "cell_type": "markdown",
   "metadata": {},
   "source": [
    "## AMULET doublets"
   ]
  },
  {
   "cell_type": "code",
   "execution_count": 22,
   "metadata": {},
   "outputs": [],
   "source": [
    "amulet_bcs_path = \"/cellar/users/aklie/data/datasets/igvf_sc-islet_10X-Multiome/results/sample_annotation/amulet_bcs.txt\""
   ]
  },
  {
   "cell_type": "code",
   "execution_count": 23,
   "metadata": {},
   "outputs": [
    {
     "data": {
      "text/plain": [
       "sample_id\n",
       "0-2     939\n",
       "11-1    235\n",
       "12-1    426\n",
       "14-2    482\n",
       "21-1    330\n",
       "Name: atac:amulet#doublet_bcs, dtype: int64"
      ]
     },
     "execution_count": 23,
     "metadata": {},
     "output_type": "execute_result"
    }
   ],
   "source": [
    "amulet_bcs_df = pd.read_csv(amulet_bcs_path, header=None)\n",
    "amulet_bcs_df.columns = [\"barcode\"]\n",
    "amulet_bcs_df[\"sample_id\"] = amulet_bcs_df[\"barcode\"].apply(lambda x: x.split(\"#\")[0])\n",
    "amulet_bcs_counts = amulet_bcs_df.groupby(\"sample_id\").size()\n",
    "amulet_bcs_counts.name = \"atac:amulet#doublet_bcs\"\n",
    "amulet_bcs_counts.head()"
   ]
  },
  {
   "cell_type": "code",
   "execution_count": 24,
   "metadata": {},
   "outputs": [
    {
     "data": {
      "text/html": [
       "<div>\n",
       "<style scoped>\n",
       "    .dataframe tbody tr th:only-of-type {\n",
       "        vertical-align: middle;\n",
       "    }\n",
       "\n",
       "    .dataframe tbody tr th {\n",
       "        vertical-align: top;\n",
       "    }\n",
       "\n",
       "    .dataframe thead th {\n",
       "        text-align: right;\n",
       "    }\n",
       "</style>\n",
       "<table border=\"1\" class=\"dataframe\">\n",
       "  <thead>\n",
       "    <tr style=\"text-align: right;\">\n",
       "      <th></th>\n",
       "      <th>condition</th>\n",
       "      <th>timepoint</th>\n",
       "      <th>rep</th>\n",
       "      <th>harmonized_sample_id</th>\n",
       "      <th>year</th>\n",
       "      <th>cell_line</th>\n",
       "      <th>differentiation_batch</th>\n",
       "      <th>sequencing_batch</th>\n",
       "      <th>multiome_stage</th>\n",
       "      <th>multiome_qc_status</th>\n",
       "      <th>...</th>\n",
       "      <th>rna:median_pct_counts_ribo_pre_soupx</th>\n",
       "      <th>rna:soupx#gene_markers_used</th>\n",
       "      <th>rna:soupx#cluster_groups_for_markers</th>\n",
       "      <th>rna:soupx#soup_contamination_fraction</th>\n",
       "      <th>rna:soupx#soup_total_counts_removed</th>\n",
       "      <th>rna:soupx#top_10_genes</th>\n",
       "      <th>rna:consensus#doublet_bcs</th>\n",
       "      <th>rna:final_bcs</th>\n",
       "      <th>rna:n_clusters_leiden_1</th>\n",
       "      <th>atac:amulet#doublet_bcs</th>\n",
       "    </tr>\n",
       "  </thead>\n",
       "  <tbody>\n",
       "    <tr>\n",
       "      <th>0-2</th>\n",
       "      <td>control</td>\n",
       "      <td>0</td>\n",
       "      <td>1</td>\n",
       "      <td>control_0_1</td>\n",
       "      <td>3.0</td>\n",
       "      <td>A2</td>\n",
       "      <td>JE002</td>\n",
       "      <td>NaN</td>\n",
       "      <td>annotated</td>\n",
       "      <td>pass</td>\n",
       "      <td>...</td>\n",
       "      <td>0.431897</td>\n",
       "      <td>INS, GCG, SST, TPH1</td>\n",
       "      <td>SC-Beta, SC-Alpha, SC-Delta, SC-EC</td>\n",
       "      <td>7.49</td>\n",
       "      <td>2679628.0</td>\n",
       "      <td>MALAT1, INS, TTR, CHGA, CCSER1, PDE4D, GCG, CA...</td>\n",
       "      <td>1681.0</td>\n",
       "      <td>8119.0</td>\n",
       "      <td>17.0</td>\n",
       "      <td>939</td>\n",
       "    </tr>\n",
       "    <tr>\n",
       "      <th>11-1</th>\n",
       "      <td>3-cyt</td>\n",
       "      <td>6</td>\n",
       "      <td>2</td>\n",
       "      <td>3-cyt_6_2</td>\n",
       "      <td>3.0</td>\n",
       "      <td>A2</td>\n",
       "      <td>JE002</td>\n",
       "      <td>NaN</td>\n",
       "      <td>annotated</td>\n",
       "      <td>pass</td>\n",
       "      <td>...</td>\n",
       "      <td>0.482934</td>\n",
       "      <td>INS, GCG, SST, TPH1</td>\n",
       "      <td>SC-Beta, SC-Alpha, SC-Delta, SC-EC</td>\n",
       "      <td>8.40</td>\n",
       "      <td>588586.0</td>\n",
       "      <td>TTR, INS, MALAT1, CHGA, FTL, IAPP, MT-ND4, MT-...</td>\n",
       "      <td>67.0</td>\n",
       "      <td>1319.0</td>\n",
       "      <td>10.0</td>\n",
       "      <td>235</td>\n",
       "    </tr>\n",
       "    <tr>\n",
       "      <th>12-1</th>\n",
       "      <td>IFNg</td>\n",
       "      <td>6</td>\n",
       "      <td>2</td>\n",
       "      <td>IFNg_6_2</td>\n",
       "      <td>3.0</td>\n",
       "      <td>A2</td>\n",
       "      <td>JE002</td>\n",
       "      <td>NaN</td>\n",
       "      <td>annotated</td>\n",
       "      <td>flagged</td>\n",
       "      <td>...</td>\n",
       "      <td>0.458015</td>\n",
       "      <td>INS, GCG, SST, TPH1</td>\n",
       "      <td>SC-Beta, SC-Alpha, SC-Delta, SC-EC</td>\n",
       "      <td>25.41</td>\n",
       "      <td>3462642.0</td>\n",
       "      <td>MALAT1, INS, TTR, MT-ND4, MT-CO2, MT-ATP6, MT-...</td>\n",
       "      <td>1036.0</td>\n",
       "      <td>7862.0</td>\n",
       "      <td>16.0</td>\n",
       "      <td>426</td>\n",
       "    </tr>\n",
       "    <tr>\n",
       "      <th>14-2</th>\n",
       "      <td>palmitate</td>\n",
       "      <td>6</td>\n",
       "      <td>2</td>\n",
       "      <td>palmitate_6_2</td>\n",
       "      <td>3.0</td>\n",
       "      <td>A2</td>\n",
       "      <td>JE002</td>\n",
       "      <td>NaN</td>\n",
       "      <td>annotated</td>\n",
       "      <td>pass</td>\n",
       "      <td>...</td>\n",
       "      <td>0.368098</td>\n",
       "      <td>INS, GCG, SST, TPH1</td>\n",
       "      <td>SC-Beta, SC-Alpha, SC-Delta, SC-EC</td>\n",
       "      <td>9.15</td>\n",
       "      <td>3009841.0</td>\n",
       "      <td>MALAT1, TTR, INS, PDE4D, HS6ST3, CCSER1, CHGA,...</td>\n",
       "      <td>953.0</td>\n",
       "      <td>6520.0</td>\n",
       "      <td>15.0</td>\n",
       "      <td>482</td>\n",
       "    </tr>\n",
       "    <tr>\n",
       "      <th>21-1</th>\n",
       "      <td>3-cyt</td>\n",
       "      <td>24</td>\n",
       "      <td>2</td>\n",
       "      <td>3-cyt_24_2</td>\n",
       "      <td>3.0</td>\n",
       "      <td>A2</td>\n",
       "      <td>JE002</td>\n",
       "      <td>NaN</td>\n",
       "      <td>annotated</td>\n",
       "      <td>pass</td>\n",
       "      <td>...</td>\n",
       "      <td>0.492967</td>\n",
       "      <td>INS, GCG, SST, TPH1</td>\n",
       "      <td>SC-Beta, SC-Alpha, SC-Delta, SC-EC</td>\n",
       "      <td>9.74</td>\n",
       "      <td>925455.0</td>\n",
       "      <td>TTR, INS, MALAT1, CHGA, FTL, MT-ND4, MT-CO2, B...</td>\n",
       "      <td>184.0</td>\n",
       "      <td>2463.0</td>\n",
       "      <td>13.0</td>\n",
       "      <td>330</td>\n",
       "    </tr>\n",
       "  </tbody>\n",
       "</table>\n",
       "<p>5 rows × 29 columns</p>\n",
       "</div>"
      ],
      "text/plain": [
       "      condition  timepoint rep harmonized_sample_id  year cell_line  \\\n",
       "0-2     control          0   1          control_0_1   3.0        A2   \n",
       "11-1      3-cyt          6   2            3-cyt_6_2   3.0        A2   \n",
       "12-1       IFNg          6   2             IFNg_6_2   3.0        A2   \n",
       "14-2  palmitate          6   2        palmitate_6_2   3.0        A2   \n",
       "21-1      3-cyt         24   2           3-cyt_24_2   3.0        A2   \n",
       "\n",
       "     differentiation_batch  sequencing_batch multiome_stage  \\\n",
       "0-2                  JE002               NaN      annotated   \n",
       "11-1                 JE002               NaN      annotated   \n",
       "12-1                 JE002               NaN      annotated   \n",
       "14-2                 JE002               NaN      annotated   \n",
       "21-1                 JE002               NaN      annotated   \n",
       "\n",
       "     multiome_qc_status  ... rna:median_pct_counts_ribo_pre_soupx  \\\n",
       "0-2                pass  ...                             0.431897   \n",
       "11-1               pass  ...                             0.482934   \n",
       "12-1            flagged  ...                             0.458015   \n",
       "14-2               pass  ...                             0.368098   \n",
       "21-1               pass  ...                             0.492967   \n",
       "\n",
       "      rna:soupx#gene_markers_used  rna:soupx#cluster_groups_for_markers  \\\n",
       "0-2           INS, GCG, SST, TPH1    SC-Beta, SC-Alpha, SC-Delta, SC-EC   \n",
       "11-1          INS, GCG, SST, TPH1    SC-Beta, SC-Alpha, SC-Delta, SC-EC   \n",
       "12-1          INS, GCG, SST, TPH1    SC-Beta, SC-Alpha, SC-Delta, SC-EC   \n",
       "14-2          INS, GCG, SST, TPH1    SC-Beta, SC-Alpha, SC-Delta, SC-EC   \n",
       "21-1          INS, GCG, SST, TPH1    SC-Beta, SC-Alpha, SC-Delta, SC-EC   \n",
       "\n",
       "      rna:soupx#soup_contamination_fraction  \\\n",
       "0-2                                    7.49   \n",
       "11-1                                   8.40   \n",
       "12-1                                  25.41   \n",
       "14-2                                   9.15   \n",
       "21-1                                   9.74   \n",
       "\n",
       "      rna:soupx#soup_total_counts_removed  \\\n",
       "0-2                             2679628.0   \n",
       "11-1                             588586.0   \n",
       "12-1                            3462642.0   \n",
       "14-2                            3009841.0   \n",
       "21-1                             925455.0   \n",
       "\n",
       "                                 rna:soupx#top_10_genes  \\\n",
       "0-2   MALAT1, INS, TTR, CHGA, CCSER1, PDE4D, GCG, CA...   \n",
       "11-1  TTR, INS, MALAT1, CHGA, FTL, IAPP, MT-ND4, MT-...   \n",
       "12-1  MALAT1, INS, TTR, MT-ND4, MT-CO2, MT-ATP6, MT-...   \n",
       "14-2  MALAT1, TTR, INS, PDE4D, HS6ST3, CCSER1, CHGA,...   \n",
       "21-1  TTR, INS, MALAT1, CHGA, FTL, MT-ND4, MT-CO2, B...   \n",
       "\n",
       "      rna:consensus#doublet_bcs  rna:final_bcs  rna:n_clusters_leiden_1  \\\n",
       "0-2                      1681.0         8119.0                     17.0   \n",
       "11-1                       67.0         1319.0                     10.0   \n",
       "12-1                     1036.0         7862.0                     16.0   \n",
       "14-2                      953.0         6520.0                     15.0   \n",
       "21-1                      184.0         2463.0                     13.0   \n",
       "\n",
       "      atac:amulet#doublet_bcs  \n",
       "0-2                       939  \n",
       "11-1                      235  \n",
       "12-1                      426  \n",
       "14-2                      482  \n",
       "21-1                      330  \n",
       "\n",
       "[5 rows x 29 columns]"
      ]
     },
     "execution_count": 24,
     "metadata": {},
     "output_type": "execute_result"
    }
   ],
   "source": [
    "# Merge with sample metadata\n",
    "sample_metadata_df = sample_metadata_df.merge(amulet_bcs_counts, left_index=True, right_index=True)\n",
    "sample_metadata_df.head()"
   ]
  },
  {
   "cell_type": "code",
   "execution_count": 25,
   "metadata": {},
   "outputs": [
    {
     "data": {
      "text/plain": [
       "38"
      ]
     },
     "execution_count": 25,
     "metadata": {},
     "output_type": "execute_result"
    }
   ],
   "source": [
    "# Remaining cells in SnapATAC2\n",
    "snpatac2_metadata_paths = sorted(glob.glob(os.path.join(cellcommander_path, \"*\", \"atac\", \"cell_metadata.tsv\")))\n",
    "len(snpatac2_metadata_paths)"
   ]
  },
  {
   "cell_type": "code",
   "execution_count": 26,
   "metadata": {},
   "outputs": [
    {
     "name": "stderr",
     "output_type": "stream",
     "text": [
      "100%|██████████| 38/38 [00:00<00:00, 64.78it/s]\n"
     ]
    }
   ],
   "source": [
    "# Number of remaining cells after filtering\n",
    "snapatac2_metadata_dict = {}\n",
    "cols = 'n_fragment', 'frac_dup', 'tsse'\n",
    "for snapatac2_metadata_path in tqdm(snpatac2_metadata_paths):\n",
    "    sample_id = snapatac2_metadata_path.split(\"/\")[-3]\n",
    "    atac_metadata_df = pd.read_csv(snapatac2_metadata_path, sep=\"\\t\")\n",
    "    if sample_id in sample_metadata_df.index:\n",
    "        sample_atac_dict = {}\n",
    "        for col in cols:\n",
    "            sample_atac_dict[f\"atac:median_{col}\"] = atac_metadata_df[col].median()\n",
    "        sample_atac_dict[\"atac:n_clusters_leiden_1\"] = atac_metadata_df[\"leiden_1\"].nunique()\n",
    "        sample_atac_dict[\"atac:final_bcs\"] = atac_metadata_df.shape[0]\n",
    "        snapatac2_metadata_dict[sample_id] = sample_atac_dict\n",
    "    else:\n",
    "        print(f\"Sample {sample_id} not in metadata\")"
   ]
  },
  {
   "cell_type": "code",
   "execution_count": 27,
   "metadata": {},
   "outputs": [
    {
     "data": {
      "text/html": [
       "<div>\n",
       "<style scoped>\n",
       "    .dataframe tbody tr th:only-of-type {\n",
       "        vertical-align: middle;\n",
       "    }\n",
       "\n",
       "    .dataframe tbody tr th {\n",
       "        vertical-align: top;\n",
       "    }\n",
       "\n",
       "    .dataframe thead th {\n",
       "        text-align: right;\n",
       "    }\n",
       "</style>\n",
       "<table border=\"1\" class=\"dataframe\">\n",
       "  <thead>\n",
       "    <tr style=\"text-align: right;\">\n",
       "      <th></th>\n",
       "      <th>atac:median_n_fragment</th>\n",
       "      <th>atac:median_frac_dup</th>\n",
       "      <th>atac:median_tsse</th>\n",
       "      <th>atac:n_clusters_leiden_1</th>\n",
       "      <th>atac:final_bcs</th>\n",
       "    </tr>\n",
       "  </thead>\n",
       "  <tbody>\n",
       "    <tr>\n",
       "      <th>0-2</th>\n",
       "      <td>18976.0</td>\n",
       "      <td>0.283877</td>\n",
       "      <td>22.446043</td>\n",
       "      <td>9</td>\n",
       "      <td>10715</td>\n",
       "    </tr>\n",
       "    <tr>\n",
       "      <th>11-1</th>\n",
       "      <td>4780.0</td>\n",
       "      <td>0.324126</td>\n",
       "      <td>21.525601</td>\n",
       "      <td>8</td>\n",
       "      <td>2959</td>\n",
       "    </tr>\n",
       "    <tr>\n",
       "      <th>12-1</th>\n",
       "      <td>2788.0</td>\n",
       "      <td>0.259631</td>\n",
       "      <td>20.329277</td>\n",
       "      <td>6</td>\n",
       "      <td>37447</td>\n",
       "    </tr>\n",
       "    <tr>\n",
       "      <th>14-2</th>\n",
       "      <td>17277.0</td>\n",
       "      <td>0.335348</td>\n",
       "      <td>23.835802</td>\n",
       "      <td>9</td>\n",
       "      <td>6557</td>\n",
       "    </tr>\n",
       "    <tr>\n",
       "      <th>21-1</th>\n",
       "      <td>15661.0</td>\n",
       "      <td>0.249948</td>\n",
       "      <td>22.216874</td>\n",
       "      <td>10</td>\n",
       "      <td>3584</td>\n",
       "    </tr>\n",
       "  </tbody>\n",
       "</table>\n",
       "</div>"
      ],
      "text/plain": [
       "      atac:median_n_fragment  atac:median_frac_dup  atac:median_tsse  \\\n",
       "0-2                  18976.0              0.283877         22.446043   \n",
       "11-1                  4780.0              0.324126         21.525601   \n",
       "12-1                  2788.0              0.259631         20.329277   \n",
       "14-2                 17277.0              0.335348         23.835802   \n",
       "21-1                 15661.0              0.249948         22.216874   \n",
       "\n",
       "      atac:n_clusters_leiden_1  atac:final_bcs  \n",
       "0-2                          9           10715  \n",
       "11-1                         8            2959  \n",
       "12-1                         6           37447  \n",
       "14-2                         9            6557  \n",
       "21-1                        10            3584  "
      ]
     },
     "execution_count": 27,
     "metadata": {},
     "output_type": "execute_result"
    }
   ],
   "source": [
    "# Turn into df with samples as rows indexed by sample_id\n",
    "snapatac2_metadata_df = pd.DataFrame.from_dict(snapatac2_metadata_dict, orient=\"index\")\n",
    "snapatac2_metadata_df.head()"
   ]
  },
  {
   "cell_type": "code",
   "execution_count": 28,
   "metadata": {},
   "outputs": [
    {
     "data": {
      "text/html": [
       "<div>\n",
       "<style scoped>\n",
       "    .dataframe tbody tr th:only-of-type {\n",
       "        vertical-align: middle;\n",
       "    }\n",
       "\n",
       "    .dataframe tbody tr th {\n",
       "        vertical-align: top;\n",
       "    }\n",
       "\n",
       "    .dataframe thead th {\n",
       "        text-align: right;\n",
       "    }\n",
       "</style>\n",
       "<table border=\"1\" class=\"dataframe\">\n",
       "  <thead>\n",
       "    <tr style=\"text-align: right;\">\n",
       "      <th></th>\n",
       "      <th>condition</th>\n",
       "      <th>timepoint</th>\n",
       "      <th>rep</th>\n",
       "      <th>harmonized_sample_id</th>\n",
       "      <th>year</th>\n",
       "      <th>cell_line</th>\n",
       "      <th>differentiation_batch</th>\n",
       "      <th>sequencing_batch</th>\n",
       "      <th>multiome_stage</th>\n",
       "      <th>multiome_qc_status</th>\n",
       "      <th>...</th>\n",
       "      <th>rna:soupx#top_10_genes</th>\n",
       "      <th>rna:consensus#doublet_bcs</th>\n",
       "      <th>rna:final_bcs</th>\n",
       "      <th>rna:n_clusters_leiden_1</th>\n",
       "      <th>atac:amulet#doublet_bcs</th>\n",
       "      <th>atac:median_n_fragment</th>\n",
       "      <th>atac:median_frac_dup</th>\n",
       "      <th>atac:median_tsse</th>\n",
       "      <th>atac:n_clusters_leiden_1</th>\n",
       "      <th>atac:final_bcs</th>\n",
       "    </tr>\n",
       "  </thead>\n",
       "  <tbody>\n",
       "    <tr>\n",
       "      <th>0-2</th>\n",
       "      <td>control</td>\n",
       "      <td>0</td>\n",
       "      <td>1</td>\n",
       "      <td>control_0_1</td>\n",
       "      <td>3.0</td>\n",
       "      <td>A2</td>\n",
       "      <td>JE002</td>\n",
       "      <td>NaN</td>\n",
       "      <td>annotated</td>\n",
       "      <td>pass</td>\n",
       "      <td>...</td>\n",
       "      <td>MALAT1, INS, TTR, CHGA, CCSER1, PDE4D, GCG, CA...</td>\n",
       "      <td>1681.0</td>\n",
       "      <td>8119.0</td>\n",
       "      <td>17.0</td>\n",
       "      <td>939</td>\n",
       "      <td>18976.0</td>\n",
       "      <td>0.283877</td>\n",
       "      <td>22.446043</td>\n",
       "      <td>9</td>\n",
       "      <td>10715</td>\n",
       "    </tr>\n",
       "    <tr>\n",
       "      <th>11-1</th>\n",
       "      <td>3-cyt</td>\n",
       "      <td>6</td>\n",
       "      <td>2</td>\n",
       "      <td>3-cyt_6_2</td>\n",
       "      <td>3.0</td>\n",
       "      <td>A2</td>\n",
       "      <td>JE002</td>\n",
       "      <td>NaN</td>\n",
       "      <td>annotated</td>\n",
       "      <td>pass</td>\n",
       "      <td>...</td>\n",
       "      <td>TTR, INS, MALAT1, CHGA, FTL, IAPP, MT-ND4, MT-...</td>\n",
       "      <td>67.0</td>\n",
       "      <td>1319.0</td>\n",
       "      <td>10.0</td>\n",
       "      <td>235</td>\n",
       "      <td>4780.0</td>\n",
       "      <td>0.324126</td>\n",
       "      <td>21.525601</td>\n",
       "      <td>8</td>\n",
       "      <td>2959</td>\n",
       "    </tr>\n",
       "    <tr>\n",
       "      <th>12-1</th>\n",
       "      <td>IFNg</td>\n",
       "      <td>6</td>\n",
       "      <td>2</td>\n",
       "      <td>IFNg_6_2</td>\n",
       "      <td>3.0</td>\n",
       "      <td>A2</td>\n",
       "      <td>JE002</td>\n",
       "      <td>NaN</td>\n",
       "      <td>annotated</td>\n",
       "      <td>flagged</td>\n",
       "      <td>...</td>\n",
       "      <td>MALAT1, INS, TTR, MT-ND4, MT-CO2, MT-ATP6, MT-...</td>\n",
       "      <td>1036.0</td>\n",
       "      <td>7862.0</td>\n",
       "      <td>16.0</td>\n",
       "      <td>426</td>\n",
       "      <td>2788.0</td>\n",
       "      <td>0.259631</td>\n",
       "      <td>20.329277</td>\n",
       "      <td>6</td>\n",
       "      <td>37447</td>\n",
       "    </tr>\n",
       "    <tr>\n",
       "      <th>14-2</th>\n",
       "      <td>palmitate</td>\n",
       "      <td>6</td>\n",
       "      <td>2</td>\n",
       "      <td>palmitate_6_2</td>\n",
       "      <td>3.0</td>\n",
       "      <td>A2</td>\n",
       "      <td>JE002</td>\n",
       "      <td>NaN</td>\n",
       "      <td>annotated</td>\n",
       "      <td>pass</td>\n",
       "      <td>...</td>\n",
       "      <td>MALAT1, TTR, INS, PDE4D, HS6ST3, CCSER1, CHGA,...</td>\n",
       "      <td>953.0</td>\n",
       "      <td>6520.0</td>\n",
       "      <td>15.0</td>\n",
       "      <td>482</td>\n",
       "      <td>17277.0</td>\n",
       "      <td>0.335348</td>\n",
       "      <td>23.835802</td>\n",
       "      <td>9</td>\n",
       "      <td>6557</td>\n",
       "    </tr>\n",
       "    <tr>\n",
       "      <th>21-1</th>\n",
       "      <td>3-cyt</td>\n",
       "      <td>24</td>\n",
       "      <td>2</td>\n",
       "      <td>3-cyt_24_2</td>\n",
       "      <td>3.0</td>\n",
       "      <td>A2</td>\n",
       "      <td>JE002</td>\n",
       "      <td>NaN</td>\n",
       "      <td>annotated</td>\n",
       "      <td>pass</td>\n",
       "      <td>...</td>\n",
       "      <td>TTR, INS, MALAT1, CHGA, FTL, MT-ND4, MT-CO2, B...</td>\n",
       "      <td>184.0</td>\n",
       "      <td>2463.0</td>\n",
       "      <td>13.0</td>\n",
       "      <td>330</td>\n",
       "      <td>15661.0</td>\n",
       "      <td>0.249948</td>\n",
       "      <td>22.216874</td>\n",
       "      <td>10</td>\n",
       "      <td>3584</td>\n",
       "    </tr>\n",
       "  </tbody>\n",
       "</table>\n",
       "<p>5 rows × 34 columns</p>\n",
       "</div>"
      ],
      "text/plain": [
       "      condition  timepoint rep harmonized_sample_id  year cell_line  \\\n",
       "0-2     control          0   1          control_0_1   3.0        A2   \n",
       "11-1      3-cyt          6   2            3-cyt_6_2   3.0        A2   \n",
       "12-1       IFNg          6   2             IFNg_6_2   3.0        A2   \n",
       "14-2  palmitate          6   2        palmitate_6_2   3.0        A2   \n",
       "21-1      3-cyt         24   2           3-cyt_24_2   3.0        A2   \n",
       "\n",
       "     differentiation_batch  sequencing_batch multiome_stage  \\\n",
       "0-2                  JE002               NaN      annotated   \n",
       "11-1                 JE002               NaN      annotated   \n",
       "12-1                 JE002               NaN      annotated   \n",
       "14-2                 JE002               NaN      annotated   \n",
       "21-1                 JE002               NaN      annotated   \n",
       "\n",
       "     multiome_qc_status  ...  \\\n",
       "0-2                pass  ...   \n",
       "11-1               pass  ...   \n",
       "12-1            flagged  ...   \n",
       "14-2               pass  ...   \n",
       "21-1               pass  ...   \n",
       "\n",
       "                                 rna:soupx#top_10_genes  \\\n",
       "0-2   MALAT1, INS, TTR, CHGA, CCSER1, PDE4D, GCG, CA...   \n",
       "11-1  TTR, INS, MALAT1, CHGA, FTL, IAPP, MT-ND4, MT-...   \n",
       "12-1  MALAT1, INS, TTR, MT-ND4, MT-CO2, MT-ATP6, MT-...   \n",
       "14-2  MALAT1, TTR, INS, PDE4D, HS6ST3, CCSER1, CHGA,...   \n",
       "21-1  TTR, INS, MALAT1, CHGA, FTL, MT-ND4, MT-CO2, B...   \n",
       "\n",
       "      rna:consensus#doublet_bcs  rna:final_bcs  rna:n_clusters_leiden_1  \\\n",
       "0-2                      1681.0         8119.0                     17.0   \n",
       "11-1                       67.0         1319.0                     10.0   \n",
       "12-1                     1036.0         7862.0                     16.0   \n",
       "14-2                      953.0         6520.0                     15.0   \n",
       "21-1                      184.0         2463.0                     13.0   \n",
       "\n",
       "      atac:amulet#doublet_bcs  atac:median_n_fragment  atac:median_frac_dup  \\\n",
       "0-2                       939                 18976.0              0.283877   \n",
       "11-1                      235                  4780.0              0.324126   \n",
       "12-1                      426                  2788.0              0.259631   \n",
       "14-2                      482                 17277.0              0.335348   \n",
       "21-1                      330                 15661.0              0.249948   \n",
       "\n",
       "      atac:median_tsse  atac:n_clusters_leiden_1  atac:final_bcs  \n",
       "0-2          22.446043                         9           10715  \n",
       "11-1         21.525601                         8            2959  \n",
       "12-1         20.329277                         6           37447  \n",
       "14-2         23.835802                         9            6557  \n",
       "21-1         22.216874                        10            3584  \n",
       "\n",
       "[5 rows x 34 columns]"
      ]
     },
     "execution_count": 28,
     "metadata": {},
     "output_type": "execute_result"
    }
   ],
   "source": [
    "# Merge with sample metadata\n",
    "sample_metadata_df = sample_metadata_df.merge(snapatac2_metadata_df, left_index=True, right_index=True)\n",
    "sample_metadata_df.head()"
   ]
  },
  {
   "cell_type": "markdown",
   "metadata": {},
   "source": [
    "# Filtered ATAC barcodes in QC"
   ]
  },
  {
   "cell_type": "code",
   "execution_count": 29,
   "metadata": {},
   "outputs": [],
   "source": [
    "sample_metadata_df[\"atac:filtered_bcs\"] = sample_metadata_df[\"cellranger:initial_bcs_detected\"] - sample_metadata_df[\"atac:amulet#doublet_bcs\"] - sample_metadata_df[\"atac:final_bcs\"]"
   ]
  },
  {
   "cell_type": "markdown",
   "metadata": {},
   "source": [
    "# Annotations"
   ]
  },
  {
   "cell_type": "code",
   "execution_count": 30,
   "metadata": {},
   "outputs": [],
   "source": [
    "# celltypes\n",
    "annotation_cats = pd.read_csv(\"/cellar/users/aklie/data/datasets/igvf_sc-islet_10X-Multiome/ref/SC.islet.marker_genes.csv\", index_col=1).index.unique().tolist()\n",
    "annotation_cats = annotation_cats + ['other']"
   ]
  },
  {
   "cell_type": "code",
   "execution_count": 31,
   "metadata": {},
   "outputs": [],
   "source": [
    "# Add columns to sample metadata with 0s for all samples\n",
    "for annotation_cat in annotation_cats:\n",
    "    sample_metadata_df[f\"joint:n_{annotation_cat}\"] = 0"
   ]
  },
  {
   "cell_type": "code",
   "execution_count": 32,
   "metadata": {},
   "outputs": [
    {
     "data": {
      "text/plain": [
       "38"
      ]
     },
     "execution_count": 32,
     "metadata": {},
     "output_type": "execute_result"
    }
   ],
   "source": [
    "annotate_metadata_paths = sorted(glob.glob(os.path.join(cellcommander_path, \"*\", \"joint/annotate/annotate_metdata.tsv\")))\n",
    "len(annotate_metadata_paths)"
   ]
  },
  {
   "cell_type": "code",
   "execution_count": 33,
   "metadata": {},
   "outputs": [
    {
     "name": "stderr",
     "output_type": "stream",
     "text": [
      "100%|██████████| 38/38 [00:01<00:00, 23.58it/s]\n"
     ]
    }
   ],
   "source": [
    "#\n",
    "for annotate_metadata_path in tqdm(annotate_metadata_paths):\n",
    "    sample_id = annotate_metadata_path.split(\"/\")[-4]\n",
    "    annotate_metadata_df = pd.read_csv(annotate_metadata_path, sep=\"\\t\")\n",
    "    \n",
    "    if sample_id in sample_metadata_df.index:\n",
    "        n_bcs = annotate_metadata_df.shape[0]\n",
    "        n_clusters = annotate_metadata_df[\"wnn_leiden_1\"].nunique()\n",
    "        median_rna_weight = annotate_metadata_df[\"wnn_RNA_weight\"].median()\n",
    "        median_atac_weight = annotate_metadata_df[\"wnn_ATAC_weight\"].median()\n",
    "        sample_metadata_df.loc[sample_id, \"joint:final_bcs\"] = n_bcs\n",
    "        sample_metadata_df.loc[sample_id, \"joint:n_clusters_wnn_leiden_1\"] = n_clusters\n",
    "        sample_metadata_df.loc[sample_id, \"joint:median_wnn_RNA_weight\"] = median_rna_weight\n",
    "        sample_metadata_df.loc[sample_id, \"joint:median_wnn_ATAC_weight\"] = median_atac_weight\n",
    "\n",
    "        # Add annotation counts\n",
    "        annotation_counts = annotate_metadata_df[\"manual_annotation\"].value_counts()\n",
    "        for annotation_cat in annotation_cats:\n",
    "            if annotation_cat in annotation_counts:\n",
    "                sample_metadata_df.loc[sample_id, f\"joint:n_{annotation_cat}\"] = annotation_counts[annotation_cat]\n",
    "    else:\n",
    "        print(f\"Sample {sample_id} not in metadata\")"
   ]
  },
  {
   "cell_type": "markdown",
   "metadata": {},
   "source": [
    "# Save"
   ]
  },
  {
   "cell_type": "code",
   "execution_count": 34,
   "metadata": {},
   "outputs": [
    {
     "data": {
      "text/html": [
       "<div>\n",
       "<style scoped>\n",
       "    .dataframe tbody tr th:only-of-type {\n",
       "        vertical-align: middle;\n",
       "    }\n",
       "\n",
       "    .dataframe tbody tr th {\n",
       "        vertical-align: top;\n",
       "    }\n",
       "\n",
       "    .dataframe thead th {\n",
       "        text-align: right;\n",
       "    }\n",
       "</style>\n",
       "<table border=\"1\" class=\"dataframe\">\n",
       "  <thead>\n",
       "    <tr style=\"text-align: right;\">\n",
       "      <th></th>\n",
       "      <th>sample_id</th>\n",
       "      <th>condition</th>\n",
       "      <th>timepoint</th>\n",
       "      <th>rep</th>\n",
       "      <th>harmonized_sample_id</th>\n",
       "      <th>year</th>\n",
       "      <th>cell_line</th>\n",
       "      <th>differentiation_batch</th>\n",
       "      <th>sequencing_batch</th>\n",
       "      <th>multiome_stage</th>\n",
       "      <th>...</th>\n",
       "      <th>joint:n_SC.delta</th>\n",
       "      <th>joint:n_SC.EC</th>\n",
       "      <th>joint:n_endocrine_progenitor</th>\n",
       "      <th>joint:n_pancreatic_progenitor</th>\n",
       "      <th>joint:n_proliferating_alpha</th>\n",
       "      <th>joint:n_other</th>\n",
       "      <th>joint:final_bcs</th>\n",
       "      <th>joint:n_clusters_wnn_leiden_1</th>\n",
       "      <th>joint:median_wnn_RNA_weight</th>\n",
       "      <th>joint:median_wnn_ATAC_weight</th>\n",
       "    </tr>\n",
       "  </thead>\n",
       "  <tbody>\n",
       "    <tr>\n",
       "      <th>0</th>\n",
       "      <td>0-2</td>\n",
       "      <td>control</td>\n",
       "      <td>0</td>\n",
       "      <td>1</td>\n",
       "      <td>control_0_1</td>\n",
       "      <td>3.0</td>\n",
       "      <td>A2</td>\n",
       "      <td>JE002</td>\n",
       "      <td>NaN</td>\n",
       "      <td>annotated</td>\n",
       "      <td>...</td>\n",
       "      <td>64</td>\n",
       "      <td>1550</td>\n",
       "      <td>232</td>\n",
       "      <td>0</td>\n",
       "      <td>0</td>\n",
       "      <td>0</td>\n",
       "      <td>6423.0</td>\n",
       "      <td>18.0</td>\n",
       "      <td>0.567157</td>\n",
       "      <td>0.432843</td>\n",
       "    </tr>\n",
       "    <tr>\n",
       "      <th>1</th>\n",
       "      <td>11-1</td>\n",
       "      <td>3-cyt</td>\n",
       "      <td>6</td>\n",
       "      <td>2</td>\n",
       "      <td>3-cyt_6_2</td>\n",
       "      <td>3.0</td>\n",
       "      <td>A2</td>\n",
       "      <td>JE002</td>\n",
       "      <td>NaN</td>\n",
       "      <td>annotated</td>\n",
       "      <td>...</td>\n",
       "      <td>0</td>\n",
       "      <td>214</td>\n",
       "      <td>49</td>\n",
       "      <td>0</td>\n",
       "      <td>0</td>\n",
       "      <td>0</td>\n",
       "      <td>890.0</td>\n",
       "      <td>8.0</td>\n",
       "      <td>0.488220</td>\n",
       "      <td>0.511780</td>\n",
       "    </tr>\n",
       "    <tr>\n",
       "      <th>2</th>\n",
       "      <td>12-1</td>\n",
       "      <td>IFNg</td>\n",
       "      <td>6</td>\n",
       "      <td>2</td>\n",
       "      <td>IFNg_6_2</td>\n",
       "      <td>3.0</td>\n",
       "      <td>A2</td>\n",
       "      <td>JE002</td>\n",
       "      <td>NaN</td>\n",
       "      <td>annotated</td>\n",
       "      <td>...</td>\n",
       "      <td>49</td>\n",
       "      <td>320</td>\n",
       "      <td>31</td>\n",
       "      <td>0</td>\n",
       "      <td>4</td>\n",
       "      <td>659</td>\n",
       "      <td>3106.0</td>\n",
       "      <td>29.0</td>\n",
       "      <td>0.530606</td>\n",
       "      <td>0.469394</td>\n",
       "    </tr>\n",
       "    <tr>\n",
       "      <th>3</th>\n",
       "      <td>14-2</td>\n",
       "      <td>palmitate</td>\n",
       "      <td>6</td>\n",
       "      <td>2</td>\n",
       "      <td>palmitate_6_2</td>\n",
       "      <td>3.0</td>\n",
       "      <td>A2</td>\n",
       "      <td>JE002</td>\n",
       "      <td>NaN</td>\n",
       "      <td>annotated</td>\n",
       "      <td>...</td>\n",
       "      <td>38</td>\n",
       "      <td>1479</td>\n",
       "      <td>175</td>\n",
       "      <td>0</td>\n",
       "      <td>0</td>\n",
       "      <td>0</td>\n",
       "      <td>5262.0</td>\n",
       "      <td>13.0</td>\n",
       "      <td>0.508066</td>\n",
       "      <td>0.491934</td>\n",
       "    </tr>\n",
       "    <tr>\n",
       "      <th>4</th>\n",
       "      <td>21-1</td>\n",
       "      <td>3-cyt</td>\n",
       "      <td>24</td>\n",
       "      <td>2</td>\n",
       "      <td>3-cyt_24_2</td>\n",
       "      <td>3.0</td>\n",
       "      <td>A2</td>\n",
       "      <td>JE002</td>\n",
       "      <td>NaN</td>\n",
       "      <td>annotated</td>\n",
       "      <td>...</td>\n",
       "      <td>13</td>\n",
       "      <td>461</td>\n",
       "      <td>64</td>\n",
       "      <td>0</td>\n",
       "      <td>0</td>\n",
       "      <td>0</td>\n",
       "      <td>1838.0</td>\n",
       "      <td>10.0</td>\n",
       "      <td>0.466227</td>\n",
       "      <td>0.533773</td>\n",
       "    </tr>\n",
       "  </tbody>\n",
       "</table>\n",
       "<p>5 rows × 48 columns</p>\n",
       "</div>"
      ],
      "text/plain": [
       "  sample_id  condition  timepoint rep harmonized_sample_id  year cell_line  \\\n",
       "0       0-2    control          0   1          control_0_1   3.0        A2   \n",
       "1      11-1      3-cyt          6   2            3-cyt_6_2   3.0        A2   \n",
       "2      12-1       IFNg          6   2             IFNg_6_2   3.0        A2   \n",
       "3      14-2  palmitate          6   2        palmitate_6_2   3.0        A2   \n",
       "4      21-1      3-cyt         24   2           3-cyt_24_2   3.0        A2   \n",
       "\n",
       "  differentiation_batch  sequencing_batch multiome_stage  ...  \\\n",
       "0                 JE002               NaN      annotated  ...   \n",
       "1                 JE002               NaN      annotated  ...   \n",
       "2                 JE002               NaN      annotated  ...   \n",
       "3                 JE002               NaN      annotated  ...   \n",
       "4                 JE002               NaN      annotated  ...   \n",
       "\n",
       "  joint:n_SC.delta joint:n_SC.EC  joint:n_endocrine_progenitor  \\\n",
       "0               64          1550                           232   \n",
       "1                0           214                            49   \n",
       "2               49           320                            31   \n",
       "3               38          1479                           175   \n",
       "4               13           461                            64   \n",
       "\n",
       "   joint:n_pancreatic_progenitor  joint:n_proliferating_alpha  joint:n_other  \\\n",
       "0                              0                            0              0   \n",
       "1                              0                            0              0   \n",
       "2                              0                            4            659   \n",
       "3                              0                            0              0   \n",
       "4                              0                            0              0   \n",
       "\n",
       "   joint:final_bcs  joint:n_clusters_wnn_leiden_1  \\\n",
       "0           6423.0                           18.0   \n",
       "1            890.0                            8.0   \n",
       "2           3106.0                           29.0   \n",
       "3           5262.0                           13.0   \n",
       "4           1838.0                           10.0   \n",
       "\n",
       "   joint:median_wnn_RNA_weight  joint:median_wnn_ATAC_weight  \n",
       "0                     0.567157                      0.432843  \n",
       "1                     0.488220                      0.511780  \n",
       "2                     0.530606                      0.469394  \n",
       "3                     0.508066                      0.491934  \n",
       "4                     0.466227                      0.533773  \n",
       "\n",
       "[5 rows x 48 columns]"
      ]
     },
     "execution_count": 34,
     "metadata": {},
     "output_type": "execute_result"
    }
   ],
   "source": [
    "# Reset index and name sample_id\n",
    "sample_metadata_df = sample_metadata_df.reset_index().rename(columns={\"index\": \"sample_id\"})\n",
    "sample_metadata_df.head()"
   ]
  },
  {
   "cell_type": "code",
   "execution_count": 35,
   "metadata": {},
   "outputs": [
    {
     "name": "stderr",
     "output_type": "stream",
     "text": [
      "Error in atexit._run_exitfuncs:\n",
      "Traceback (most recent call last):\n",
      "  File \"/cellar/users/aklie/opt/miniconda3/envs/scverse-lite-py39/lib/python3.9/site-packages/IPython/core/history.py\", line 844, in writeout_cache\n",
      "    self._writeout_input_cache(conn)\n",
      "  File \"/cellar/users/aklie/opt/miniconda3/envs/scverse-lite-py39/lib/python3.9/site-packages/IPython/core/history.py\", line 827, in _writeout_input_cache\n",
      "    conn.execute(\"INSERT INTO history VALUES (?, ?, ?, ?)\",\n",
      "sqlite3.DatabaseError: database disk image is malformed\n"
     ]
    }
   ],
   "source": [
    "sample_metadata_df.to_csv(outpath, sep=\"\\t\", index=False)"
   ]
  },
  {
   "cell_type": "markdown",
   "metadata": {},
   "source": [
    "# DONE!"
   ]
  },
  {
   "cell_type": "markdown",
   "metadata": {},
   "source": [
    "---"
   ]
  }
 ],
 "metadata": {
  "kernelspec": {
   "display_name": "Python 3.9 scverse-lite",
   "language": "python",
   "name": "scverse-lite-py39"
  }
 },
 "nbformat": 4,
 "nbformat_minor": 2
}
