{
 "cells": [
  {
   "attachments": {},
   "cell_type": "markdown",
   "metadata": {},
   "source": [
    "# Set-up"
   ]
  },
  {
   "cell_type": "code",
   "execution_count": 1,
   "metadata": {},
   "outputs": [
    {
     "name": "stdout",
     "output_type": "stream",
     "text": [
      "The history saving thread hit an unexpected error (DatabaseError('database disk image is malformed')).History will not be written to the database.\n"
     ]
    }
   ],
   "source": [
    "# Imports\n",
    "import os\n",
    "import glob\n",
    "import pandas as pd\n",
    "import numpy as np"
   ]
  },
  {
   "cell_type": "code",
   "execution_count": 3,
   "metadata": {},
   "outputs": [],
   "source": [
    "# Paths\n",
    "path_sample_metadata = \"/cellar/users/aklie/data/datasets/igvf_sc-islet_10X-Multiome/metadata/sample_metadata.tsv\"\n",
    "path_out = \"/cellar/users/aklie/data/datasets/igvf_sc-islet_10X-Multiome/metadata/2024_08_16\""
   ]
  },
  {
   "cell_type": "code",
   "execution_count": 4,
   "metadata": {},
   "outputs": [],
   "source": [
    "# make output directory\n",
    "os.makedirs(path_out, exist_ok=True)"
   ]
  },
  {
   "attachments": {},
   "cell_type": "markdown",
   "metadata": {},
   "source": [
    "# Metadata"
   ]
  },
  {
   "cell_type": "code",
   "execution_count": 5,
   "metadata": {},
   "outputs": [
    {
     "data": {
      "text/html": [
       "<div>\n",
       "<style scoped>\n",
       "    .dataframe tbody tr th:only-of-type {\n",
       "        vertical-align: middle;\n",
       "    }\n",
       "\n",
       "    .dataframe tbody tr th {\n",
       "        vertical-align: top;\n",
       "    }\n",
       "\n",
       "    .dataframe thead th {\n",
       "        text-align: right;\n",
       "    }\n",
       "</style>\n",
       "<table border=\"1\" class=\"dataframe\">\n",
       "  <thead>\n",
       "    <tr style=\"text-align: right;\">\n",
       "      <th></th>\n",
       "      <th>sample_id</th>\n",
       "      <th>condition</th>\n",
       "      <th>timepoint</th>\n",
       "      <th>rep</th>\n",
       "      <th>harmonized_sample_id</th>\n",
       "      <th>year</th>\n",
       "      <th>cell_line</th>\n",
       "      <th>differentiation_batch</th>\n",
       "      <th>sequencing_batch</th>\n",
       "      <th>multiome_stage</th>\n",
       "      <th>multiome_qc_status</th>\n",
       "      <th>notes</th>\n",
       "    </tr>\n",
       "  </thead>\n",
       "  <tbody>\n",
       "    <tr>\n",
       "      <th>0</th>\n",
       "      <td>mo1</td>\n",
       "      <td>control</td>\n",
       "      <td>0</td>\n",
       "      <td>fail</td>\n",
       "      <td>NaN</td>\n",
       "      <td>1</td>\n",
       "      <td>H1</td>\n",
       "      <td>DM023</td>\n",
       "      <td>NaN</td>\n",
       "      <td>annotated</td>\n",
       "      <td>fail</td>\n",
       "      <td>not using H1 samples</td>\n",
       "    </tr>\n",
       "    <tr>\n",
       "      <th>1</th>\n",
       "      <td>mo3</td>\n",
       "      <td>control</td>\n",
       "      <td>0</td>\n",
       "      <td>fail</td>\n",
       "      <td>NaN</td>\n",
       "      <td>1</td>\n",
       "      <td>H1</td>\n",
       "      <td>DM023</td>\n",
       "      <td>NaN</td>\n",
       "      <td>annotated</td>\n",
       "      <td>fail</td>\n",
       "      <td>not using H1 samples</td>\n",
       "    </tr>\n",
       "    <tr>\n",
       "      <th>2</th>\n",
       "      <td>dm0b</td>\n",
       "      <td>control</td>\n",
       "      <td>0</td>\n",
       "      <td>fail</td>\n",
       "      <td>NaN</td>\n",
       "      <td>2</td>\n",
       "      <td>A2</td>\n",
       "      <td>DM041</td>\n",
       "      <td>NaN</td>\n",
       "      <td>annotated</td>\n",
       "      <td>fail</td>\n",
       "      <td>clustered separately in integration, still has...</td>\n",
       "    </tr>\n",
       "    <tr>\n",
       "      <th>3</th>\n",
       "      <td>0-2</td>\n",
       "      <td>control</td>\n",
       "      <td>0</td>\n",
       "      <td>1</td>\n",
       "      <td>control_0_1</td>\n",
       "      <td>3</td>\n",
       "      <td>A2</td>\n",
       "      <td>JE002</td>\n",
       "      <td>NaN</td>\n",
       "      <td>annotated</td>\n",
       "      <td>pass</td>\n",
       "      <td>0-1 wasn't sequenced due to not enough cells</td>\n",
       "    </tr>\n",
       "    <tr>\n",
       "      <th>4</th>\n",
       "      <td>0-3B-1</td>\n",
       "      <td>control</td>\n",
       "      <td>0</td>\n",
       "      <td>2</td>\n",
       "      <td>control_0_2</td>\n",
       "      <td>3</td>\n",
       "      <td>A2</td>\n",
       "      <td>JE002</td>\n",
       "      <td>NaN</td>\n",
       "      <td>generated</td>\n",
       "      <td>not generated</td>\n",
       "      <td>NaN</td>\n",
       "    </tr>\n",
       "  </tbody>\n",
       "</table>\n",
       "</div>"
      ],
      "text/plain": [
       "  sample_id condition  timepoint   rep harmonized_sample_id  year cell_line  \\\n",
       "0       mo1   control          0  fail                  NaN     1        H1   \n",
       "1       mo3   control          0  fail                  NaN     1        H1   \n",
       "2      dm0b   control          0  fail                  NaN     2        A2   \n",
       "3       0-2   control          0     1          control_0_1     3        A2   \n",
       "4    0-3B-1   control          0     2          control_0_2     3        A2   \n",
       "\n",
       "  differentiation_batch  sequencing_batch multiome_stage multiome_qc_status  \\\n",
       "0                 DM023               NaN      annotated               fail   \n",
       "1                 DM023               NaN      annotated               fail   \n",
       "2                 DM041               NaN      annotated               fail   \n",
       "3                 JE002               NaN      annotated               pass   \n",
       "4                 JE002               NaN      generated      not generated   \n",
       "\n",
       "                                               notes  \n",
       "0                               not using H1 samples  \n",
       "1                               not using H1 samples  \n",
       "2  clustered separately in integration, still has...  \n",
       "3       0-1 wasn't sequenced due to not enough cells  \n",
       "4                                                NaN  "
      ]
     },
     "execution_count": 5,
     "metadata": {},
     "output_type": "execute_result"
    }
   ],
   "source": [
    "df = pd.read_csv(path_sample_metadata, sep=\"\\t\")\n",
    "df.head()"
   ]
  },
  {
   "cell_type": "code",
   "execution_count": 7,
   "metadata": {},
   "outputs": [
    {
     "data": {
      "text/plain": [
       "56"
      ]
     },
     "execution_count": 7,
     "metadata": {},
     "output_type": "execute_result"
    }
   ],
   "source": [
    "# Filter out the samples that have \"preprocessed\" in \"multiome_analysis_stage\"\n",
    "stages = \"all\"\n",
    "if stages == \"all\":\n",
    "    df_processed = df.copy()\n",
    "else:\n",
    "    df_processed = df[df[\"multiome_stage\"].isin(stages)].reset_index(drop=True)\n",
    "len(df_processed)"
   ]
  },
  {
   "attachments": {},
   "cell_type": "markdown",
   "metadata": {},
   "source": [
    "# `H5AD` files"
   ]
  },
  {
   "cell_type": "code",
   "execution_count": 8,
   "metadata": {},
   "outputs": [
    {
     "data": {
      "text/plain": [
       "(56, 54)"
      ]
     },
     "execution_count": 8,
     "metadata": {},
     "output_type": "execute_result"
    }
   ],
   "source": [
    "# Get all the directories with fragment files in them\n",
    "sample_dir = \"/cellar/users/aklie/data/datasets/igvf_sc-islet_10X-Multiome/results/3_sample_qc\"\n",
    "rna_h5_paths = sorted(glob.glob(os.path.join(sample_dir, \"**\", \"seurat_default_pca.h5ad\"), recursive=True))\n",
    "atac_h5_paths = sorted(glob.glob(os.path.join(sample_dir, \"**\", \"clustered.h5ad\"), recursive=True))\n",
    "len(rna_h5_paths), len(atac_h5_paths)"
   ]
  },
  {
   "cell_type": "code",
   "execution_count": 9,
   "metadata": {},
   "outputs": [],
   "source": [
    "# Get dict of sample_id to path\n",
    "sample_id_to_rna_path = {}\n",
    "for input_h5ad_path in rna_h5_paths:\n",
    "    sample_id = input_h5ad_path.split(\"/\")[-4]\n",
    "    sample_id_to_rna_path[sample_id] = input_h5ad_path\n",
    "\n",
    "# Get dict of sample_id to path\n",
    "sample_id_to_atac_path = {}\n",
    "for input_h5ad_path in atac_h5_paths:\n",
    "    sample_id = input_h5ad_path.split(\"/\")[-3]\n",
    "    sample_id_to_atac_path[sample_id] = input_h5ad_path"
   ]
  },
  {
   "cell_type": "code",
   "execution_count": 10,
   "metadata": {},
   "outputs": [],
   "source": [
    "# h5ad and frag to df\n",
    "df_processed[\"rna_h5_path\"] = df_processed[\"sample_id\"].map(sample_id_to_rna_path)\n",
    "df_processed[\"atac_h5_path\"] = df_processed[\"sample_id\"].map(sample_id_to_atac_path)"
   ]
  },
  {
   "cell_type": "code",
   "execution_count": 11,
   "metadata": {},
   "outputs": [
    {
     "data": {
      "text/plain": [
       "[]"
      ]
     },
     "execution_count": 11,
     "metadata": {},
     "output_type": "execute_result"
    }
   ],
   "source": [
    "# Which samples are currently missing rna_h5_path\n",
    "missing_rna_h5_path = df_processed[df_processed[\"rna_h5_path\"].isnull()]\n",
    "missing_rna_h5_path[\"sample_id\"].to_list()"
   ]
  },
  {
   "cell_type": "code",
   "execution_count": 12,
   "metadata": {},
   "outputs": [
    {
     "data": {
      "text/plain": [
       "['0-2', '12-1']"
      ]
     },
     "execution_count": 12,
     "metadata": {},
     "output_type": "execute_result"
    }
   ],
   "source": [
    "# Which samples are currently missing atac_h5_path\n",
    "missing_atac_h5_path = df_processed[df_processed[\"atac_h5_path\"].isnull()]\n",
    "missing_atac_h5_path[\"sample_id\"].to_list()"
   ]
  },
  {
   "cell_type": "code",
   "execution_count": 26,
   "metadata": {},
   "outputs": [
    {
     "data": {
      "text/plain": [
       "10"
      ]
     },
     "execution_count": 26,
     "metadata": {},
     "output_type": "execute_result"
    }
   ],
   "source": [
    "# Drop nas\n",
    "df_processed = df_processed.dropna(subset=[\"rna_h5_path\", \"atac_h5_path\"])\n",
    "len(df_processed)"
   ]
  },
  {
   "cell_type": "code",
   "execution_count": 27,
   "metadata": {},
   "outputs": [],
   "source": [
    "# Save the output\n",
    "df_processed[[\"rna_h5_path\", \"atac_h5_path\", \"sample_id\", \"condition\", \"differentiation_batch\", \"timepoint\"]].sort_values([\"condition\", \"timepoint\"]).to_csv(os.path.join(path_out, \"6_joint-integrate.tsv\"), sep=\"\\t\", index=False, header=False)"
   ]
  },
  {
   "cell_type": "markdown",
   "metadata": {},
   "source": [
    "# Annotation"
   ]
  },
  {
   "cell_type": "code",
   "execution_count": 36,
   "metadata": {},
   "outputs": [],
   "source": [
    "def write_script(sample, outpath):\n",
    "    script_contents=\"#!/bin/bash\\n\" \\\n",
    "    \"script_path=/cellar/users/aklie/data/datasets/igvf_sc-islet_10X-Multiome/bin/sample_annotation/scripts/cellcommander_annotate_RNA.sh\\n\" \\\n",
    "    f\"sample={sample}\\n\" \\\n",
    "    \"input_h5mu=/cellar/users/aklie/data/datasets/igvf_sc-islet_10X-Multiome/results/sample_annotation/$sample/joint/integrate/joint_integrate.h5mu\\n\" \\\n",
    "    \"outdir_path=/cellar/users/aklie/data/datasets/igvf_sc-islet_10X-Multiome/results/sample_annotation/$sample/joint/annotate\\n\" \\\n",
    "    \"cmd='bash $script_path $input_h5mu $outdir_path'\\n\" \\\n",
    "    \"echo -e 'Running command: $cmd'\\n\" \\\n",
    "    \"eval $cmd\\n\"\n",
    "    with open(outpath, \"w\") as f:\n",
    "        f.write(script_contents)"
   ]
  },
  {
   "cell_type": "code",
   "execution_count": 37,
   "metadata": {},
   "outputs": [
    {
     "name": "stdout",
     "output_type": "stream",
     "text": [
      "14-1\n",
      "24-1\n",
      "24-2\n",
      "31-1\n",
      "34-1\n",
      "35-1\n",
      "41-1\n",
      "41-2\n",
      "44-1\n",
      "45-1\n"
     ]
    }
   ],
   "source": [
    "annot_path = \"/cellar/users/aklie/data/datasets/igvf_sc-islet_10X-Multiome/bin/sample_annotation/7_annotate\"\n",
    "for sample_id in sorted(df_processed[\"sample_id\"].values):\n",
    "    print(sample_id)\n",
    "    write_script(sample_id, outpath=os.path.join(annot_path, f\"7_cellcommander_annotate_{sample_id}.sh\"))"
   ]
  },
  {
   "attachments": {},
   "cell_type": "markdown",
   "metadata": {},
   "source": [
    "# DONE!"
   ]
  },
  {
   "attachments": {},
   "cell_type": "markdown",
   "metadata": {},
   "source": [
    "---"
   ]
  },
  {
   "cell_type": "code",
   "execution_count": null,
   "metadata": {},
   "outputs": [
    {
     "name": "stdout",
     "output_type": "stream",
     "text": [
      "-rw-r----- 1 aklie carter-users 362798557 Jul 29 09:04 /cellar/users/aklie/data/datasets/igvf_sc-islet_10X-Multiome/results/sample_annotation/35-1/rna/reduce_dimensions/seurat_default_pca.h5ad\n",
      "-rw-r----- 1 aklie carter-users 218892049 Jul 29 09:07 /cellar/users/aklie/data/datasets/igvf_sc-islet_10X-Multiome/results/sample_annotation/45-1/rna/reduce_dimensions/seurat_default_pca.h5ad\n",
      "-rw-r----- 1 aklie carter-users 602119845 Jul 29 09:06 /cellar/users/aklie/data/datasets/igvf_sc-islet_10X-Multiome/results/sample_annotation/14-1/rna/reduce_dimensions/seurat_default_pca.h5ad\n",
      "-rw-r----- 1 aklie carter-users 614338877 Jul 29 09:17 /cellar/users/aklie/data/datasets/igvf_sc-islet_10X-Multiome/results/sample_annotation/24-1/rna/reduce_dimensions/seurat_default_pca.h5ad\n",
      "-rw-r----- 1 aklie carter-users 645155157 Jul 29 09:06 /cellar/users/aklie/data/datasets/igvf_sc-islet_10X-Multiome/results/sample_annotation/24-2/rna/reduce_dimensions/seurat_default_pca.h5ad\n",
      "-rw-r----- 1 aklie carter-users 572321385 Jul 29 09:18 /cellar/users/aklie/data/datasets/igvf_sc-islet_10X-Multiome/results/sample_annotation/34-1/rna/reduce_dimensions/seurat_default_pca.h5ad\n",
      "-rw-r----- 1 aklie carter-users 664539753 Jul 29 09:06 /cellar/users/aklie/data/datasets/igvf_sc-islet_10X-Multiome/results/sample_annotation/44-1/rna/reduce_dimensions/seurat_default_pca.h5ad\n",
      "-rw-r----- 1 aklie carter-users 524969429 Jul 29 09:11 /cellar/users/aklie/data/datasets/igvf_sc-islet_10X-Multiome/results/sample_annotation/31-1/rna/reduce_dimensions/seurat_default_pca.h5ad\n",
      "-rw-r----- 1 aklie carter-users 703276741 Jul 29 09:13 /cellar/users/aklie/data/datasets/igvf_sc-islet_10X-Multiome/results/sample_annotation/41-1/rna/reduce_dimensions/seurat_default_pca.h5ad\n",
      "-rw-r----- 1 aklie carter-users 674491669 Jul 29 09:06 /cellar/users/aklie/data/datasets/igvf_sc-islet_10X-Multiome/results/sample_annotation/41-2/rna/reduce_dimensions/seurat_default_pca.h5ad\n"
     ]
    }
   ],
   "source": [
    "# print out when all the rna_h5_paths were generated\n",
    "for rna_h5_path in df_processed[\"rna_h5_path\"]:\n",
    "    os.system(f\"ls -l --time=ctime {rna_h5_path}\")"
   ]
  },
  {
   "cell_type": "code",
   "execution_count": null,
   "metadata": {},
   "outputs": [
    {
     "name": "stdout",
     "output_type": "stream",
     "text": [
      "-rw-r----- 1 aklie carter-users 1002870179 Jul 30 14:08 /cellar/users/aklie/data/datasets/igvf_sc-islet_10X-Multiome/results/sample_annotation/35-1/atac/clustered.h5ad\n",
      "-rw-r----- 1 aklie carter-users 924850832 Jul 30 14:08 /cellar/users/aklie/data/datasets/igvf_sc-islet_10X-Multiome/results/sample_annotation/45-1/atac/clustered.h5ad\n",
      "-rw-r----- 1 aklie carter-users 1500846303 Jul 30 14:45 /cellar/users/aklie/data/datasets/igvf_sc-islet_10X-Multiome/results/sample_annotation/14-1/atac/clustered.h5ad\n",
      "-rw-r----- 1 aklie carter-users 2298322352 Jul 30 14:52 /cellar/users/aklie/data/datasets/igvf_sc-islet_10X-Multiome/results/sample_annotation/24-1/atac/clustered.h5ad\n",
      "-rw-r----- 1 aklie carter-users 1846312554 Jul 30 14:42 /cellar/users/aklie/data/datasets/igvf_sc-islet_10X-Multiome/results/sample_annotation/24-2/atac/clustered.h5ad\n",
      "-rw-r----- 1 aklie carter-users 2407083114 Jul 30 14:53 /cellar/users/aklie/data/datasets/igvf_sc-islet_10X-Multiome/results/sample_annotation/34-1/atac/clustered.h5ad\n",
      "-rw-r----- 1 aklie carter-users 3658973236 Jul 30 14:47 /cellar/users/aklie/data/datasets/igvf_sc-islet_10X-Multiome/results/sample_annotation/44-1/atac/clustered.h5ad\n",
      "-rw-r----- 1 aklie carter-users 1717892675 Jul 30 14:16 /cellar/users/aklie/data/datasets/igvf_sc-islet_10X-Multiome/results/sample_annotation/31-1/atac/clustered.h5ad\n",
      "-rw-r----- 1 aklie carter-users 3181035997 Jul 30 14:30 /cellar/users/aklie/data/datasets/igvf_sc-islet_10X-Multiome/results/sample_annotation/41-1/atac/clustered.h5ad\n",
      "-rw-r----- 1 aklie carter-users 2178278744 Jul 30 14:32 /cellar/users/aklie/data/datasets/igvf_sc-islet_10X-Multiome/results/sample_annotation/41-2/atac/clustered.h5ad\n"
     ]
    }
   ],
   "source": [
    "# print out when all the atac_h5_paths were generated\n",
    "for atac_h5_path in df_processed[\"atac_h5_path\"]:\n",
    "    os.system(f\"ls -l --time=ctime {atac_h5_path}\")"
   ]
  },
  {
   "cell_type": "code",
   "execution_count": null,
   "metadata": {},
   "outputs": [
    {
     "name": "stdout",
     "output_type": "stream",
     "text": [
      "-rw-r----- 1 aklie carter-users 863069348 Jul 31 10:10 /cellar/users/aklie/data/datasets/igvf_sc-islet_10X-Multiome/results/sample_annotation/35-1/joint/integrate/joint_integrate.h5mu\n",
      "-rw-r----- 1 aklie carter-users 478335908 Jul 31 10:09 /cellar/users/aklie/data/datasets/igvf_sc-islet_10X-Multiome/results/sample_annotation/45-1/joint/integrate/joint_integrate.h5mu\n",
      "-rw-r----- 1 aklie carter-users 1580597260 Jul 31 10:11 /cellar/users/aklie/data/datasets/igvf_sc-islet_10X-Multiome/results/sample_annotation/14-1/joint/integrate/joint_integrate.h5mu\n",
      "-rw-r----- 1 aklie carter-users 808452096 Jul 31 10:12 /cellar/users/aklie/data/datasets/igvf_sc-islet_10X-Multiome/results/sample_annotation/24-1/joint/integrate/joint_integrate.h5mu\n",
      "-rw-r----- 1 aklie carter-users 1865657476 Jul 31 10:11 /cellar/users/aklie/data/datasets/igvf_sc-islet_10X-Multiome/results/sample_annotation/24-2/joint/integrate/joint_integrate.h5mu\n",
      "-rw-r----- 1 aklie carter-users 1640121820 Jul 31 10:11 /cellar/users/aklie/data/datasets/igvf_sc-islet_10X-Multiome/results/sample_annotation/34-1/joint/integrate/joint_integrate.h5mu\n",
      "-rw-r----- 1 aklie carter-users 1917844332 Jul 31 10:10 /cellar/users/aklie/data/datasets/igvf_sc-islet_10X-Multiome/results/sample_annotation/44-1/joint/integrate/joint_integrate.h5mu\n",
      "-rw-r----- 1 aklie carter-users 1300299636 Jul 31 10:10 /cellar/users/aklie/data/datasets/igvf_sc-islet_10X-Multiome/results/sample_annotation/31-1/joint/integrate/joint_integrate.h5mu\n",
      "-rw-r----- 1 aklie carter-users 2589887812 Jul 31 10:11 /cellar/users/aklie/data/datasets/igvf_sc-islet_10X-Multiome/results/sample_annotation/41-1/joint/integrate/joint_integrate.h5mu\n",
      "-rw-r----- 1 aklie carter-users 2022251060 Jul 31 10:11 /cellar/users/aklie/data/datasets/igvf_sc-islet_10X-Multiome/results/sample_annotation/41-2/joint/integrate/joint_integrate.h5mu\n"
     ]
    }
   ],
   "source": [
    "for sample_id in df_processed[\"sample_id\"]:\n",
    "    file = f\"/cellar/users/aklie/data/datasets/igvf_sc-islet_10X-Multiome/results/sample_annotation/{sample_id}/joint/integrate/joint_integrate.h5mu\"\n",
    "    os.system(f\"ls -l --time=ctime {file}\")"
   ]
  },
  {
   "cell_type": "code",
   "execution_count": null,
   "metadata": {},
   "outputs": [],
   "source": [
    "# Convert the specified date to a timestamp\n",
    "from datetime import datetime\n",
    "date_cutoff = datetime.strptime('2024-08-10', '%Y-%m-%d').timestamp()\n",
    "complete = 0\n",
    "incomplete = 0\n",
    "for sample_id in sorted(df_processed[\"sample_id\"].values):\n",
    "    print(sample_id)\n",
    "    file = f\"/cellar/users/aklie/data/datasets/igvf_sc-islet_10X-Multiome/results/sample_annotation/{sample_id}/joint/annotate/annotate.h5mu\"\n",
    "    if os.path.exists(file):\n",
    "        file_mod_time = os.path.getmtime(file)\n",
    "        if file_mod_time < date_cutoff:\n",
    "            print(sample_id, datetime.fromtimestamp(file_mod_time))\n",
    "            incomplete += 1\n",
    "        else:\n",
    "            complete += 1\n",
    "print(f\"Complete: {complete}\")\n",
    "print(f\"Incomplete: {incomplete}\")"
   ]
  }
 ],
 "metadata": {
  "kernelspec": {
   "display_name": "Python 3.7 get_data",
   "language": "python",
   "name": "get_data"
  },
  "orig_nbformat": 4
 },
 "nbformat": 4,
 "nbformat_minor": 2
}
