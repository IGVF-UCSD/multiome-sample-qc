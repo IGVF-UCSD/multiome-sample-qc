{
 "cells": [
  {
   "attachments": {},
   "cell_type": "markdown",
   "metadata": {},
   "source": [
    "# Consolidate AMULET outputs into a single doublet list\n",
    "This script concatenates all the amulet outputs to a single file"
   ]
  },
  {
   "cell_type": "code",
   "execution_count": 1,
   "metadata": {},
   "outputs": [
    {
     "name": "stdout",
     "output_type": "stream",
     "text": [
      "The history saving thread hit an unexpected error (DatabaseError('database disk image is malformed')).History will not be written to the database.\n"
     ]
    }
   ],
   "source": [
    "import os\n",
    "import glob\n",
    "import pandas as pd"
   ]
  },
  {
   "cell_type": "markdown",
   "metadata": {},
   "source": [
    "# Load AMULET doublet calls"
   ]
  },
  {
   "cell_type": "code",
   "execution_count": 4,
   "metadata": {},
   "outputs": [
    {
     "data": {
      "text/plain": [
       "(['/cellar/users/aklie/data/datasets/igvf_sc-islet_10X-Multiome/results/3_sample_qc/dm31a/atac/amulet/doublet_barcodes.txt',\n",
       "  '/cellar/users/aklie/data/datasets/igvf_sc-islet_10X-Multiome/results/3_sample_qc/dm42b/atac/amulet/doublet_barcodes.txt',\n",
       "  '/cellar/users/aklie/data/datasets/igvf_sc-islet_10X-Multiome/results/3_sample_qc/25-1/atac/amulet/doublet_barcodes.txt',\n",
       "  '/cellar/users/aklie/data/datasets/igvf_sc-islet_10X-Multiome/results/3_sample_qc/35-1/atac/amulet/doublet_barcodes.txt',\n",
       "  '/cellar/users/aklie/data/datasets/igvf_sc-islet_10X-Multiome/results/3_sample_qc/14-1/atac/amulet/doublet_barcodes.txt'],\n",
       " 56)"
      ]
     },
     "execution_count": 4,
     "metadata": {},
     "output_type": "execute_result"
    }
   ],
   "source": [
    "# Make sure this matches the number of samples you expect\n",
    "base_dir = \"/path/to/output/\"\n",
    "amulet_bc_paths = glob.glob(os.path.join(base_dir, \"*\", \"atac/amulet/doublet_barcodes.txt\"))\n",
    "amulet_bc_paths[:5], len(amulet_bc_paths)"
   ]
  },
  {
   "cell_type": "code",
   "execution_count": 5,
   "metadata": {},
   "outputs": [
    {
     "data": {
      "text/plain": [
       "(['dm31a#AAAGCAAGTGTGTGGT-1',\n",
       "  'dm31a#AAAGCACCAGGATGGC-1',\n",
       "  'dm31a#AAAGCGGGTCATGCAA-1',\n",
       "  'dm31a#AAAGGTTAGGCAAGTA-1',\n",
       "  'dm31a#AACCTAATCAGCTAAC-1'],\n",
       " 29106)"
      ]
     },
     "execution_count": 5,
     "metadata": {},
     "output_type": "execute_result"
    }
   ],
   "source": [
    "# Concat\n",
    "amulet_bcs = []\n",
    "num_doublets = {}\n",
    "for path in amulet_bc_paths:\n",
    "    sample = path.split(\"/\")[-4]\n",
    "    curr_bcs = pd.read_csv(path, sep=\"\\t\", header=None)[0].tolist()\n",
    "    curr_bcs = [sample + \"#\" + bc for bc in curr_bcs]\n",
    "    num_doublets[sample] = len(curr_bcs)\n",
    "    amulet_bcs.extend(curr_bcs)\n",
    "amulet_bcs[:5], len(amulet_bcs)"
   ]
  },
  {
   "cell_type": "markdown",
   "metadata": {},
   "source": [
    "# Write"
   ]
  },
  {
   "cell_type": "code",
   "execution_count": 6,
   "metadata": {},
   "outputs": [
    {
     "data": {
      "text/plain": [
       "56"
      ]
     },
     "execution_count": 6,
     "metadata": {},
     "output_type": "execute_result"
    }
   ],
   "source": [
    "# Print total number of samples with doublets\n",
    "len(num_doublets)"
   ]
  },
  {
   "cell_type": "code",
   "execution_count": 7,
   "metadata": {},
   "outputs": [
    {
     "data": {
      "text/plain": [
       "519.75"
      ]
     },
     "execution_count": 7,
     "metadata": {},
     "output_type": "execute_result"
    }
   ],
   "source": [
    "# Average per sample\n",
    "avg_doublets = sum(num_doublets.values()) / len(num_doublets)\n",
    "avg_doublets"
   ]
  },
  {
   "cell_type": "code",
   "execution_count": 9,
   "metadata": {},
   "outputs": [],
   "source": [
    "with open(os.path.join(base_dir, \"amulet_bcs.txt\"), \"w\") as f:\n",
    "    f.write(\"\\n\".join(amulet_bcs))"
   ]
  },
  {
   "cell_type": "code",
   "execution_count": 12,
   "metadata": {},
   "outputs": [],
   "source": [
    "# Save number of doublets per sample\n",
    "num_doublets_per_sample = pd.Series(num_doublets)\n",
    "num_doublets_per_sample.name = \"num_doublets\"\n",
    "num_doublets_per_sample.index.name = \"sample\"\n",
    "num_doublets_per_sample.to_csv(os.path.join(base_dir, \"num_doublets_per_sample.csv\"))"
   ]
  },
  {
   "cell_type": "markdown",
   "metadata": {},
   "source": [
    "# DONE!"
   ]
  },
  {
   "cell_type": "markdown",
   "metadata": {},
   "source": [
    "---"
   ]
  }
 ],
 "metadata": {
  "kernelspec": {
   "display_name": "Python 3.7 get_data",
   "language": "python",
   "name": "get_data"
  },
  "language_info": {
   "codemirror_mode": {
    "name": "ipython",
    "version": 3
   },
   "file_extension": ".py",
   "mimetype": "text/x-python",
   "name": "python",
   "nbconvert_exporter": "python",
   "pygments_lexer": "ipython3",
   "version": "3.7.12"
  },
  "orig_nbformat": 4
 },
 "nbformat": 4,
 "nbformat_minor": 2
}
