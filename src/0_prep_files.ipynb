{
 "cells": [
  {
   "cell_type": "markdown",
   "metadata": {},
   "source": [
    "# Set-up"
   ]
  },
  {
   "cell_type": "code",
   "execution_count": 27,
   "metadata": {
    "execution": {
     "iopub.execute_input": "2024-07-12T19:32:43.556372Z",
     "iopub.status.busy": "2024-07-12T19:32:43.556158Z",
     "iopub.status.idle": "2024-07-12T19:32:43.558249Z",
     "shell.execute_reply": "2024-07-12T19:32:43.558002Z",
     "shell.execute_reply.started": "2024-07-12T19:32:43.556355Z"
    },
    "tags": []
   },
   "outputs": [],
   "source": [
    "# Imports\n",
    "import os\n",
    "import glob\n",
    "import pandas as pd\n",
    "import numpy as np"
   ]
  },
  {
   "cell_type": "code",
   "execution_count": 28,
   "metadata": {
    "execution": {
     "iopub.execute_input": "2024-07-12T19:32:43.752872Z",
     "iopub.status.busy": "2024-07-12T19:32:43.752632Z",
     "iopub.status.idle": "2024-07-12T19:32:43.754524Z",
     "shell.execute_reply": "2024-07-12T19:32:43.754282Z",
     "shell.execute_reply.started": "2024-07-12T19:32:43.752851Z"
    },
    "tags": []
   },
   "outputs": [],
   "source": [
    "# Paths: TODO\n",
    "path_sample_metadata = \"/path/to/sample_metadata.tsv\"\n",
    "path_out = \"/path/to/output/\""
   ]
  },
  {
   "cell_type": "code",
   "execution_count": 29,
   "metadata": {
    "execution": {
     "iopub.execute_input": "2024-07-12T19:32:44.011101Z",
     "iopub.status.busy": "2024-07-12T19:32:44.010954Z",
     "iopub.status.idle": "2024-07-12T19:32:44.013166Z",
     "shell.execute_reply": "2024-07-12T19:32:44.012881Z",
     "shell.execute_reply.started": "2024-07-12T19:32:44.011083Z"
    },
    "tags": []
   },
   "outputs": [],
   "source": [
    "# make output directory\n",
    "os.makedirs(path_out, exist_ok=True)"
   ]
  },
  {
   "cell_type": "markdown",
   "metadata": {},
   "source": [
    "# Metadata"
   ]
  },
  {
   "cell_type": "code",
   "execution_count": 30,
   "metadata": {
    "execution": {
     "iopub.execute_input": "2024-07-12T19:32:44.556394Z",
     "iopub.status.busy": "2024-07-12T19:32:44.556175Z",
     "iopub.status.idle": "2024-07-12T19:32:44.565758Z",
     "shell.execute_reply": "2024-07-12T19:32:44.565507Z",
     "shell.execute_reply.started": "2024-07-12T19:32:44.556373Z"
    },
    "tags": []
   },
   "outputs": [],
   "source": [
    "df = pd.read_csv(path_sample_metadata, sep=\"\\t\")\n",
    "df.head()"
   ]
  },
  {
   "cell_type": "markdown",
   "metadata": {},
   "source": [
    "# Sample files"
   ]
  },
  {
   "cell_type": "code",
   "execution_count": 32,
   "metadata": {
    "execution": {
     "iopub.execute_input": "2024-07-12T19:40:59.555877Z",
     "iopub.status.busy": "2024-07-12T19:40:59.555670Z",
     "iopub.status.idle": "2024-07-12T19:40:59.572719Z",
     "shell.execute_reply": "2024-07-12T19:40:59.572422Z",
     "shell.execute_reply.started": "2024-07-12T19:40:59.555860Z"
    },
    "tags": []
   },
   "outputs": [],
   "source": [
    "# Get all the directories with fragment files in them\n",
    "processed_dir = \"/path/to/processed_dir/\"\n",
    "input_h5_paths = glob.glob(os.path.join(processed_dir, \"*\", \"outs\", \"raw_feature_bc_matrix.h5\"))\n",
    "input_frag_paths = glob.glob(os.path.join(processed_dir, \"*\", \"outs\", \"atac_fragments.tsv.gz\"))\n",
    "len(input_h5_paths), len(input_frag_paths)"
   ]
  },
  {
   "cell_type": "code",
   "execution_count": 33,
   "metadata": {
    "execution": {
     "iopub.execute_input": "2024-07-12T19:41:00.277252Z",
     "iopub.status.busy": "2024-07-12T19:41:00.277075Z",
     "iopub.status.idle": "2024-07-12T19:41:00.279920Z",
     "shell.execute_reply": "2024-07-12T19:41:00.279650Z",
     "shell.execute_reply.started": "2024-07-12T19:41:00.277237Z"
    },
    "tags": []
   },
   "outputs": [],
   "source": [
    "# Get dict of sample_id to path\n",
    "sample_id_to_h5_path = {}\n",
    "for input_h5_path in input_h5_paths:\n",
    "    sample_id = input_h5_path.split(\"/\")[-3].split(\"_\")[1]\n",
    "    sample_id_to_h5_path[sample_id] = input_h5_path\n",
    "\n",
    "# Get dict of sample_id to path\n",
    "sample_id_to_frag_path = {}\n",
    "for input_frag_path in input_frag_paths:\n",
    "    sample_id = input_frag_path.split(\"/\")[-3].split(\"_\")[1]\n",
    "    sample_id_to_frag_path[sample_id] = input_frag_path"
   ]
  },
  {
   "cell_type": "code",
   "execution_count": 34,
   "metadata": {
    "execution": {
     "iopub.execute_input": "2024-07-12T19:41:01.264824Z",
     "iopub.status.busy": "2024-07-12T19:41:01.264572Z",
     "iopub.status.idle": "2024-07-12T19:41:01.268004Z",
     "shell.execute_reply": "2024-07-12T19:41:01.267709Z",
     "shell.execute_reply.started": "2024-07-12T19:41:01.264803Z"
    },
    "tags": []
   },
   "outputs": [],
   "source": [
    "# h5ad and frag to df\n",
    "df[\"input_h5_path\"] = df[\"sample_id\"].map(sample_id_to_h5_path)\n",
    "df[\"input_frag_path\"] = df[\"sample_id\"].map(sample_id_to_frag_path)"
   ]
  },
  {
   "cell_type": "code",
   "execution_count": 35,
   "metadata": {
    "execution": {
     "iopub.execute_input": "2024-07-12T19:41:10.681522Z",
     "iopub.status.busy": "2024-07-12T19:41:10.681340Z",
     "iopub.status.idle": "2024-07-12T19:41:10.685567Z",
     "shell.execute_reply": "2024-07-12T19:41:10.685268Z",
     "shell.execute_reply.started": "2024-07-12T19:41:10.681503Z"
    },
    "tags": []
   },
   "outputs": [],
   "source": [
    "# Drop nas\n",
    "df_processed = df.dropna(subset=[\"input_h5_path\", \"input_frag_path\"])\n",
    "len(df_processed)"
   ]
  },
  {
   "cell_type": "markdown",
   "metadata": {},
   "source": [
    "# For RNA qc with CellCommander"
   ]
  },
  {
   "cell_type": "code",
   "execution_count": 36,
   "metadata": {
    "execution": {
     "iopub.execute_input": "2024-07-12T19:41:12.128589Z",
     "iopub.status.busy": "2024-07-12T19:41:12.128398Z",
     "iopub.status.idle": "2024-07-12T19:41:12.134863Z",
     "shell.execute_reply": "2024-07-12T19:41:12.134555Z",
     "shell.execute_reply.started": "2024-07-12T19:41:12.128567Z"
    },
    "tags": []
   },
   "outputs": [],
   "source": [
    "# Save the output\n",
    "df_processed[[\"input_h5_path\", \"sample_id\"]].to_csv(os.path.join(path_out, \"1_qc_RNA.tsv\"), sep=\"\\t\", index=False, header=False)"
   ]
  },
  {
   "cell_type": "markdown",
   "metadata": {},
   "source": [
    "# For AMULET"
   ]
  },
  {
   "cell_type": "code",
   "execution_count": 37,
   "metadata": {
    "execution": {
     "iopub.execute_input": "2024-07-12T19:41:14.980357Z",
     "iopub.status.busy": "2024-07-12T19:41:14.980178Z",
     "iopub.status.idle": "2024-07-12T19:41:14.986860Z",
     "shell.execute_reply": "2024-07-12T19:41:14.986560Z",
     "shell.execute_reply.started": "2024-07-12T19:41:14.980340Z"
    },
    "tags": []
   },
   "outputs": [],
   "source": [
    "# Save the output\n",
    "df_processed[[\"input_h5_path\", \"input_frag_path\", \"sample_id\"]].to_csv(os.path.join(path_out, \"2_AMULET.tsv\"), sep=\"\\t\", index=False, header=False)"
   ]
  },
  {
   "cell_type": "markdown",
   "metadata": {},
   "source": [
    "# For ATAC qc with SnapATAC2"
   ]
  },
  {
   "cell_type": "code",
   "execution_count": 38,
   "metadata": {
    "execution": {
     "iopub.execute_input": "2024-07-12T19:41:15.879602Z",
     "iopub.status.busy": "2024-07-12T19:41:15.879400Z",
     "iopub.status.idle": "2024-07-12T19:41:15.885768Z",
     "shell.execute_reply": "2024-07-12T19:41:15.885515Z",
     "shell.execute_reply.started": "2024-07-12T19:41:15.879583Z"
    },
    "tags": []
   },
   "outputs": [],
   "source": [
    "# Save the output\n",
    "df_processed[[\"input_frag_path\", \"sample_id\"]].to_csv(os.path.join(path_out, \"4_qc_ATAC.tsv\"), sep=\"\\t\", index=False, header=False)"
   ]
  },
  {
   "cell_type": "markdown",
   "metadata": {},
   "source": [
    "# DONE!"
   ]
  },
  {
   "cell_type": "markdown",
   "metadata": {},
   "source": [
    "---"
   ]
  }
 ],
 "metadata": {
  "kernelspec": {
   "display_name": "Python 3.7 get_data",
   "language": "python",
   "name": "get_data"
  }
 },
 "nbformat": 4,
 "nbformat_minor": 4
}
