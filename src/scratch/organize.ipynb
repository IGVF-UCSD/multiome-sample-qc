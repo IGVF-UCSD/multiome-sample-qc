{
 "cells": [
  {
   "cell_type": "code",
   "execution_count": 1,
   "metadata": {},
   "outputs": [
    {
     "name": "stdout",
     "output_type": "stream",
     "text": [
      "The history saving thread hit an unexpected error (DatabaseError('database disk image is malformed')).History will not be written to the database.\n"
     ]
    }
   ],
   "source": [
    "import os\n",
    "import glob\n",
    "import pandas as pd"
   ]
  },
  {
   "cell_type": "code",
   "execution_count": 2,
   "metadata": {},
   "outputs": [],
   "source": [
    "in_dir = \"/cellar/users/aklie/data/datasets/igvf_sc-islet_10X-Multiome/results/sample_annotation\""
   ]
  },
  {
   "cell_type": "markdown",
   "metadata": {},
   "source": [
    "# RNA"
   ]
  },
  {
   "cell_type": "code",
   "execution_count": 5,
   "metadata": {},
   "outputs": [
    {
     "data": {
      "text/plain": [
       "38"
      ]
     },
     "execution_count": 5,
     "metadata": {},
     "output_type": "execute_result"
    }
   ],
   "source": [
    "# Find all rna dirs within in_dir recursively\n",
    "rna_dirs = sorted(glob.glob(os.path.join(in_dir, \"**/rna\"), recursive=True))\n",
    "len(rna_dirs)"
   ]
  },
  {
   "cell_type": "code",
   "execution_count": 16,
   "metadata": {},
   "outputs": [
    {
     "name": "stdout",
     "output_type": "stream",
     "text": [
      "mv /cellar/users/aklie/data/datasets/igvf_sc-islet_10X-Multiome/results/sample_annotation/0-2/cellcommander/rna /cellar/users/aklie/data/datasets/igvf_sc-islet_10X-Multiome/results/sample_annotation/0-2\n",
      "mv /cellar/users/aklie/data/datasets/igvf_sc-islet_10X-Multiome/results/sample_annotation/11-1/cellcommander/rna /cellar/users/aklie/data/datasets/igvf_sc-islet_10X-Multiome/results/sample_annotation/11-1\n",
      "mv /cellar/users/aklie/data/datasets/igvf_sc-islet_10X-Multiome/results/sample_annotation/12-1/cellcommander/rna /cellar/users/aklie/data/datasets/igvf_sc-islet_10X-Multiome/results/sample_annotation/12-1\n",
      "mv /cellar/users/aklie/data/datasets/igvf_sc-islet_10X-Multiome/results/sample_annotation/14-2/cellcommander/rna /cellar/users/aklie/data/datasets/igvf_sc-islet_10X-Multiome/results/sample_annotation/14-2\n",
      "mv /cellar/users/aklie/data/datasets/igvf_sc-islet_10X-Multiome/results/sample_annotation/21-1/cellcommander/rna /cellar/users/aklie/data/datasets/igvf_sc-islet_10X-Multiome/results/sample_annotation/21-1\n",
      "mv /cellar/users/aklie/data/datasets/igvf_sc-islet_10X-Multiome/results/sample_annotation/22-2/cellcommander/rna /cellar/users/aklie/data/datasets/igvf_sc-islet_10X-Multiome/results/sample_annotation/22-2\n",
      "mv /cellar/users/aklie/data/datasets/igvf_sc-islet_10X-Multiome/results/sample_annotation/23-1/cellcommander/rna /cellar/users/aklie/data/datasets/igvf_sc-islet_10X-Multiome/results/sample_annotation/23-1\n",
      "mv /cellar/users/aklie/data/datasets/igvf_sc-islet_10X-Multiome/results/sample_annotation/25-1/cellcommander/rna /cellar/users/aklie/data/datasets/igvf_sc-islet_10X-Multiome/results/sample_annotation/25-1\n",
      "mv /cellar/users/aklie/data/datasets/igvf_sc-islet_10X-Multiome/results/sample_annotation/32-1/cellcommander/rna /cellar/users/aklie/data/datasets/igvf_sc-islet_10X-Multiome/results/sample_annotation/32-1\n",
      "mv /cellar/users/aklie/data/datasets/igvf_sc-islet_10X-Multiome/results/sample_annotation/34-2/cellcommander/rna /cellar/users/aklie/data/datasets/igvf_sc-islet_10X-Multiome/results/sample_annotation/34-2\n",
      "mv /cellar/users/aklie/data/datasets/igvf_sc-islet_10X-Multiome/results/sample_annotation/44-2/cellcommander/rna /cellar/users/aklie/data/datasets/igvf_sc-islet_10X-Multiome/results/sample_annotation/44-2\n",
      "mv /cellar/users/aklie/data/datasets/igvf_sc-islet_10X-Multiome/results/sample_annotation/dm0b/cellcommander/rna /cellar/users/aklie/data/datasets/igvf_sc-islet_10X-Multiome/results/sample_annotation/dm0b\n",
      "mv /cellar/users/aklie/data/datasets/igvf_sc-islet_10X-Multiome/results/sample_annotation/dm11a/cellcommander/rna /cellar/users/aklie/data/datasets/igvf_sc-islet_10X-Multiome/results/sample_annotation/dm11a\n",
      "mv /cellar/users/aklie/data/datasets/igvf_sc-islet_10X-Multiome/results/sample_annotation/dm12b/cellcommander/rna /cellar/users/aklie/data/datasets/igvf_sc-islet_10X-Multiome/results/sample_annotation/dm12b\n",
      "mv /cellar/users/aklie/data/datasets/igvf_sc-islet_10X-Multiome/results/sample_annotation/dm14b/cellcommander/rna /cellar/users/aklie/data/datasets/igvf_sc-islet_10X-Multiome/results/sample_annotation/dm14b\n",
      "mv /cellar/users/aklie/data/datasets/igvf_sc-islet_10X-Multiome/results/sample_annotation/dm21a/cellcommander/rna /cellar/users/aklie/data/datasets/igvf_sc-islet_10X-Multiome/results/sample_annotation/dm21a\n",
      "mv /cellar/users/aklie/data/datasets/igvf_sc-islet_10X-Multiome/results/sample_annotation/dm23a/cellcommander/rna /cellar/users/aklie/data/datasets/igvf_sc-islet_10X-Multiome/results/sample_annotation/dm23a\n",
      "mv /cellar/users/aklie/data/datasets/igvf_sc-islet_10X-Multiome/results/sample_annotation/dm24a/cellcommander/rna /cellar/users/aklie/data/datasets/igvf_sc-islet_10X-Multiome/results/sample_annotation/dm24a\n",
      "mv /cellar/users/aklie/data/datasets/igvf_sc-islet_10X-Multiome/results/sample_annotation/dm25a/cellcommander/rna /cellar/users/aklie/data/datasets/igvf_sc-islet_10X-Multiome/results/sample_annotation/dm25a\n",
      "mv /cellar/users/aklie/data/datasets/igvf_sc-islet_10X-Multiome/results/sample_annotation/dm31a/cellcommander/rna /cellar/users/aklie/data/datasets/igvf_sc-islet_10X-Multiome/results/sample_annotation/dm31a\n",
      "mv /cellar/users/aklie/data/datasets/igvf_sc-islet_10X-Multiome/results/sample_annotation/dm32a/cellcommander/rna /cellar/users/aklie/data/datasets/igvf_sc-islet_10X-Multiome/results/sample_annotation/dm32a\n",
      "mv /cellar/users/aklie/data/datasets/igvf_sc-islet_10X-Multiome/results/sample_annotation/dm33a/cellcommander/rna /cellar/users/aklie/data/datasets/igvf_sc-islet_10X-Multiome/results/sample_annotation/dm33a\n",
      "mv /cellar/users/aklie/data/datasets/igvf_sc-islet_10X-Multiome/results/sample_annotation/dm34a/cellcommander/rna /cellar/users/aklie/data/datasets/igvf_sc-islet_10X-Multiome/results/sample_annotation/dm34a\n",
      "mv /cellar/users/aklie/data/datasets/igvf_sc-islet_10X-Multiome/results/sample_annotation/dm35a/cellcommander/rna /cellar/users/aklie/data/datasets/igvf_sc-islet_10X-Multiome/results/sample_annotation/dm35a\n",
      "mv /cellar/users/aklie/data/datasets/igvf_sc-islet_10X-Multiome/results/sample_annotation/dm42b/cellcommander/rna /cellar/users/aklie/data/datasets/igvf_sc-islet_10X-Multiome/results/sample_annotation/dm42b\n",
      "mv /cellar/users/aklie/data/datasets/igvf_sc-islet_10X-Multiome/results/sample_annotation/dm43b/cellcommander/rna /cellar/users/aklie/data/datasets/igvf_sc-islet_10X-Multiome/results/sample_annotation/dm43b\n",
      "mv /cellar/users/aklie/data/datasets/igvf_sc-islet_10X-Multiome/results/sample_annotation/dm44a/cellcommander/rna /cellar/users/aklie/data/datasets/igvf_sc-islet_10X-Multiome/results/sample_annotation/dm44a\n",
      "mv /cellar/users/aklie/data/datasets/igvf_sc-islet_10X-Multiome/results/sample_annotation/dm45a/cellcommander/rna /cellar/users/aklie/data/datasets/igvf_sc-islet_10X-Multiome/results/sample_annotation/dm45a\n",
      "mv /cellar/users/aklie/data/datasets/igvf_sc-islet_10X-Multiome/results/sample_annotation/mo1/cellcommander/rna /cellar/users/aklie/data/datasets/igvf_sc-islet_10X-Multiome/results/sample_annotation/mo1\n",
      "mv /cellar/users/aklie/data/datasets/igvf_sc-islet_10X-Multiome/results/sample_annotation/mo14/cellcommander/rna /cellar/users/aklie/data/datasets/igvf_sc-islet_10X-Multiome/results/sample_annotation/mo14\n",
      "mv /cellar/users/aklie/data/datasets/igvf_sc-islet_10X-Multiome/results/sample_annotation/mo18/cellcommander/rna /cellar/users/aklie/data/datasets/igvf_sc-islet_10X-Multiome/results/sample_annotation/mo18\n",
      "mv /cellar/users/aklie/data/datasets/igvf_sc-islet_10X-Multiome/results/sample_annotation/mo22/cellcommander/rna /cellar/users/aklie/data/datasets/igvf_sc-islet_10X-Multiome/results/sample_annotation/mo22\n",
      "mv /cellar/users/aklie/data/datasets/igvf_sc-islet_10X-Multiome/results/sample_annotation/mo26/cellcommander/rna /cellar/users/aklie/data/datasets/igvf_sc-islet_10X-Multiome/results/sample_annotation/mo26\n",
      "mv /cellar/users/aklie/data/datasets/igvf_sc-islet_10X-Multiome/results/sample_annotation/mo29/cellcommander/rna /cellar/users/aklie/data/datasets/igvf_sc-islet_10X-Multiome/results/sample_annotation/mo29\n",
      "mv /cellar/users/aklie/data/datasets/igvf_sc-islet_10X-Multiome/results/sample_annotation/mo3/cellcommander/rna /cellar/users/aklie/data/datasets/igvf_sc-islet_10X-Multiome/results/sample_annotation/mo3\n",
      "mv /cellar/users/aklie/data/datasets/igvf_sc-islet_10X-Multiome/results/sample_annotation/mo33/cellcommander/rna /cellar/users/aklie/data/datasets/igvf_sc-islet_10X-Multiome/results/sample_annotation/mo33\n",
      "mv /cellar/users/aklie/data/datasets/igvf_sc-islet_10X-Multiome/results/sample_annotation/mo38/cellcommander/rna /cellar/users/aklie/data/datasets/igvf_sc-islet_10X-Multiome/results/sample_annotation/mo38\n",
      "mv /cellar/users/aklie/data/datasets/igvf_sc-islet_10X-Multiome/results/sample_annotation/mo9/cellcommander/rna /cellar/users/aklie/data/datasets/igvf_sc-islet_10X-Multiome/results/sample_annotation/mo9\n",
      "mv /cellar/users/aklie/data/datasets/igvf_sc-islet_10X-Multiome/results/sample_annotation/mo29/cellcommander/rna /cellar/users/aklie/data/datasets/igvf_sc-islet_10X-Multiome/results/sample_annotation/mo29\n",
      "mv /cellar/users/aklie/data/datasets/igvf_sc-islet_10X-Multiome/results/sample_annotation/mo3/cellcommander/rna /cellar/users/aklie/data/datasets/igvf_sc-islet_10X-Multiome/results/sample_annotation/mo3\n",
      "mv /cellar/users/aklie/data/datasets/igvf_sc-islet_10X-Multiome/results/sample_annotation/mo33/cellcommander/rna /cellar/users/aklie/data/datasets/igvf_sc-islet_10X-Multiome/results/sample_annotation/mo33\n",
      "mv /cellar/users/aklie/data/datasets/igvf_sc-islet_10X-Multiome/results/sample_annotation/mo38/cellcommander/rna /cellar/users/aklie/data/datasets/igvf_sc-islet_10X-Multiome/results/sample_annotation/mo38\n",
      "mv /cellar/users/aklie/data/datasets/igvf_sc-islet_10X-Multiome/results/sample_annotation/mo9/cellcommander/rna /cellar/users/aklie/data/datasets/igvf_sc-islet_10X-Multiome/results/sample_annotation/mo9\n"
     ]
    }
   ],
   "source": [
    "# Move all the rna dirs to outdirs two directories up\n",
    "for rna_dir in rna_dirs:\n",
    "    outdir = os.path.dirname(os.path.dirname(rna_dir))\n",
    "    cmd = f\"mv {rna_dir} {outdir}\"\n",
    "    print(cmd)\n",
    "    #os.system(cmd)"
   ]
  },
  {
   "cell_type": "markdown",
   "metadata": {},
   "source": [
    "# ATAC"
   ]
  },
  {
   "cell_type": "markdown",
   "metadata": {},
   "source": []
  },
  {
   "cell_type": "code",
   "execution_count": 17,
   "metadata": {},
   "outputs": [
    {
     "data": {
      "text/plain": [
       "38"
      ]
     },
     "execution_count": 17,
     "metadata": {},
     "output_type": "execute_result"
    }
   ],
   "source": [
    "snapatac2_dirs = sorted(glob.glob(os.path.join(in_dir, \"**/snapatac2\"), recursive=True))\n",
    "len(snapatac2_dirs)"
   ]
  },
  {
   "cell_type": "code",
   "execution_count": 20,
   "metadata": {},
   "outputs": [
    {
     "name": "stdout",
     "output_type": "stream",
     "text": [
      "mv /cellar/users/aklie/data/datasets/igvf_sc-islet_10X-Multiome/results/sample_annotation/0-2/snapatac2 /cellar/users/aklie/data/datasets/igvf_sc-islet_10X-Multiome/results/sample_annotation/0-2/atac\n",
      "mv /cellar/users/aklie/data/datasets/igvf_sc-islet_10X-Multiome/results/sample_annotation/11-1/snapatac2 /cellar/users/aklie/data/datasets/igvf_sc-islet_10X-Multiome/results/sample_annotation/11-1/atac\n",
      "mv /cellar/users/aklie/data/datasets/igvf_sc-islet_10X-Multiome/results/sample_annotation/12-1/snapatac2 /cellar/users/aklie/data/datasets/igvf_sc-islet_10X-Multiome/results/sample_annotation/12-1/atac\n",
      "mv /cellar/users/aklie/data/datasets/igvf_sc-islet_10X-Multiome/results/sample_annotation/14-2/snapatac2 /cellar/users/aklie/data/datasets/igvf_sc-islet_10X-Multiome/results/sample_annotation/14-2/atac\n",
      "mv /cellar/users/aklie/data/datasets/igvf_sc-islet_10X-Multiome/results/sample_annotation/21-1/snapatac2 /cellar/users/aklie/data/datasets/igvf_sc-islet_10X-Multiome/results/sample_annotation/21-1/atac\n",
      "mv /cellar/users/aklie/data/datasets/igvf_sc-islet_10X-Multiome/results/sample_annotation/22-2/snapatac2 /cellar/users/aklie/data/datasets/igvf_sc-islet_10X-Multiome/results/sample_annotation/22-2/atac\n",
      "mv /cellar/users/aklie/data/datasets/igvf_sc-islet_10X-Multiome/results/sample_annotation/23-1/snapatac2 /cellar/users/aklie/data/datasets/igvf_sc-islet_10X-Multiome/results/sample_annotation/23-1/atac\n",
      "mv /cellar/users/aklie/data/datasets/igvf_sc-islet_10X-Multiome/results/sample_annotation/25-1/snapatac2 /cellar/users/aklie/data/datasets/igvf_sc-islet_10X-Multiome/results/sample_annotation/25-1/atac\n",
      "mv /cellar/users/aklie/data/datasets/igvf_sc-islet_10X-Multiome/results/sample_annotation/32-1/snapatac2 /cellar/users/aklie/data/datasets/igvf_sc-islet_10X-Multiome/results/sample_annotation/32-1/atac\n",
      "mv /cellar/users/aklie/data/datasets/igvf_sc-islet_10X-Multiome/results/sample_annotation/34-2/snapatac2 /cellar/users/aklie/data/datasets/igvf_sc-islet_10X-Multiome/results/sample_annotation/34-2/atac\n",
      "mv /cellar/users/aklie/data/datasets/igvf_sc-islet_10X-Multiome/results/sample_annotation/44-2/snapatac2 /cellar/users/aklie/data/datasets/igvf_sc-islet_10X-Multiome/results/sample_annotation/44-2/atac\n",
      "mv /cellar/users/aklie/data/datasets/igvf_sc-islet_10X-Multiome/results/sample_annotation/dm0b/snapatac2 /cellar/users/aklie/data/datasets/igvf_sc-islet_10X-Multiome/results/sample_annotation/dm0b/atac\n",
      "mv /cellar/users/aklie/data/datasets/igvf_sc-islet_10X-Multiome/results/sample_annotation/dm11a/snapatac2 /cellar/users/aklie/data/datasets/igvf_sc-islet_10X-Multiome/results/sample_annotation/dm11a/atac\n",
      "mv /cellar/users/aklie/data/datasets/igvf_sc-islet_10X-Multiome/results/sample_annotation/dm12b/snapatac2 /cellar/users/aklie/data/datasets/igvf_sc-islet_10X-Multiome/results/sample_annotation/dm12b/atac\n",
      "mv /cellar/users/aklie/data/datasets/igvf_sc-islet_10X-Multiome/results/sample_annotation/dm14b/snapatac2 /cellar/users/aklie/data/datasets/igvf_sc-islet_10X-Multiome/results/sample_annotation/dm14b/atac\n",
      "mv /cellar/users/aklie/data/datasets/igvf_sc-islet_10X-Multiome/results/sample_annotation/dm21a/snapatac2 /cellar/users/aklie/data/datasets/igvf_sc-islet_10X-Multiome/results/sample_annotation/dm21a/atac\n",
      "mv /cellar/users/aklie/data/datasets/igvf_sc-islet_10X-Multiome/results/sample_annotation/dm23a/snapatac2 /cellar/users/aklie/data/datasets/igvf_sc-islet_10X-Multiome/results/sample_annotation/dm23a/atac\n",
      "mv /cellar/users/aklie/data/datasets/igvf_sc-islet_10X-Multiome/results/sample_annotation/dm24a/snapatac2 /cellar/users/aklie/data/datasets/igvf_sc-islet_10X-Multiome/results/sample_annotation/dm24a/atac\n",
      "mv /cellar/users/aklie/data/datasets/igvf_sc-islet_10X-Multiome/results/sample_annotation/dm25a/snapatac2 /cellar/users/aklie/data/datasets/igvf_sc-islet_10X-Multiome/results/sample_annotation/dm25a/atac\n",
      "mv /cellar/users/aklie/data/datasets/igvf_sc-islet_10X-Multiome/results/sample_annotation/dm31a/snapatac2 /cellar/users/aklie/data/datasets/igvf_sc-islet_10X-Multiome/results/sample_annotation/dm31a/atac\n",
      "mv /cellar/users/aklie/data/datasets/igvf_sc-islet_10X-Multiome/results/sample_annotation/dm32a/snapatac2 /cellar/users/aklie/data/datasets/igvf_sc-islet_10X-Multiome/results/sample_annotation/dm32a/atac\n",
      "mv /cellar/users/aklie/data/datasets/igvf_sc-islet_10X-Multiome/results/sample_annotation/dm33a/snapatac2 /cellar/users/aklie/data/datasets/igvf_sc-islet_10X-Multiome/results/sample_annotation/dm33a/atac\n",
      "mv /cellar/users/aklie/data/datasets/igvf_sc-islet_10X-Multiome/results/sample_annotation/dm34a/snapatac2 /cellar/users/aklie/data/datasets/igvf_sc-islet_10X-Multiome/results/sample_annotation/dm34a/atac\n",
      "mv /cellar/users/aklie/data/datasets/igvf_sc-islet_10X-Multiome/results/sample_annotation/dm35a/snapatac2 /cellar/users/aklie/data/datasets/igvf_sc-islet_10X-Multiome/results/sample_annotation/dm35a/atac\n",
      "mv /cellar/users/aklie/data/datasets/igvf_sc-islet_10X-Multiome/results/sample_annotation/dm42b/snapatac2 /cellar/users/aklie/data/datasets/igvf_sc-islet_10X-Multiome/results/sample_annotation/dm42b/atac\n",
      "mv /cellar/users/aklie/data/datasets/igvf_sc-islet_10X-Multiome/results/sample_annotation/dm43b/snapatac2 /cellar/users/aklie/data/datasets/igvf_sc-islet_10X-Multiome/results/sample_annotation/dm43b/atac\n",
      "mv /cellar/users/aklie/data/datasets/igvf_sc-islet_10X-Multiome/results/sample_annotation/dm44a/snapatac2 /cellar/users/aklie/data/datasets/igvf_sc-islet_10X-Multiome/results/sample_annotation/dm44a/atac\n",
      "mv /cellar/users/aklie/data/datasets/igvf_sc-islet_10X-Multiome/results/sample_annotation/dm45a/snapatac2 /cellar/users/aklie/data/datasets/igvf_sc-islet_10X-Multiome/results/sample_annotation/dm45a/atac\n",
      "mv /cellar/users/aklie/data/datasets/igvf_sc-islet_10X-Multiome/results/sample_annotation/mo1/snapatac2 /cellar/users/aklie/data/datasets/igvf_sc-islet_10X-Multiome/results/sample_annotation/mo1/atac\n",
      "mv /cellar/users/aklie/data/datasets/igvf_sc-islet_10X-Multiome/results/sample_annotation/mo14/snapatac2 /cellar/users/aklie/data/datasets/igvf_sc-islet_10X-Multiome/results/sample_annotation/mo14/atac\n",
      "mv /cellar/users/aklie/data/datasets/igvf_sc-islet_10X-Multiome/results/sample_annotation/mo18/snapatac2 /cellar/users/aklie/data/datasets/igvf_sc-islet_10X-Multiome/results/sample_annotation/mo18/atac\n",
      "mv /cellar/users/aklie/data/datasets/igvf_sc-islet_10X-Multiome/results/sample_annotation/mo22/snapatac2 /cellar/users/aklie/data/datasets/igvf_sc-islet_10X-Multiome/results/sample_annotation/mo22/atac\n",
      "mv /cellar/users/aklie/data/datasets/igvf_sc-islet_10X-Multiome/results/sample_annotation/mo26/snapatac2 /cellar/users/aklie/data/datasets/igvf_sc-islet_10X-Multiome/results/sample_annotation/mo26/atac\n",
      "mv /cellar/users/aklie/data/datasets/igvf_sc-islet_10X-Multiome/results/sample_annotation/mo29/snapatac2 /cellar/users/aklie/data/datasets/igvf_sc-islet_10X-Multiome/results/sample_annotation/mo29/atac\n",
      "mv /cellar/users/aklie/data/datasets/igvf_sc-islet_10X-Multiome/results/sample_annotation/mo3/snapatac2 /cellar/users/aklie/data/datasets/igvf_sc-islet_10X-Multiome/results/sample_annotation/mo3/atac\n",
      "mv /cellar/users/aklie/data/datasets/igvf_sc-islet_10X-Multiome/results/sample_annotation/mo33/snapatac2 /cellar/users/aklie/data/datasets/igvf_sc-islet_10X-Multiome/results/sample_annotation/mo33/atac\n",
      "mv /cellar/users/aklie/data/datasets/igvf_sc-islet_10X-Multiome/results/sample_annotation/mo38/snapatac2 /cellar/users/aklie/data/datasets/igvf_sc-islet_10X-Multiome/results/sample_annotation/mo38/atac\n",
      "mv /cellar/users/aklie/data/datasets/igvf_sc-islet_10X-Multiome/results/sample_annotation/mo9/snapatac2 /cellar/users/aklie/data/datasets/igvf_sc-islet_10X-Multiome/results/sample_annotation/mo9/atac\n"
     ]
    }
   ],
   "source": [
    "# Rename to atac\n",
    "for snapatac2_dir in snapatac2_dirs:\n",
    "    atac_dir = snapatac2_dir.replace(\"snapatac2\", \"atac\")\n",
    "    cmd = f\"mv {snapatac2_dir} {atac_dir}\"\n",
    "    print(cmd)\n",
    "    #os.system(cmd)"
   ]
  },
  {
   "cell_type": "code",
   "execution_count": 21,
   "metadata": {},
   "outputs": [
    {
     "data": {
      "text/plain": [
       "38"
      ]
     },
     "execution_count": 21,
     "metadata": {},
     "output_type": "execute_result"
    }
   ],
   "source": [
    "amulet_dirs = sorted(glob.glob(os.path.join(in_dir, \"**/amulet\"), recursive=True))\n",
    "len(amulet_dirs)"
   ]
  },
  {
   "cell_type": "code",
   "execution_count": 24,
   "metadata": {},
   "outputs": [
    {
     "name": "stdout",
     "output_type": "stream",
     "text": [
      "mv /cellar/users/aklie/data/datasets/igvf_sc-islet_10X-Multiome/results/sample_annotation/0-2/cellcommander/atac/amulet /cellar/users/aklie/data/datasets/igvf_sc-islet_10X-Multiome/results/sample_annotation/0-2/atac\n",
      "mv /cellar/users/aklie/data/datasets/igvf_sc-islet_10X-Multiome/results/sample_annotation/11-1/cellcommander/atac/amulet /cellar/users/aklie/data/datasets/igvf_sc-islet_10X-Multiome/results/sample_annotation/11-1/atac\n",
      "mv /cellar/users/aklie/data/datasets/igvf_sc-islet_10X-Multiome/results/sample_annotation/12-1/cellcommander/atac/amulet /cellar/users/aklie/data/datasets/igvf_sc-islet_10X-Multiome/results/sample_annotation/12-1/atac\n",
      "mv /cellar/users/aklie/data/datasets/igvf_sc-islet_10X-Multiome/results/sample_annotation/14-2/cellcommander/atac/amulet /cellar/users/aklie/data/datasets/igvf_sc-islet_10X-Multiome/results/sample_annotation/14-2/atac\n",
      "mv /cellar/users/aklie/data/datasets/igvf_sc-islet_10X-Multiome/results/sample_annotation/21-1/cellcommander/atac/amulet /cellar/users/aklie/data/datasets/igvf_sc-islet_10X-Multiome/results/sample_annotation/21-1/atac\n",
      "mv /cellar/users/aklie/data/datasets/igvf_sc-islet_10X-Multiome/results/sample_annotation/22-2/cellcommander/atac/amulet /cellar/users/aklie/data/datasets/igvf_sc-islet_10X-Multiome/results/sample_annotation/22-2/atac\n",
      "mv /cellar/users/aklie/data/datasets/igvf_sc-islet_10X-Multiome/results/sample_annotation/23-1/cellcommander/atac/amulet /cellar/users/aklie/data/datasets/igvf_sc-islet_10X-Multiome/results/sample_annotation/23-1/atac\n",
      "mv /cellar/users/aklie/data/datasets/igvf_sc-islet_10X-Multiome/results/sample_annotation/25-1/cellcommander/atac/amulet /cellar/users/aklie/data/datasets/igvf_sc-islet_10X-Multiome/results/sample_annotation/25-1/atac\n",
      "mv /cellar/users/aklie/data/datasets/igvf_sc-islet_10X-Multiome/results/sample_annotation/32-1/cellcommander/atac/amulet /cellar/users/aklie/data/datasets/igvf_sc-islet_10X-Multiome/results/sample_annotation/32-1/atac\n",
      "mv /cellar/users/aklie/data/datasets/igvf_sc-islet_10X-Multiome/results/sample_annotation/34-2/cellcommander/atac/amulet /cellar/users/aklie/data/datasets/igvf_sc-islet_10X-Multiome/results/sample_annotation/34-2/atac\n",
      "mv /cellar/users/aklie/data/datasets/igvf_sc-islet_10X-Multiome/results/sample_annotation/44-2/cellcommander/atac/amulet /cellar/users/aklie/data/datasets/igvf_sc-islet_10X-Multiome/results/sample_annotation/44-2/atac\n",
      "mv /cellar/users/aklie/data/datasets/igvf_sc-islet_10X-Multiome/results/sample_annotation/dm0b/cellcommander/atac/amulet /cellar/users/aklie/data/datasets/igvf_sc-islet_10X-Multiome/results/sample_annotation/dm0b/atac\n",
      "mv /cellar/users/aklie/data/datasets/igvf_sc-islet_10X-Multiome/results/sample_annotation/dm11a/cellcommander/atac/amulet /cellar/users/aklie/data/datasets/igvf_sc-islet_10X-Multiome/results/sample_annotation/dm11a/atac\n",
      "mv /cellar/users/aklie/data/datasets/igvf_sc-islet_10X-Multiome/results/sample_annotation/dm12b/cellcommander/atac/amulet /cellar/users/aklie/data/datasets/igvf_sc-islet_10X-Multiome/results/sample_annotation/dm12b/atac\n",
      "mv /cellar/users/aklie/data/datasets/igvf_sc-islet_10X-Multiome/results/sample_annotation/dm14b/cellcommander/atac/amulet /cellar/users/aklie/data/datasets/igvf_sc-islet_10X-Multiome/results/sample_annotation/dm14b/atac\n",
      "mv /cellar/users/aklie/data/datasets/igvf_sc-islet_10X-Multiome/results/sample_annotation/dm21a/cellcommander/atac/amulet /cellar/users/aklie/data/datasets/igvf_sc-islet_10X-Multiome/results/sample_annotation/dm21a/atac\n",
      "mv /cellar/users/aklie/data/datasets/igvf_sc-islet_10X-Multiome/results/sample_annotation/dm23a/cellcommander/atac/amulet /cellar/users/aklie/data/datasets/igvf_sc-islet_10X-Multiome/results/sample_annotation/dm23a/atac\n",
      "mv /cellar/users/aklie/data/datasets/igvf_sc-islet_10X-Multiome/results/sample_annotation/dm24a/cellcommander/atac/amulet /cellar/users/aklie/data/datasets/igvf_sc-islet_10X-Multiome/results/sample_annotation/dm24a/atac\n",
      "mv /cellar/users/aklie/data/datasets/igvf_sc-islet_10X-Multiome/results/sample_annotation/dm25a/cellcommander/atac/amulet /cellar/users/aklie/data/datasets/igvf_sc-islet_10X-Multiome/results/sample_annotation/dm25a/atac\n",
      "mv /cellar/users/aklie/data/datasets/igvf_sc-islet_10X-Multiome/results/sample_annotation/dm31a/cellcommander/atac/amulet /cellar/users/aklie/data/datasets/igvf_sc-islet_10X-Multiome/results/sample_annotation/dm31a/atac\n",
      "mv /cellar/users/aklie/data/datasets/igvf_sc-islet_10X-Multiome/results/sample_annotation/dm32a/cellcommander/atac/amulet /cellar/users/aklie/data/datasets/igvf_sc-islet_10X-Multiome/results/sample_annotation/dm32a/atac\n",
      "mv /cellar/users/aklie/data/datasets/igvf_sc-islet_10X-Multiome/results/sample_annotation/dm33a/cellcommander/atac/amulet /cellar/users/aklie/data/datasets/igvf_sc-islet_10X-Multiome/results/sample_annotation/dm33a/atac\n",
      "mv /cellar/users/aklie/data/datasets/igvf_sc-islet_10X-Multiome/results/sample_annotation/dm34a/cellcommander/atac/amulet /cellar/users/aklie/data/datasets/igvf_sc-islet_10X-Multiome/results/sample_annotation/dm34a/atac\n",
      "mv /cellar/users/aklie/data/datasets/igvf_sc-islet_10X-Multiome/results/sample_annotation/dm35a/cellcommander/atac/amulet /cellar/users/aklie/data/datasets/igvf_sc-islet_10X-Multiome/results/sample_annotation/dm35a/atac\n",
      "mv /cellar/users/aklie/data/datasets/igvf_sc-islet_10X-Multiome/results/sample_annotation/dm42b/cellcommander/atac/amulet /cellar/users/aklie/data/datasets/igvf_sc-islet_10X-Multiome/results/sample_annotation/dm42b/atac\n",
      "mv /cellar/users/aklie/data/datasets/igvf_sc-islet_10X-Multiome/results/sample_annotation/dm43b/cellcommander/atac/amulet /cellar/users/aklie/data/datasets/igvf_sc-islet_10X-Multiome/results/sample_annotation/dm43b/atac\n",
      "mv /cellar/users/aklie/data/datasets/igvf_sc-islet_10X-Multiome/results/sample_annotation/dm44a/cellcommander/atac/amulet /cellar/users/aklie/data/datasets/igvf_sc-islet_10X-Multiome/results/sample_annotation/dm44a/atac\n",
      "mv /cellar/users/aklie/data/datasets/igvf_sc-islet_10X-Multiome/results/sample_annotation/dm45a/cellcommander/atac/amulet /cellar/users/aklie/data/datasets/igvf_sc-islet_10X-Multiome/results/sample_annotation/dm45a/atac\n",
      "mv /cellar/users/aklie/data/datasets/igvf_sc-islet_10X-Multiome/results/sample_annotation/mo1/cellcommander/atac/amulet /cellar/users/aklie/data/datasets/igvf_sc-islet_10X-Multiome/results/sample_annotation/mo1/atac\n",
      "mv /cellar/users/aklie/data/datasets/igvf_sc-islet_10X-Multiome/results/sample_annotation/mo14/cellcommander/atac/amulet /cellar/users/aklie/data/datasets/igvf_sc-islet_10X-Multiome/results/sample_annotation/mo14/atac\n",
      "mv /cellar/users/aklie/data/datasets/igvf_sc-islet_10X-Multiome/results/sample_annotation/mo18/cellcommander/atac/amulet /cellar/users/aklie/data/datasets/igvf_sc-islet_10X-Multiome/results/sample_annotation/mo18/atac\n",
      "mv /cellar/users/aklie/data/datasets/igvf_sc-islet_10X-Multiome/results/sample_annotation/mo22/cellcommander/atac/amulet /cellar/users/aklie/data/datasets/igvf_sc-islet_10X-Multiome/results/sample_annotation/mo22/atac\n",
      "mv /cellar/users/aklie/data/datasets/igvf_sc-islet_10X-Multiome/results/sample_annotation/mo26/cellcommander/atac/amulet /cellar/users/aklie/data/datasets/igvf_sc-islet_10X-Multiome/results/sample_annotation/mo26/atac\n",
      "mv /cellar/users/aklie/data/datasets/igvf_sc-islet_10X-Multiome/results/sample_annotation/mo29/cellcommander/atac/amulet /cellar/users/aklie/data/datasets/igvf_sc-islet_10X-Multiome/results/sample_annotation/mo29/atac\n",
      "mv /cellar/users/aklie/data/datasets/igvf_sc-islet_10X-Multiome/results/sample_annotation/mo3/cellcommander/atac/amulet /cellar/users/aklie/data/datasets/igvf_sc-islet_10X-Multiome/results/sample_annotation/mo3/atac\n",
      "mv /cellar/users/aklie/data/datasets/igvf_sc-islet_10X-Multiome/results/sample_annotation/mo33/cellcommander/atac/amulet /cellar/users/aklie/data/datasets/igvf_sc-islet_10X-Multiome/results/sample_annotation/mo33/atac\n",
      "mv /cellar/users/aklie/data/datasets/igvf_sc-islet_10X-Multiome/results/sample_annotation/mo38/cellcommander/atac/amulet /cellar/users/aklie/data/datasets/igvf_sc-islet_10X-Multiome/results/sample_annotation/mo38/atac\n",
      "mv /cellar/users/aklie/data/datasets/igvf_sc-islet_10X-Multiome/results/sample_annotation/mo9/cellcommander/atac/amulet /cellar/users/aklie/data/datasets/igvf_sc-islet_10X-Multiome/results/sample_annotation/mo9/atac\n"
     ]
    }
   ],
   "source": [
    "# Move amulet dirs to outdirs three directories up\n",
    "for amulet_dir in amulet_dirs:\n",
    "    outdir = os.path.dirname(os.path.dirname(os.path.dirname(amulet_dir))) + \"/atac\"\n",
    "    cmd = f\"mv {amulet_dir} {outdir}\"\n",
    "    print(cmd)\n",
    "    #os.system(cmd)"
   ]
  },
  {
   "cell_type": "code",
   "execution_count": 25,
   "metadata": {},
   "outputs": [
    {
     "data": {
      "text/plain": [
       "38"
      ]
     },
     "execution_count": 25,
     "metadata": {},
     "output_type": "execute_result"
    }
   ],
   "source": [
    "atac_dirs = sorted(glob.glob(os.path.join(in_dir, \"**/cellcommander/atac\"), recursive=True))\n",
    "len(atac_dirs)"
   ]
  },
  {
   "cell_type": "code",
   "execution_count": 27,
   "metadata": {},
   "outputs": [
    {
     "name": "stdout",
     "output_type": "stream",
     "text": [
      "rmdir /cellar/users/aklie/data/datasets/igvf_sc-islet_10X-Multiome/results/sample_annotation/0-2/cellcommander/atac\n",
      "rmdir /cellar/users/aklie/data/datasets/igvf_sc-islet_10X-Multiome/results/sample_annotation/11-1/cellcommander/atac\n",
      "rmdir /cellar/users/aklie/data/datasets/igvf_sc-islet_10X-Multiome/results/sample_annotation/12-1/cellcommander/atac\n",
      "rmdir /cellar/users/aklie/data/datasets/igvf_sc-islet_10X-Multiome/results/sample_annotation/14-2/cellcommander/atac\n",
      "rmdir /cellar/users/aklie/data/datasets/igvf_sc-islet_10X-Multiome/results/sample_annotation/21-1/cellcommander/atac\n",
      "rmdir /cellar/users/aklie/data/datasets/igvf_sc-islet_10X-Multiome/results/sample_annotation/22-2/cellcommander/atac\n",
      "rmdir /cellar/users/aklie/data/datasets/igvf_sc-islet_10X-Multiome/results/sample_annotation/23-1/cellcommander/atac\n",
      "rmdir /cellar/users/aklie/data/datasets/igvf_sc-islet_10X-Multiome/results/sample_annotation/25-1/cellcommander/atac\n",
      "rmdir /cellar/users/aklie/data/datasets/igvf_sc-islet_10X-Multiome/results/sample_annotation/32-1/cellcommander/atac\n",
      "rmdir /cellar/users/aklie/data/datasets/igvf_sc-islet_10X-Multiome/results/sample_annotation/34-2/cellcommander/atac\n",
      "rmdir /cellar/users/aklie/data/datasets/igvf_sc-islet_10X-Multiome/results/sample_annotation/44-2/cellcommander/atac\n",
      "rmdir /cellar/users/aklie/data/datasets/igvf_sc-islet_10X-Multiome/results/sample_annotation/dm0b/cellcommander/atac\n",
      "rmdir /cellar/users/aklie/data/datasets/igvf_sc-islet_10X-Multiome/results/sample_annotation/dm11a/cellcommander/atac\n",
      "rmdir /cellar/users/aklie/data/datasets/igvf_sc-islet_10X-Multiome/results/sample_annotation/dm12b/cellcommander/atac\n",
      "rmdir /cellar/users/aklie/data/datasets/igvf_sc-islet_10X-Multiome/results/sample_annotation/dm14b/cellcommander/atac\n",
      "rmdir /cellar/users/aklie/data/datasets/igvf_sc-islet_10X-Multiome/results/sample_annotation/dm21a/cellcommander/atac\n",
      "rmdir /cellar/users/aklie/data/datasets/igvf_sc-islet_10X-Multiome/results/sample_annotation/dm23a/cellcommander/atac\n",
      "rmdir /cellar/users/aklie/data/datasets/igvf_sc-islet_10X-Multiome/results/sample_annotation/dm24a/cellcommander/atac\n",
      "rmdir /cellar/users/aklie/data/datasets/igvf_sc-islet_10X-Multiome/results/sample_annotation/dm25a/cellcommander/atac\n",
      "rmdir /cellar/users/aklie/data/datasets/igvf_sc-islet_10X-Multiome/results/sample_annotation/dm31a/cellcommander/atac\n",
      "rmdir /cellar/users/aklie/data/datasets/igvf_sc-islet_10X-Multiome/results/sample_annotation/dm32a/cellcommander/atac\n",
      "rmdir /cellar/users/aklie/data/datasets/igvf_sc-islet_10X-Multiome/results/sample_annotation/dm33a/cellcommander/atac\n",
      "rmdir /cellar/users/aklie/data/datasets/igvf_sc-islet_10X-Multiome/results/sample_annotation/dm34a/cellcommander/atac\n",
      "rmdir /cellar/users/aklie/data/datasets/igvf_sc-islet_10X-Multiome/results/sample_annotation/dm35a/cellcommander/atac\n",
      "rmdir /cellar/users/aklie/data/datasets/igvf_sc-islet_10X-Multiome/results/sample_annotation/dm42b/cellcommander/atac\n",
      "rmdir /cellar/users/aklie/data/datasets/igvf_sc-islet_10X-Multiome/results/sample_annotation/dm43b/cellcommander/atac\n",
      "rmdir /cellar/users/aklie/data/datasets/igvf_sc-islet_10X-Multiome/results/sample_annotation/dm44a/cellcommander/atac\n",
      "rmdir /cellar/users/aklie/data/datasets/igvf_sc-islet_10X-Multiome/results/sample_annotation/dm45a/cellcommander/atac\n",
      "rmdir /cellar/users/aklie/data/datasets/igvf_sc-islet_10X-Multiome/results/sample_annotation/mo1/cellcommander/atac\n",
      "rmdir /cellar/users/aklie/data/datasets/igvf_sc-islet_10X-Multiome/results/sample_annotation/mo14/cellcommander/atac\n",
      "rmdir /cellar/users/aklie/data/datasets/igvf_sc-islet_10X-Multiome/results/sample_annotation/mo18/cellcommander/atac\n",
      "rmdir /cellar/users/aklie/data/datasets/igvf_sc-islet_10X-Multiome/results/sample_annotation/mo22/cellcommander/atac\n",
      "rmdir /cellar/users/aklie/data/datasets/igvf_sc-islet_10X-Multiome/results/sample_annotation/mo26/cellcommander/atac\n",
      "rmdir /cellar/users/aklie/data/datasets/igvf_sc-islet_10X-Multiome/results/sample_annotation/mo29/cellcommander/atac\n",
      "rmdir /cellar/users/aklie/data/datasets/igvf_sc-islet_10X-Multiome/results/sample_annotation/mo3/cellcommander/atac\n",
      "rmdir /cellar/users/aklie/data/datasets/igvf_sc-islet_10X-Multiome/results/sample_annotation/mo33/cellcommander/atac\n",
      "rmdir /cellar/users/aklie/data/datasets/igvf_sc-islet_10X-Multiome/results/sample_annotation/mo38/cellcommander/atac\n",
      "rmdir /cellar/users/aklie/data/datasets/igvf_sc-islet_10X-Multiome/results/sample_annotation/mo9/cellcommander/atac\n"
     ]
    }
   ],
   "source": [
    "# Rmdir all atac dirs\n",
    "for atac_dir in atac_dirs:\n",
    "    cmd = f\"rmdir {atac_dir}\"\n",
    "    print(cmd)\n",
    "    #os.system(cmd)"
   ]
  },
  {
   "cell_type": "markdown",
   "metadata": {},
   "source": [
    "# Joint "
   ]
  },
  {
   "cell_type": "markdown",
   "metadata": {},
   "source": []
  },
  {
   "cell_type": "code",
   "execution_count": 28,
   "metadata": {},
   "outputs": [
    {
     "data": {
      "text/plain": [
       "38"
      ]
     },
     "execution_count": 28,
     "metadata": {},
     "output_type": "execute_result"
    }
   ],
   "source": [
    "joint_dirs = sorted(glob.glob(os.path.join(in_dir, \"**/joint_integrate\"), recursive=True))\n",
    "len(joint_dirs)"
   ]
  },
  {
   "cell_type": "code",
   "execution_count": 33,
   "metadata": {},
   "outputs": [
    {
     "name": "stdout",
     "output_type": "stream",
     "text": [
      "mkdir -p /cellar/users/aklie/data/datasets/igvf_sc-islet_10X-Multiome/results/sample_annotation/0-2/joint\n",
      "mv /cellar/users/aklie/data/datasets/igvf_sc-islet_10X-Multiome/results/sample_annotation/0-2/cellcommander/joint_integrate /cellar/users/aklie/data/datasets/igvf_sc-islet_10X-Multiome/results/sample_annotation/0-2/joint/integrate\n",
      "mkdir -p /cellar/users/aklie/data/datasets/igvf_sc-islet_10X-Multiome/results/sample_annotation/11-1/joint\n",
      "mv /cellar/users/aklie/data/datasets/igvf_sc-islet_10X-Multiome/results/sample_annotation/11-1/cellcommander/joint_integrate /cellar/users/aklie/data/datasets/igvf_sc-islet_10X-Multiome/results/sample_annotation/11-1/joint/integrate\n",
      "mkdir -p /cellar/users/aklie/data/datasets/igvf_sc-islet_10X-Multiome/results/sample_annotation/12-1/joint\n",
      "mv /cellar/users/aklie/data/datasets/igvf_sc-islet_10X-Multiome/results/sample_annotation/12-1/cellcommander/joint_integrate /cellar/users/aklie/data/datasets/igvf_sc-islet_10X-Multiome/results/sample_annotation/12-1/joint/integrate\n",
      "mkdir -p /cellar/users/aklie/data/datasets/igvf_sc-islet_10X-Multiome/results/sample_annotation/14-2/joint\n",
      "mv /cellar/users/aklie/data/datasets/igvf_sc-islet_10X-Multiome/results/sample_annotation/14-2/cellcommander/joint_integrate /cellar/users/aklie/data/datasets/igvf_sc-islet_10X-Multiome/results/sample_annotation/14-2/joint/integrate\n",
      "mkdir -p /cellar/users/aklie/data/datasets/igvf_sc-islet_10X-Multiome/results/sample_annotation/21-1/joint\n",
      "mv /cellar/users/aklie/data/datasets/igvf_sc-islet_10X-Multiome/results/sample_annotation/21-1/cellcommander/joint_integrate /cellar/users/aklie/data/datasets/igvf_sc-islet_10X-Multiome/results/sample_annotation/21-1/joint/integrate\n",
      "mkdir -p /cellar/users/aklie/data/datasets/igvf_sc-islet_10X-Multiome/results/sample_annotation/22-2/joint\n",
      "mv /cellar/users/aklie/data/datasets/igvf_sc-islet_10X-Multiome/results/sample_annotation/22-2/cellcommander/joint_integrate /cellar/users/aklie/data/datasets/igvf_sc-islet_10X-Multiome/results/sample_annotation/22-2/joint/integrate\n",
      "mkdir -p /cellar/users/aklie/data/datasets/igvf_sc-islet_10X-Multiome/results/sample_annotation/23-1/joint\n",
      "mv /cellar/users/aklie/data/datasets/igvf_sc-islet_10X-Multiome/results/sample_annotation/23-1/cellcommander/joint_integrate /cellar/users/aklie/data/datasets/igvf_sc-islet_10X-Multiome/results/sample_annotation/23-1/joint/integrate\n",
      "mkdir -p /cellar/users/aklie/data/datasets/igvf_sc-islet_10X-Multiome/results/sample_annotation/25-1/joint\n",
      "mv /cellar/users/aklie/data/datasets/igvf_sc-islet_10X-Multiome/results/sample_annotation/25-1/cellcommander/joint_integrate /cellar/users/aklie/data/datasets/igvf_sc-islet_10X-Multiome/results/sample_annotation/25-1/joint/integrate\n",
      "mkdir -p /cellar/users/aklie/data/datasets/igvf_sc-islet_10X-Multiome/results/sample_annotation/32-1/joint\n",
      "mv /cellar/users/aklie/data/datasets/igvf_sc-islet_10X-Multiome/results/sample_annotation/32-1/cellcommander/joint_integrate /cellar/users/aklie/data/datasets/igvf_sc-islet_10X-Multiome/results/sample_annotation/32-1/joint/integrate\n",
      "mkdir -p /cellar/users/aklie/data/datasets/igvf_sc-islet_10X-Multiome/results/sample_annotation/34-2/joint\n",
      "mv /cellar/users/aklie/data/datasets/igvf_sc-islet_10X-Multiome/results/sample_annotation/34-2/cellcommander/joint_integrate /cellar/users/aklie/data/datasets/igvf_sc-islet_10X-Multiome/results/sample_annotation/34-2/joint/integrate\n",
      "mkdir -p /cellar/users/aklie/data/datasets/igvf_sc-islet_10X-Multiome/results/sample_annotation/44-2/joint\n",
      "mv /cellar/users/aklie/data/datasets/igvf_sc-islet_10X-Multiome/results/sample_annotation/44-2/cellcommander/joint_integrate /cellar/users/aklie/data/datasets/igvf_sc-islet_10X-Multiome/results/sample_annotation/44-2/joint/integrate\n",
      "mkdir -p /cellar/users/aklie/data/datasets/igvf_sc-islet_10X-Multiome/results/sample_annotation/dm0b/joint\n",
      "mv /cellar/users/aklie/data/datasets/igvf_sc-islet_10X-Multiome/results/sample_annotation/dm0b/cellcommander/joint_integrate /cellar/users/aklie/data/datasets/igvf_sc-islet_10X-Multiome/results/sample_annotation/dm0b/joint/integrate\n",
      "mkdir -p /cellar/users/aklie/data/datasets/igvf_sc-islet_10X-Multiome/results/sample_annotation/dm11a/joint\n",
      "mv /cellar/users/aklie/data/datasets/igvf_sc-islet_10X-Multiome/results/sample_annotation/dm11a/cellcommander/joint_integrate /cellar/users/aklie/data/datasets/igvf_sc-islet_10X-Multiome/results/sample_annotation/dm11a/joint/integrate\n",
      "mkdir -p /cellar/users/aklie/data/datasets/igvf_sc-islet_10X-Multiome/results/sample_annotation/dm12b/joint\n",
      "mv /cellar/users/aklie/data/datasets/igvf_sc-islet_10X-Multiome/results/sample_annotation/dm12b/cellcommander/joint_integrate /cellar/users/aklie/data/datasets/igvf_sc-islet_10X-Multiome/results/sample_annotation/dm12b/joint/integrate\n",
      "mkdir -p /cellar/users/aklie/data/datasets/igvf_sc-islet_10X-Multiome/results/sample_annotation/dm14b/joint\n",
      "mv /cellar/users/aklie/data/datasets/igvf_sc-islet_10X-Multiome/results/sample_annotation/dm14b/cellcommander/joint_integrate /cellar/users/aklie/data/datasets/igvf_sc-islet_10X-Multiome/results/sample_annotation/dm14b/joint/integrate\n",
      "mkdir -p /cellar/users/aklie/data/datasets/igvf_sc-islet_10X-Multiome/results/sample_annotation/dm21a/joint\n",
      "mv /cellar/users/aklie/data/datasets/igvf_sc-islet_10X-Multiome/results/sample_annotation/dm21a/cellcommander/joint_integrate /cellar/users/aklie/data/datasets/igvf_sc-islet_10X-Multiome/results/sample_annotation/dm21a/joint/integrate\n",
      "mkdir -p /cellar/users/aklie/data/datasets/igvf_sc-islet_10X-Multiome/results/sample_annotation/dm23a/joint\n",
      "mv /cellar/users/aklie/data/datasets/igvf_sc-islet_10X-Multiome/results/sample_annotation/dm23a/cellcommander/joint_integrate /cellar/users/aklie/data/datasets/igvf_sc-islet_10X-Multiome/results/sample_annotation/dm23a/joint/integrate\n",
      "mkdir -p /cellar/users/aklie/data/datasets/igvf_sc-islet_10X-Multiome/results/sample_annotation/dm24a/joint\n",
      "mv /cellar/users/aklie/data/datasets/igvf_sc-islet_10X-Multiome/results/sample_annotation/dm24a/cellcommander/joint_integrate /cellar/users/aklie/data/datasets/igvf_sc-islet_10X-Multiome/results/sample_annotation/dm24a/joint/integrate\n",
      "mkdir -p /cellar/users/aklie/data/datasets/igvf_sc-islet_10X-Multiome/results/sample_annotation/dm25a/joint\n",
      "mv /cellar/users/aklie/data/datasets/igvf_sc-islet_10X-Multiome/results/sample_annotation/dm25a/cellcommander/joint_integrate /cellar/users/aklie/data/datasets/igvf_sc-islet_10X-Multiome/results/sample_annotation/dm25a/joint/integrate\n",
      "mkdir -p /cellar/users/aklie/data/datasets/igvf_sc-islet_10X-Multiome/results/sample_annotation/dm31a/joint\n",
      "mv /cellar/users/aklie/data/datasets/igvf_sc-islet_10X-Multiome/results/sample_annotation/dm31a/cellcommander/joint_integrate /cellar/users/aklie/data/datasets/igvf_sc-islet_10X-Multiome/results/sample_annotation/dm31a/joint/integrate\n",
      "mkdir -p /cellar/users/aklie/data/datasets/igvf_sc-islet_10X-Multiome/results/sample_annotation/dm32a/joint\n",
      "mv /cellar/users/aklie/data/datasets/igvf_sc-islet_10X-Multiome/results/sample_annotation/dm32a/cellcommander/joint_integrate /cellar/users/aklie/data/datasets/igvf_sc-islet_10X-Multiome/results/sample_annotation/dm32a/joint/integrate\n",
      "mkdir -p /cellar/users/aklie/data/datasets/igvf_sc-islet_10X-Multiome/results/sample_annotation/dm33a/joint\n",
      "mv /cellar/users/aklie/data/datasets/igvf_sc-islet_10X-Multiome/results/sample_annotation/dm33a/cellcommander/joint_integrate /cellar/users/aklie/data/datasets/igvf_sc-islet_10X-Multiome/results/sample_annotation/dm33a/joint/integrate\n",
      "mkdir -p /cellar/users/aklie/data/datasets/igvf_sc-islet_10X-Multiome/results/sample_annotation/dm34a/joint\n",
      "mv /cellar/users/aklie/data/datasets/igvf_sc-islet_10X-Multiome/results/sample_annotation/dm34a/cellcommander/joint_integrate /cellar/users/aklie/data/datasets/igvf_sc-islet_10X-Multiome/results/sample_annotation/dm34a/joint/integrate\n",
      "mkdir -p /cellar/users/aklie/data/datasets/igvf_sc-islet_10X-Multiome/results/sample_annotation/dm35a/joint\n",
      "mv /cellar/users/aklie/data/datasets/igvf_sc-islet_10X-Multiome/results/sample_annotation/dm35a/cellcommander/joint_integrate /cellar/users/aklie/data/datasets/igvf_sc-islet_10X-Multiome/results/sample_annotation/dm35a/joint/integrate\n",
      "mkdir -p /cellar/users/aklie/data/datasets/igvf_sc-islet_10X-Multiome/results/sample_annotation/dm42b/joint\n",
      "mv /cellar/users/aklie/data/datasets/igvf_sc-islet_10X-Multiome/results/sample_annotation/dm42b/cellcommander/joint_integrate /cellar/users/aklie/data/datasets/igvf_sc-islet_10X-Multiome/results/sample_annotation/dm42b/joint/integrate\n",
      "mkdir -p /cellar/users/aklie/data/datasets/igvf_sc-islet_10X-Multiome/results/sample_annotation/dm43b/joint\n",
      "mv /cellar/users/aklie/data/datasets/igvf_sc-islet_10X-Multiome/results/sample_annotation/dm43b/cellcommander/joint_integrate /cellar/users/aklie/data/datasets/igvf_sc-islet_10X-Multiome/results/sample_annotation/dm43b/joint/integrate\n",
      "mkdir -p /cellar/users/aklie/data/datasets/igvf_sc-islet_10X-Multiome/results/sample_annotation/dm44a/joint\n",
      "mv /cellar/users/aklie/data/datasets/igvf_sc-islet_10X-Multiome/results/sample_annotation/dm44a/cellcommander/joint_integrate /cellar/users/aklie/data/datasets/igvf_sc-islet_10X-Multiome/results/sample_annotation/dm44a/joint/integrate\n",
      "mkdir -p /cellar/users/aklie/data/datasets/igvf_sc-islet_10X-Multiome/results/sample_annotation/dm45a/joint\n",
      "mv /cellar/users/aklie/data/datasets/igvf_sc-islet_10X-Multiome/results/sample_annotation/dm45a/cellcommander/joint_integrate /cellar/users/aklie/data/datasets/igvf_sc-islet_10X-Multiome/results/sample_annotation/dm45a/joint/integrate\n",
      "mkdir -p /cellar/users/aklie/data/datasets/igvf_sc-islet_10X-Multiome/results/sample_annotation/mo1/joint\n",
      "mv /cellar/users/aklie/data/datasets/igvf_sc-islet_10X-Multiome/results/sample_annotation/mo1/cellcommander/joint_integrate /cellar/users/aklie/data/datasets/igvf_sc-islet_10X-Multiome/results/sample_annotation/mo1/joint/integrate\n",
      "mkdir -p /cellar/users/aklie/data/datasets/igvf_sc-islet_10X-Multiome/results/sample_annotation/mo14/joint\n",
      "mv /cellar/users/aklie/data/datasets/igvf_sc-islet_10X-Multiome/results/sample_annotation/mo14/cellcommander/joint_integrate /cellar/users/aklie/data/datasets/igvf_sc-islet_10X-Multiome/results/sample_annotation/mo14/joint/integrate\n",
      "mkdir -p /cellar/users/aklie/data/datasets/igvf_sc-islet_10X-Multiome/results/sample_annotation/mo18/joint\n",
      "mv /cellar/users/aklie/data/datasets/igvf_sc-islet_10X-Multiome/results/sample_annotation/mo18/cellcommander/joint_integrate /cellar/users/aklie/data/datasets/igvf_sc-islet_10X-Multiome/results/sample_annotation/mo18/joint/integrate\n",
      "mkdir -p /cellar/users/aklie/data/datasets/igvf_sc-islet_10X-Multiome/results/sample_annotation/mo22/joint\n",
      "mv /cellar/users/aklie/data/datasets/igvf_sc-islet_10X-Multiome/results/sample_annotation/mo22/cellcommander/joint_integrate /cellar/users/aklie/data/datasets/igvf_sc-islet_10X-Multiome/results/sample_annotation/mo22/joint/integrate\n",
      "mkdir -p /cellar/users/aklie/data/datasets/igvf_sc-islet_10X-Multiome/results/sample_annotation/mo26/joint\n",
      "mv /cellar/users/aklie/data/datasets/igvf_sc-islet_10X-Multiome/results/sample_annotation/mo26/cellcommander/joint_integrate /cellar/users/aklie/data/datasets/igvf_sc-islet_10X-Multiome/results/sample_annotation/mo26/joint/integrate\n",
      "mkdir -p /cellar/users/aklie/data/datasets/igvf_sc-islet_10X-Multiome/results/sample_annotation/mo29/joint\n",
      "mv /cellar/users/aklie/data/datasets/igvf_sc-islet_10X-Multiome/results/sample_annotation/mo29/cellcommander/joint_integrate /cellar/users/aklie/data/datasets/igvf_sc-islet_10X-Multiome/results/sample_annotation/mo29/joint/integrate\n",
      "mkdir -p /cellar/users/aklie/data/datasets/igvf_sc-islet_10X-Multiome/results/sample_annotation/mo3/joint\n",
      "mv /cellar/users/aklie/data/datasets/igvf_sc-islet_10X-Multiome/results/sample_annotation/mo3/cellcommander/joint_integrate /cellar/users/aklie/data/datasets/igvf_sc-islet_10X-Multiome/results/sample_annotation/mo3/joint/integrate\n",
      "mkdir -p /cellar/users/aklie/data/datasets/igvf_sc-islet_10X-Multiome/results/sample_annotation/mo33/joint\n",
      "mv /cellar/users/aklie/data/datasets/igvf_sc-islet_10X-Multiome/results/sample_annotation/mo33/cellcommander/joint_integrate /cellar/users/aklie/data/datasets/igvf_sc-islet_10X-Multiome/results/sample_annotation/mo33/joint/integrate\n",
      "mkdir -p /cellar/users/aklie/data/datasets/igvf_sc-islet_10X-Multiome/results/sample_annotation/mo38/joint\n",
      "mv /cellar/users/aklie/data/datasets/igvf_sc-islet_10X-Multiome/results/sample_annotation/mo38/cellcommander/joint_integrate /cellar/users/aklie/data/datasets/igvf_sc-islet_10X-Multiome/results/sample_annotation/mo38/joint/integrate\n",
      "mkdir -p /cellar/users/aklie/data/datasets/igvf_sc-islet_10X-Multiome/results/sample_annotation/mo9/joint\n",
      "mv /cellar/users/aklie/data/datasets/igvf_sc-islet_10X-Multiome/results/sample_annotation/mo9/cellcommander/joint_integrate /cellar/users/aklie/data/datasets/igvf_sc-islet_10X-Multiome/results/sample_annotation/mo9/joint/integrate\n"
     ]
    }
   ],
   "source": [
    "# move these two directories up and rename to joint\n",
    "for joint_dir in joint_dirs:\n",
    "    outdir = os.path.dirname(os.path.dirname(joint_dir)) + \"/joint\"\n",
    "    cmd = \"mkdir -p \" + outdir\n",
    "    print(cmd)\n",
    "    #os.system(cmd)\n",
    "    outdir = outdir + \"/integrate\"\n",
    "    cmd = f\"mv {joint_dir} {outdir}\"\n",
    "    print(cmd)\n",
    "    #os.system(cmd)"
   ]
  },
  {
   "cell_type": "code",
   "execution_count": 34,
   "metadata": {},
   "outputs": [
    {
     "data": {
      "text/plain": [
       "38"
      ]
     },
     "execution_count": 34,
     "metadata": {},
     "output_type": "execute_result"
    }
   ],
   "source": [
    "annotate_dirs = sorted(glob.glob(os.path.join(in_dir, \"**/annotate\"), recursive=True))\n",
    "len(annotate_dirs)"
   ]
  },
  {
   "cell_type": "code",
   "execution_count": 37,
   "metadata": {},
   "outputs": [
    {
     "name": "stdout",
     "output_type": "stream",
     "text": [
      "mv /cellar/users/aklie/data/datasets/igvf_sc-islet_10X-Multiome/results/sample_annotation/0-2/cellcommander/annotate /cellar/users/aklie/data/datasets/igvf_sc-islet_10X-Multiome/results/sample_annotation/0-2/joint\n",
      "mv /cellar/users/aklie/data/datasets/igvf_sc-islet_10X-Multiome/results/sample_annotation/11-1/cellcommander/annotate /cellar/users/aklie/data/datasets/igvf_sc-islet_10X-Multiome/results/sample_annotation/11-1/joint\n",
      "mv /cellar/users/aklie/data/datasets/igvf_sc-islet_10X-Multiome/results/sample_annotation/12-1/cellcommander/annotate /cellar/users/aklie/data/datasets/igvf_sc-islet_10X-Multiome/results/sample_annotation/12-1/joint\n",
      "mv /cellar/users/aklie/data/datasets/igvf_sc-islet_10X-Multiome/results/sample_annotation/14-2/cellcommander/annotate /cellar/users/aklie/data/datasets/igvf_sc-islet_10X-Multiome/results/sample_annotation/14-2/joint\n",
      "mv /cellar/users/aklie/data/datasets/igvf_sc-islet_10X-Multiome/results/sample_annotation/21-1/cellcommander/annotate /cellar/users/aklie/data/datasets/igvf_sc-islet_10X-Multiome/results/sample_annotation/21-1/joint\n",
      "mv /cellar/users/aklie/data/datasets/igvf_sc-islet_10X-Multiome/results/sample_annotation/22-2/cellcommander/annotate /cellar/users/aklie/data/datasets/igvf_sc-islet_10X-Multiome/results/sample_annotation/22-2/joint\n",
      "mv /cellar/users/aklie/data/datasets/igvf_sc-islet_10X-Multiome/results/sample_annotation/23-1/cellcommander/annotate /cellar/users/aklie/data/datasets/igvf_sc-islet_10X-Multiome/results/sample_annotation/23-1/joint\n",
      "mv /cellar/users/aklie/data/datasets/igvf_sc-islet_10X-Multiome/results/sample_annotation/25-1/cellcommander/annotate /cellar/users/aklie/data/datasets/igvf_sc-islet_10X-Multiome/results/sample_annotation/25-1/joint\n",
      "mv /cellar/users/aklie/data/datasets/igvf_sc-islet_10X-Multiome/results/sample_annotation/32-1/cellcommander/annotate /cellar/users/aklie/data/datasets/igvf_sc-islet_10X-Multiome/results/sample_annotation/32-1/joint\n",
      "mv /cellar/users/aklie/data/datasets/igvf_sc-islet_10X-Multiome/results/sample_annotation/34-2/cellcommander/annotate /cellar/users/aklie/data/datasets/igvf_sc-islet_10X-Multiome/results/sample_annotation/34-2/joint\n",
      "mv /cellar/users/aklie/data/datasets/igvf_sc-islet_10X-Multiome/results/sample_annotation/44-2/cellcommander/annotate /cellar/users/aklie/data/datasets/igvf_sc-islet_10X-Multiome/results/sample_annotation/44-2/joint\n",
      "mv /cellar/users/aklie/data/datasets/igvf_sc-islet_10X-Multiome/results/sample_annotation/dm0b/cellcommander/annotate /cellar/users/aklie/data/datasets/igvf_sc-islet_10X-Multiome/results/sample_annotation/dm0b/joint\n",
      "mv /cellar/users/aklie/data/datasets/igvf_sc-islet_10X-Multiome/results/sample_annotation/dm11a/cellcommander/annotate /cellar/users/aklie/data/datasets/igvf_sc-islet_10X-Multiome/results/sample_annotation/dm11a/joint\n",
      "mv /cellar/users/aklie/data/datasets/igvf_sc-islet_10X-Multiome/results/sample_annotation/dm12b/cellcommander/annotate /cellar/users/aklie/data/datasets/igvf_sc-islet_10X-Multiome/results/sample_annotation/dm12b/joint\n",
      "mv /cellar/users/aklie/data/datasets/igvf_sc-islet_10X-Multiome/results/sample_annotation/dm14b/cellcommander/annotate /cellar/users/aklie/data/datasets/igvf_sc-islet_10X-Multiome/results/sample_annotation/dm14b/joint\n",
      "mv /cellar/users/aklie/data/datasets/igvf_sc-islet_10X-Multiome/results/sample_annotation/dm21a/cellcommander/annotate /cellar/users/aklie/data/datasets/igvf_sc-islet_10X-Multiome/results/sample_annotation/dm21a/joint\n",
      "mv /cellar/users/aklie/data/datasets/igvf_sc-islet_10X-Multiome/results/sample_annotation/dm23a/cellcommander/annotate /cellar/users/aklie/data/datasets/igvf_sc-islet_10X-Multiome/results/sample_annotation/dm23a/joint\n",
      "mv /cellar/users/aklie/data/datasets/igvf_sc-islet_10X-Multiome/results/sample_annotation/dm24a/cellcommander/annotate /cellar/users/aklie/data/datasets/igvf_sc-islet_10X-Multiome/results/sample_annotation/dm24a/joint\n",
      "mv /cellar/users/aklie/data/datasets/igvf_sc-islet_10X-Multiome/results/sample_annotation/dm25a/cellcommander/annotate /cellar/users/aklie/data/datasets/igvf_sc-islet_10X-Multiome/results/sample_annotation/dm25a/joint\n",
      "mv /cellar/users/aklie/data/datasets/igvf_sc-islet_10X-Multiome/results/sample_annotation/dm31a/cellcommander/annotate /cellar/users/aklie/data/datasets/igvf_sc-islet_10X-Multiome/results/sample_annotation/dm31a/joint\n",
      "mv /cellar/users/aklie/data/datasets/igvf_sc-islet_10X-Multiome/results/sample_annotation/dm32a/cellcommander/annotate /cellar/users/aklie/data/datasets/igvf_sc-islet_10X-Multiome/results/sample_annotation/dm32a/joint\n",
      "mv /cellar/users/aklie/data/datasets/igvf_sc-islet_10X-Multiome/results/sample_annotation/dm33a/cellcommander/annotate /cellar/users/aklie/data/datasets/igvf_sc-islet_10X-Multiome/results/sample_annotation/dm33a/joint\n",
      "mv /cellar/users/aklie/data/datasets/igvf_sc-islet_10X-Multiome/results/sample_annotation/dm34a/cellcommander/annotate /cellar/users/aklie/data/datasets/igvf_sc-islet_10X-Multiome/results/sample_annotation/dm34a/joint\n",
      "mv /cellar/users/aklie/data/datasets/igvf_sc-islet_10X-Multiome/results/sample_annotation/dm35a/cellcommander/annotate /cellar/users/aklie/data/datasets/igvf_sc-islet_10X-Multiome/results/sample_annotation/dm35a/joint\n",
      "mv /cellar/users/aklie/data/datasets/igvf_sc-islet_10X-Multiome/results/sample_annotation/dm42b/cellcommander/annotate /cellar/users/aklie/data/datasets/igvf_sc-islet_10X-Multiome/results/sample_annotation/dm42b/joint\n",
      "mv /cellar/users/aklie/data/datasets/igvf_sc-islet_10X-Multiome/results/sample_annotation/dm43b/cellcommander/annotate /cellar/users/aklie/data/datasets/igvf_sc-islet_10X-Multiome/results/sample_annotation/dm43b/joint\n",
      "mv /cellar/users/aklie/data/datasets/igvf_sc-islet_10X-Multiome/results/sample_annotation/dm44a/cellcommander/annotate /cellar/users/aklie/data/datasets/igvf_sc-islet_10X-Multiome/results/sample_annotation/dm44a/joint\n",
      "mv /cellar/users/aklie/data/datasets/igvf_sc-islet_10X-Multiome/results/sample_annotation/dm45a/cellcommander/annotate /cellar/users/aklie/data/datasets/igvf_sc-islet_10X-Multiome/results/sample_annotation/dm45a/joint\n",
      "mv /cellar/users/aklie/data/datasets/igvf_sc-islet_10X-Multiome/results/sample_annotation/mo1/cellcommander/annotate /cellar/users/aklie/data/datasets/igvf_sc-islet_10X-Multiome/results/sample_annotation/mo1/joint\n",
      "mv /cellar/users/aklie/data/datasets/igvf_sc-islet_10X-Multiome/results/sample_annotation/mo14/cellcommander/annotate /cellar/users/aklie/data/datasets/igvf_sc-islet_10X-Multiome/results/sample_annotation/mo14/joint\n",
      "mv /cellar/users/aklie/data/datasets/igvf_sc-islet_10X-Multiome/results/sample_annotation/mo18/cellcommander/annotate /cellar/users/aklie/data/datasets/igvf_sc-islet_10X-Multiome/results/sample_annotation/mo18/joint\n",
      "mv /cellar/users/aklie/data/datasets/igvf_sc-islet_10X-Multiome/results/sample_annotation/mo22/cellcommander/annotate /cellar/users/aklie/data/datasets/igvf_sc-islet_10X-Multiome/results/sample_annotation/mo22/joint\n",
      "mv /cellar/users/aklie/data/datasets/igvf_sc-islet_10X-Multiome/results/sample_annotation/mo26/cellcommander/annotate /cellar/users/aklie/data/datasets/igvf_sc-islet_10X-Multiome/results/sample_annotation/mo26/joint\n",
      "mv /cellar/users/aklie/data/datasets/igvf_sc-islet_10X-Multiome/results/sample_annotation/mo29/cellcommander/annotate /cellar/users/aklie/data/datasets/igvf_sc-islet_10X-Multiome/results/sample_annotation/mo29/joint\n",
      "mv /cellar/users/aklie/data/datasets/igvf_sc-islet_10X-Multiome/results/sample_annotation/mo3/cellcommander/annotate /cellar/users/aklie/data/datasets/igvf_sc-islet_10X-Multiome/results/sample_annotation/mo3/joint\n",
      "mv /cellar/users/aklie/data/datasets/igvf_sc-islet_10X-Multiome/results/sample_annotation/mo33/cellcommander/annotate /cellar/users/aklie/data/datasets/igvf_sc-islet_10X-Multiome/results/sample_annotation/mo33/joint\n",
      "mv /cellar/users/aklie/data/datasets/igvf_sc-islet_10X-Multiome/results/sample_annotation/mo38/cellcommander/annotate /cellar/users/aklie/data/datasets/igvf_sc-islet_10X-Multiome/results/sample_annotation/mo38/joint\n",
      "mv /cellar/users/aklie/data/datasets/igvf_sc-islet_10X-Multiome/results/sample_annotation/mo9/cellcommander/annotate /cellar/users/aklie/data/datasets/igvf_sc-islet_10X-Multiome/results/sample_annotation/mo9/joint\n"
     ]
    }
   ],
   "source": [
    "# Move annotate dirs to outdirs two directories up\n",
    "for annotate_dir in annotate_dirs:\n",
    "    outdir = os.path.dirname(os.path.dirname(annotate_dir)) + \"/joint\"\n",
    "    cmd = f\"mv {annotate_dir} {outdir}\"\n",
    "    print(cmd)\n",
    "   #os.system(cmd)"
   ]
  },
  {
   "cell_type": "markdown",
   "metadata": {},
   "source": [
    "# Clean up"
   ]
  },
  {
   "cell_type": "code",
   "execution_count": 38,
   "metadata": {},
   "outputs": [
    {
     "data": {
      "text/plain": [
       "38"
      ]
     },
     "execution_count": 38,
     "metadata": {},
     "output_type": "execute_result"
    }
   ],
   "source": [
    "cellcommander_dirs = sorted(glob.glob(os.path.join(in_dir, \"**/cellcommander\"), recursive=True))\n",
    "len(cellcommander_dirs)"
   ]
  },
  {
   "cell_type": "code",
   "execution_count": 40,
   "metadata": {},
   "outputs": [
    {
     "name": "stdout",
     "output_type": "stream",
     "text": [
      "rmdir /cellar/users/aklie/data/datasets/igvf_sc-islet_10X-Multiome/results/sample_annotation/0-2/cellcommander\n",
      "rmdir /cellar/users/aklie/data/datasets/igvf_sc-islet_10X-Multiome/results/sample_annotation/11-1/cellcommander\n",
      "rmdir /cellar/users/aklie/data/datasets/igvf_sc-islet_10X-Multiome/results/sample_annotation/12-1/cellcommander\n",
      "rmdir /cellar/users/aklie/data/datasets/igvf_sc-islet_10X-Multiome/results/sample_annotation/14-2/cellcommander\n",
      "rmdir /cellar/users/aklie/data/datasets/igvf_sc-islet_10X-Multiome/results/sample_annotation/21-1/cellcommander\n",
      "rmdir /cellar/users/aklie/data/datasets/igvf_sc-islet_10X-Multiome/results/sample_annotation/22-2/cellcommander\n",
      "rmdir /cellar/users/aklie/data/datasets/igvf_sc-islet_10X-Multiome/results/sample_annotation/23-1/cellcommander\n",
      "rmdir /cellar/users/aklie/data/datasets/igvf_sc-islet_10X-Multiome/results/sample_annotation/25-1/cellcommander\n",
      "rmdir /cellar/users/aklie/data/datasets/igvf_sc-islet_10X-Multiome/results/sample_annotation/32-1/cellcommander\n",
      "rmdir /cellar/users/aklie/data/datasets/igvf_sc-islet_10X-Multiome/results/sample_annotation/34-2/cellcommander\n",
      "rmdir /cellar/users/aklie/data/datasets/igvf_sc-islet_10X-Multiome/results/sample_annotation/44-2/cellcommander\n",
      "rmdir /cellar/users/aklie/data/datasets/igvf_sc-islet_10X-Multiome/results/sample_annotation/dm0b/cellcommander\n",
      "rmdir /cellar/users/aklie/data/datasets/igvf_sc-islet_10X-Multiome/results/sample_annotation/dm11a/cellcommander\n",
      "rmdir /cellar/users/aklie/data/datasets/igvf_sc-islet_10X-Multiome/results/sample_annotation/dm12b/cellcommander\n",
      "rmdir /cellar/users/aklie/data/datasets/igvf_sc-islet_10X-Multiome/results/sample_annotation/dm14b/cellcommander\n",
      "rmdir /cellar/users/aklie/data/datasets/igvf_sc-islet_10X-Multiome/results/sample_annotation/dm21a/cellcommander\n",
      "rmdir /cellar/users/aklie/data/datasets/igvf_sc-islet_10X-Multiome/results/sample_annotation/dm23a/cellcommander\n",
      "rmdir /cellar/users/aklie/data/datasets/igvf_sc-islet_10X-Multiome/results/sample_annotation/dm24a/cellcommander\n",
      "rmdir /cellar/users/aklie/data/datasets/igvf_sc-islet_10X-Multiome/results/sample_annotation/dm25a/cellcommander\n",
      "rmdir /cellar/users/aklie/data/datasets/igvf_sc-islet_10X-Multiome/results/sample_annotation/dm31a/cellcommander\n",
      "rmdir /cellar/users/aklie/data/datasets/igvf_sc-islet_10X-Multiome/results/sample_annotation/dm32a/cellcommander\n",
      "rmdir /cellar/users/aklie/data/datasets/igvf_sc-islet_10X-Multiome/results/sample_annotation/dm33a/cellcommander\n",
      "rmdir /cellar/users/aklie/data/datasets/igvf_sc-islet_10X-Multiome/results/sample_annotation/dm34a/cellcommander\n",
      "rmdir /cellar/users/aklie/data/datasets/igvf_sc-islet_10X-Multiome/results/sample_annotation/dm35a/cellcommander\n",
      "rmdir /cellar/users/aklie/data/datasets/igvf_sc-islet_10X-Multiome/results/sample_annotation/dm42b/cellcommander\n",
      "rmdir /cellar/users/aklie/data/datasets/igvf_sc-islet_10X-Multiome/results/sample_annotation/dm43b/cellcommander\n",
      "rmdir /cellar/users/aklie/data/datasets/igvf_sc-islet_10X-Multiome/results/sample_annotation/dm44a/cellcommander\n",
      "rmdir /cellar/users/aklie/data/datasets/igvf_sc-islet_10X-Multiome/results/sample_annotation/dm45a/cellcommander\n",
      "rmdir /cellar/users/aklie/data/datasets/igvf_sc-islet_10X-Multiome/results/sample_annotation/mo1/cellcommander\n",
      "rmdir /cellar/users/aklie/data/datasets/igvf_sc-islet_10X-Multiome/results/sample_annotation/mo14/cellcommander\n",
      "rmdir /cellar/users/aklie/data/datasets/igvf_sc-islet_10X-Multiome/results/sample_annotation/mo18/cellcommander\n",
      "rmdir /cellar/users/aklie/data/datasets/igvf_sc-islet_10X-Multiome/results/sample_annotation/mo22/cellcommander\n",
      "rmdir /cellar/users/aklie/data/datasets/igvf_sc-islet_10X-Multiome/results/sample_annotation/mo26/cellcommander\n",
      "rmdir /cellar/users/aklie/data/datasets/igvf_sc-islet_10X-Multiome/results/sample_annotation/mo29/cellcommander\n",
      "rmdir /cellar/users/aklie/data/datasets/igvf_sc-islet_10X-Multiome/results/sample_annotation/mo3/cellcommander\n",
      "rmdir /cellar/users/aklie/data/datasets/igvf_sc-islet_10X-Multiome/results/sample_annotation/mo33/cellcommander\n",
      "rmdir /cellar/users/aklie/data/datasets/igvf_sc-islet_10X-Multiome/results/sample_annotation/mo38/cellcommander\n",
      "rmdir /cellar/users/aklie/data/datasets/igvf_sc-islet_10X-Multiome/results/sample_annotation/mo9/cellcommander\n"
     ]
    }
   ],
   "source": [
    "# Rmdir all cellcommander dirs\n",
    "for cellcommander_dir in cellcommander_dirs:\n",
    "    cmd = f\"rmdir {cellcommander_dir}\"\n",
    "    print(cmd)\n",
    "    #os.system(cmd)"
   ]
  },
  {
   "cell_type": "markdown",
   "metadata": {},
   "source": [
    "# DONE!"
   ]
  },
  {
   "cell_type": "markdown",
   "metadata": {},
   "source": [
    "---"
   ]
  }
 ],
 "metadata": {
  "kernelspec": {
   "display_name": "Python 3.7 get_data",
   "language": "python",
   "name": "get_data"
  }
 },
 "nbformat": 4,
 "nbformat_minor": 2
}
