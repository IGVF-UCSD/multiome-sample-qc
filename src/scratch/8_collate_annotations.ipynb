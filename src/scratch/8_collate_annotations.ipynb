{
 "cells": [
  {
   "attachments": {},
   "cell_type": "markdown",
   "metadata": {},
   "source": [
    "# Set-up"
   ]
  },
  {
   "cell_type": "code",
   "execution_count": 1,
   "metadata": {},
   "outputs": [
    {
     "name": "stdout",
     "output_type": "stream",
     "text": [
      "The history saving thread hit an unexpected error (DatabaseError('database disk image is malformed')).History will not be written to the database.\n"
     ]
    }
   ],
   "source": [
    "# Imports\n",
    "import os\n",
    "import glob\n",
    "import pandas as pd\n",
    "import numpy as np"
   ]
  },
  {
   "cell_type": "code",
   "execution_count": 2,
   "metadata": {},
   "outputs": [],
   "source": [
    "samples = None"
   ]
  },
  {
   "cell_type": "code",
   "execution_count": 3,
   "metadata": {},
   "outputs": [
    {
     "data": {
      "text/plain": [
       "48"
      ]
     },
     "execution_count": 3,
     "metadata": {},
     "output_type": "execute_result"
    }
   ],
   "source": [
    "# Get all the directories with fragment files in them\n",
    "processed_dir = \"/cellar/users/aklie/data/datasets/igvf_sc-islet_10X-Multiome/results/sample_annotation\"\n",
    "input_paths = glob.glob(os.path.join(processed_dir, \"**\", \"annotate_metdata.tsv\"), recursive=True)\n",
    "if samples is not None:\n",
    "    input_paths = [x for x in input_paths if any([sample in x for sample in samples])]\n",
    "len(input_paths)"
   ]
  },
  {
   "cell_type": "code",
   "execution_count": 4,
   "metadata": {},
   "outputs": [
    {
     "data": {
      "text/plain": [
       "37"
      ]
     },
     "execution_count": 4,
     "metadata": {},
     "output_type": "execute_result"
    }
   ],
   "source": [
    "# Filter out paths that don't meet date cutoff\n",
    "from datetime import datetime\n",
    "date_cutoff = datetime.strptime('2024-07-14', '%Y-%m-%d').timestamp()\n",
    "input_paths = sorted([x for x in input_paths if os.path.getmtime(x) > date_cutoff])\n",
    "len(input_paths)"
   ]
  },
  {
   "cell_type": "code",
   "execution_count": 5,
   "metadata": {},
   "outputs": [],
   "source": [
    "outfile = \"/cellar/users/aklie/data/datasets/igvf_sc-islet_10X-Multiome/results/sample_annotation/sample_annotations_2024_07_31.txt\""
   ]
  },
  {
   "cell_type": "code",
   "execution_count": 6,
   "metadata": {},
   "outputs": [],
   "source": [
    "# Read in each tsv, pull out barcode to annotation mapping and save as new tsv\n",
    "with open(outfile, \"w\") as f:\n",
    "    for path in input_paths:\n",
    "        # Read in the tsv\n",
    "        df = pd.read_csv(path, sep=\"\\t\", index_col=0)\n",
    "        # Get the barcode and annotation columns\n",
    "        barcode = df.index\n",
    "        annotation = df[\"manual_annotation\"].values\n",
    "        # Write out the barcode and annotation to a new tsv\n",
    "        for i in range(len(barcode)):\n",
    "            f.write(barcode[i] + \"\\t\" + annotation[i] + \"\\n\")"
   ]
  },
  {
   "cell_type": "code",
   "execution_count": 7,
   "metadata": {},
   "outputs": [],
   "source": [
    "num_annotated = len(open(outfile).readlines())"
   ]
  },
  {
   "cell_type": "code",
   "execution_count": 8,
   "metadata": {},
   "outputs": [
    {
     "name": "stdout",
     "output_type": "stream",
     "text": [
      "Total number of annotations: 144032\n"
     ]
    }
   ],
   "source": [
    "print(f\"Total number of annotations: {num_annotated}\")"
   ]
  },
  {
   "attachments": {},
   "cell_type": "markdown",
   "metadata": {},
   "source": [
    "# DONE!"
   ]
  },
  {
   "attachments": {},
   "cell_type": "markdown",
   "metadata": {},
   "source": [
    "---"
   ]
  }
 ],
 "metadata": {
  "kernelspec": {
   "display_name": "Python 3.7 get_data",
   "language": "python",
   "name": "get_data"
  },
  "language_info": {
   "codemirror_mode": {
    "name": "ipython",
    "version": 3
   },
   "file_extension": ".py",
   "mimetype": "text/x-python",
   "name": "python",
   "nbconvert_exporter": "python",
   "pygments_lexer": "ipython3",
   "version": "3.7.12"
  },
  "orig_nbformat": 4
 },
 "nbformat": 4,
 "nbformat_minor": 2
}
