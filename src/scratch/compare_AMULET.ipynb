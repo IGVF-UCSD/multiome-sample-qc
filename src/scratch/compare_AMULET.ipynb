{
 "cells": [
  {
   "attachments": {},
   "cell_type": "markdown",
   "metadata": {},
   "source": [
    "# Consolidate AMULET outputs into a single doublet list\n",
    "This script concatenates all the amulet outputs to a single file"
   ]
  },
  {
   "cell_type": "code",
   "execution_count": 10,
   "metadata": {},
   "outputs": [],
   "source": [
    "import os\n",
    "import glob\n",
    "import pandas as pd"
   ]
  },
  {
   "cell_type": "markdown",
   "metadata": {},
   "source": [
    "# Load new AMULET annotations from CellRanger"
   ]
  },
  {
   "cell_type": "code",
   "execution_count": 11,
   "metadata": {},
   "outputs": [
    {
     "data": {
      "text/plain": [
       "(['/cellar/users/aklie/data/datasets/igvf_sc-islet_10X-Multiome/results/sample_annotation/mo14/atac/amulet/doublet_barcodes.txt',\n",
       "  '/cellar/users/aklie/data/datasets/igvf_sc-islet_10X-Multiome/results/sample_annotation/11-1/atac/amulet/doublet_barcodes.txt',\n",
       "  '/cellar/users/aklie/data/datasets/igvf_sc-islet_10X-Multiome/results/sample_annotation/mo26/atac/amulet/doublet_barcodes.txt',\n",
       "  '/cellar/users/aklie/data/datasets/igvf_sc-islet_10X-Multiome/results/sample_annotation/0-2/atac/amulet/doublet_barcodes.txt',\n",
       "  '/cellar/users/aklie/data/datasets/igvf_sc-islet_10X-Multiome/results/sample_annotation/dm25a/atac/amulet/doublet_barcodes.txt'],\n",
       " 48)"
      ]
     },
     "execution_count": 11,
     "metadata": {},
     "output_type": "execute_result"
    }
   ],
   "source": [
    "base_dir = \"/cellar/users/aklie/data/datasets/igvf_sc-islet_10X-Multiome/results/sample_qc\"\n",
    "amulet_bc_paths = glob.glob(os.path.join(base_dir, \"*\", \"atac/amulet/doublet_barcodes.txt\"))\n",
    "amulet_bc_paths[:5], len(amulet_bc_paths)"
   ]
  },
  {
   "cell_type": "code",
   "execution_count": 12,
   "metadata": {},
   "outputs": [
    {
     "data": {
      "text/plain": [
       "(['mo14#AAACCGCGTTTGTCTA-1',\n",
       "  'mo14#AAACGCGCACAATTAC-1',\n",
       "  'mo14#AAAGGAGCATTAAGTC-1',\n",
       "  'mo14#AAAGGCTCAAGGACCA-1',\n",
       "  'mo14#AAAGGTTAGCTAAGTC-1'],\n",
       " 25023)"
      ]
     },
     "execution_count": 12,
     "metadata": {},
     "output_type": "execute_result"
    }
   ],
   "source": [
    "# Concat\n",
    "amulet_bcs = []\n",
    "num_doublets = {}\n",
    "for path in amulet_bc_paths:\n",
    "    sample = path.split(\"/\")[-4]\n",
    "    curr_bcs = pd.read_csv(path, sep=\"\\t\", header=None)[0].tolist()\n",
    "    curr_bcs = [sample + \"#\" + bc for bc in curr_bcs]\n",
    "    num_doublets[sample] = len(curr_bcs)\n",
    "    amulet_bcs.extend(curr_bcs)\n",
    "amulet_bcs[:5], len(amulet_bcs)"
   ]
  },
  {
   "cell_type": "markdown",
   "metadata": {},
   "source": [
    "# Write"
   ]
  },
  {
   "cell_type": "code",
   "execution_count": 13,
   "metadata": {},
   "outputs": [
    {
     "data": {
      "text/plain": [
       "48"
      ]
     },
     "execution_count": 13,
     "metadata": {},
     "output_type": "execute_result"
    }
   ],
   "source": [
    "# Print total number of samples with doublets\n",
    "len(num_doublets)"
   ]
  },
  {
   "cell_type": "code",
   "execution_count": 15,
   "metadata": {},
   "outputs": [
    {
     "data": {
      "text/plain": [
       "521.3125"
      ]
     },
     "execution_count": 15,
     "metadata": {},
     "output_type": "execute_result"
    }
   ],
   "source": [
    "# Average per sample\n",
    "avg_doublets = sum(num_doublets.values()) / len(num_doublets)\n",
    "avg_doublets"
   ]
  },
  {
   "cell_type": "code",
   "execution_count": 16,
   "metadata": {},
   "outputs": [],
   "source": [
    "with open(\"/cellar/users/aklie/data/datasets/igvf_sc-islet_10X-Multiome/results/3_sample_qc/amulet_bcs.txt\", \"w\") as f:\n",
    "    f.write(\"\\n\".join(amulet_bcs))"
   ]
  },
  {
   "cell_type": "code",
   "execution_count": 17,
   "metadata": {},
   "outputs": [],
   "source": [
    "# Save number of doublets per sample\n",
    "pd.Series(num_doublets).to_csv(\"/cellar/users/aklie/data/datasets/igvf_sc-islet_10X-Multiome/results/3_sample_qc/num_doublets_per_sample.csv\")"
   ]
  },
  {
   "cell_type": "markdown",
   "metadata": {},
   "source": [
    "# Load previous AMULET annotations from Mei\n",
    "These were transferred from the Gaulton lab server from one of Mei's early runs of AMULET\n",
    "These were compared to CellCommander calls and matched up very well, though not perfectly: /cellar/users/aklie/data/datasets/igvf_sc-islet_10X-Multiome/bin/data_exploration/scATACseq/2023_10_23_amulet_sanity_checks.ipynb"
   ]
  },
  {
   "cell_type": "code",
   "execution_count": 7,
   "metadata": {},
   "outputs": [],
   "source": [
    "import matplotlib.pyplot as plt\n",
    "import seaborn as sns"
   ]
  },
  {
   "cell_type": "code",
   "execution_count": 8,
   "metadata": {},
   "outputs": [
    {
     "data": {
      "text/plain": [
       "(['/cellar/users/aklie/data/datasets/igvf_sc-islet_10X-Multiome/archive/annotation/previous/2023_10_04/amulet/igvf_dm35a_deep/MultipletBarcodes_01.txt',\n",
       "  '/cellar/users/aklie/data/datasets/igvf_sc-islet_10X-Multiome/archive/annotation/previous/2023_10_04/amulet/igvf_dm23a_deep/MultipletBarcodes_01.txt',\n",
       "  '/cellar/users/aklie/data/datasets/igvf_sc-islet_10X-Multiome/archive/annotation/previous/2023_10_04/amulet/igvf_mo26_deep/MultipletBarcodes_01.txt',\n",
       "  '/cellar/users/aklie/data/datasets/igvf_sc-islet_10X-Multiome/archive/annotation/previous/2023_10_04/amulet/igvf_dm34a_deep/MultipletBarcodes_01.txt',\n",
       "  '/cellar/users/aklie/data/datasets/igvf_sc-islet_10X-Multiome/archive/annotation/previous/2023_10_04/amulet/igvf_mo3_deep/MultipletBarcodes_01.txt'],\n",
       " 27)"
      ]
     },
     "execution_count": 8,
     "metadata": {},
     "output_type": "execute_result"
    }
   ],
   "source": [
    "# Load previous AMULET annotations from Mei\n",
    "previous_dir = \"/cellar/users/aklie/data/datasets/igvf_sc-islet_10X-Multiome/archive/annotation/previous/2023_10_04/amulet\"\n",
    "amulet_bc_paths = glob.glob(os.path.join(previous_dir, \"*\", \"MultipletBarcodes_01.txt\"))\n",
    "amulet_bc_paths[:5], len(amulet_bc_paths)"
   ]
  },
  {
   "cell_type": "code",
   "execution_count": 9,
   "metadata": {},
   "outputs": [
    {
     "data": {
      "text/plain": [
       "(['dm35a#GGCTAGTGTTCCGGCT-1',\n",
       "  'dm35a#GCTGCACAGCAACATC-1',\n",
       "  'dm35a#GCTGCACAGGGTTATC-1',\n",
       "  'dm35a#ATGTTCAAGGTGCTGC-1',\n",
       "  'dm35a#TGACCAAGTGTCCAGG-1'],\n",
       " 14122)"
      ]
     },
     "execution_count": 9,
     "metadata": {},
     "output_type": "execute_result"
    }
   ],
   "source": [
    "# Concat\n",
    "prev_amulet_bcs = []\n",
    "prev_num_doublets = {}\n",
    "for path in amulet_bc_paths:\n",
    "    sample = path.split(\"/\")[-2].split(\"_\")[1]\n",
    "    curr_bcs = pd.read_csv(path, sep=\"\\t\", header=None)[0].tolist()\n",
    "    curr_bcs = [sample + \"#\" + bc for bc in curr_bcs]\n",
    "    prev_num_doublets[sample] = len(curr_bcs)\n",
    "    prev_amulet_bcs.extend(curr_bcs)\n",
    "prev_amulet_bcs[:5], len(prev_amulet_bcs)"
   ]
  },
  {
   "cell_type": "code",
   "execution_count": 10,
   "metadata": {},
   "outputs": [],
   "source": [
    "# Make a dataframe with rows for each sample and columns for num cells and num doublets for meis and my doublet calling\n",
    "num_df = pd.DataFrame()\n",
    "num_df[\"sample\"] = list(num_doublets.keys())\n",
    "num_df[\"num_doublets\"] = list(num_doublets.values())\n",
    "for sample in prev_num_doublets:\n",
    "    num_df.loc[num_df[\"sample\"] == sample, \"num_doublets_mei\"] = prev_num_doublets[sample]"
   ]
  },
  {
   "cell_type": "code",
   "execution_count": 11,
   "metadata": {},
   "outputs": [
    {
     "data": {
      "image/png": "[encoded data removed]",
      "text/plain": [
       "<Figure size 360x360 with 1 Axes>"
      ]
     },
     "metadata": {
      "needs_background": "light"
     },
     "output_type": "display_data"
    }
   ],
   "source": [
    "# Plot scatterplots on same fig for both num_cells and num_doublets against each other\n",
    "fig, ax = plt.subplots(1, 1, figsize=(5, 5))\n",
    "sns.scatterplot(x=\"num_doublets_mei\", y=\"num_doublets\", data=num_df, ax=ax)\n",
    "ax.set_xlabel(\"Mei's num doublets\")\n",
    "ax.set_ylabel(\"My num doublets\")\n",
    "ax.plot([0, num_df[\"num_doublets_mei\"].max()], [0, num_df[\"num_doublets_mei\"].max()], ls=\"--\", c=\".3\")\n",
    "plt.tight_layout()"
   ]
  },
  {
   "cell_type": "code",
   "execution_count": 12,
   "metadata": {},
   "outputs": [],
   "source": [
    "# Venn diagram of doublets\n",
    "from matplotlib_venn import venn2"
   ]
  },
  {
   "cell_type": "code",
   "execution_count": 13,
   "metadata": {},
   "outputs": [
    {
     "data": {
      "text/plain": [
       "<matplotlib_venn._common.VennDiagram at 0x15550ed2d990>"
      ]
     },
     "execution_count": 13,
     "metadata": {},
     "output_type": "execute_result"
    },
    {
     "data": {
      "image/png": "[encoded data removed]",
      "text/plain": [
       "<Figure size 360x360 with 1 Axes>"
      ]
     },
     "metadata": {},
     "output_type": "display_data"
    }
   ],
   "source": [
    "fig, ax = plt.subplots(1, 1, figsize=(5, 5))\n",
    "venn2([set(prev_amulet_bcs), set(amulet_bcs)], set_labels=(\"Mei\", \"Adam\"))"
   ]
  },
  {
   "cell_type": "markdown",
   "metadata": {},
   "source": [
    "# DONE!"
   ]
  },
  {
   "cell_type": "markdown",
   "metadata": {},
   "source": [
    "---"
   ]
  }
 ],
 "metadata": {
  "kernelspec": {
   "display_name": "Python 3.7 get_data",
   "language": "python",
   "name": "get_data"
  },
  "orig_nbformat": 4
 },
 "nbformat": 4,
 "nbformat_minor": 2
}
